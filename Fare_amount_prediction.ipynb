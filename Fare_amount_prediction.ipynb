{
 "cells": [
  {
   "cell_type": "code",
   "execution_count": 2,
   "metadata": {},
   "outputs": [],
   "source": [
    "# Importing the libraries\n",
    "import numpy as np\n",
    "import pandas as pd\n",
    "import seaborn as sns\n",
    "from scipy import stats\n",
    "import matplotlib.pyplot as plt\n",
    "import warnings\n",
    "warnings.filterwarnings('ignore')\n",
    "from geopy.distance import geodesic\n",
    "from sklearn.preprocessing import StandardScaler\n",
    "from sklearn.model_selection import train_test_split\n",
    "#implementing Ridge and Lasso regression\n",
    "from sklearn.linear_model import Ridge\n",
    "from sklearn.linear_model import Lasso\n",
    "from sklearn.linear_model import LinearRegression\n",
    "from sklearn.preprocessing import PolynomialFeatures\n",
    "from sklearn.ensemble import RandomForestRegressor\n",
    "from sklearn.ensemble import GradientBoostingRegressor\n",
    "from sklearn.tree import DecisionTreeRegressor\n",
    "from xgboost import XGBRegressor\n",
    "from lightgbm import LGBMRegressor\n",
    "from sklearn.metrics import r2_score\n",
    "from sklearn.metrics import mean_squared_error\n",
    "from sklearn.metrics import mean_absolute_error\n",
    "from skopt import BayesSearchCV\n",
    "from sklearn.model_selection import RandomizedSearchCV\n",
    "from skopt.space import Real, Categorical, Integer\n"
   ]
  },
  {
   "cell_type": "code",
   "execution_count": 3,
   "metadata": {},
   "outputs": [],
   "source": [
    "#importing dataframe\n",
    "from codecs import utf_16_decode\n",
    "\n",
    "\n",
    "df=pd.read_csv(r'C:\\Users\\1900120\\Downloads\\Fare amount prediction\\trip.csv')"
   ]
  },
  {
   "cell_type": "code",
   "execution_count": 4,
   "metadata": {},
   "outputs": [
    {
     "data": {
      "text/html": [
       "<div>\n",
       "<style scoped>\n",
       "    .dataframe tbody tr th:only-of-type {\n",
       "        vertical-align: middle;\n",
       "    }\n",
       "\n",
       "    .dataframe tbody tr th {\n",
       "        vertical-align: top;\n",
       "    }\n",
       "\n",
       "    .dataframe thead th {\n",
       "        text-align: right;\n",
       "    }\n",
       "</style>\n",
       "<table border=\"1\" class=\"dataframe\">\n",
       "  <thead>\n",
       "    <tr style=\"text-align: right;\">\n",
       "      <th></th>\n",
       "      <th>index</th>\n",
       "      <th>key</th>\n",
       "      <th>fare_amount</th>\n",
       "      <th>pickup_datetime</th>\n",
       "      <th>pickup_longitude</th>\n",
       "      <th>pickup_latitude</th>\n",
       "      <th>dropoff_longitude</th>\n",
       "      <th>dropoff_latitude</th>\n",
       "      <th>passenger_count</th>\n",
       "    </tr>\n",
       "  </thead>\n",
       "  <tbody>\n",
       "    <tr>\n",
       "      <th>0</th>\n",
       "      <td>24238194</td>\n",
       "      <td>2015-05-07 19:52:06.0000003</td>\n",
       "      <td>7.5</td>\n",
       "      <td>2015-05-07 19:52:06 UTC</td>\n",
       "      <td>-73.999817</td>\n",
       "      <td>40.738354</td>\n",
       "      <td>-73.999512</td>\n",
       "      <td>40.723217</td>\n",
       "      <td>1</td>\n",
       "    </tr>\n",
       "    <tr>\n",
       "      <th>1</th>\n",
       "      <td>27835199</td>\n",
       "      <td>2009-07-17 20:04:56.0000002</td>\n",
       "      <td>7.7</td>\n",
       "      <td>2009-07-17 20:04:56 UTC</td>\n",
       "      <td>-73.994355</td>\n",
       "      <td>40.728225</td>\n",
       "      <td>-73.994710</td>\n",
       "      <td>40.750325</td>\n",
       "      <td>1</td>\n",
       "    </tr>\n",
       "    <tr>\n",
       "      <th>2</th>\n",
       "      <td>44984355</td>\n",
       "      <td>2009-08-24 21:45:00.00000061</td>\n",
       "      <td>12.9</td>\n",
       "      <td>2009-08-24 21:45:00 UTC</td>\n",
       "      <td>-74.005043</td>\n",
       "      <td>40.740770</td>\n",
       "      <td>-73.962565</td>\n",
       "      <td>40.772647</td>\n",
       "      <td>1</td>\n",
       "    </tr>\n",
       "    <tr>\n",
       "      <th>3</th>\n",
       "      <td>25894730</td>\n",
       "      <td>2009-06-26 08:22:21.0000001</td>\n",
       "      <td>5.3</td>\n",
       "      <td>2009-06-26 08:22:21 UTC</td>\n",
       "      <td>-73.976124</td>\n",
       "      <td>40.790844</td>\n",
       "      <td>-73.965316</td>\n",
       "      <td>40.803349</td>\n",
       "      <td>3</td>\n",
       "    </tr>\n",
       "    <tr>\n",
       "      <th>4</th>\n",
       "      <td>17610152</td>\n",
       "      <td>2014-08-28 17:47:00.000000188</td>\n",
       "      <td>16.0</td>\n",
       "      <td>2014-08-28 17:47:00 UTC</td>\n",
       "      <td>-73.925023</td>\n",
       "      <td>40.744085</td>\n",
       "      <td>-73.973082</td>\n",
       "      <td>40.761247</td>\n",
       "      <td>5</td>\n",
       "    </tr>\n",
       "  </tbody>\n",
       "</table>\n",
       "</div>"
      ],
      "text/plain": [
       "      index                            key  fare_amount  \\\n",
       "0  24238194    2015-05-07 19:52:06.0000003          7.5   \n",
       "1  27835199    2009-07-17 20:04:56.0000002          7.7   \n",
       "2  44984355   2009-08-24 21:45:00.00000061         12.9   \n",
       "3  25894730    2009-06-26 08:22:21.0000001          5.3   \n",
       "4  17610152  2014-08-28 17:47:00.000000188         16.0   \n",
       "\n",
       "           pickup_datetime  pickup_longitude  pickup_latitude  \\\n",
       "0  2015-05-07 19:52:06 UTC        -73.999817        40.738354   \n",
       "1  2009-07-17 20:04:56 UTC        -73.994355        40.728225   \n",
       "2  2009-08-24 21:45:00 UTC        -74.005043        40.740770   \n",
       "3  2009-06-26 08:22:21 UTC        -73.976124        40.790844   \n",
       "4  2014-08-28 17:47:00 UTC        -73.925023        40.744085   \n",
       "\n",
       "   dropoff_longitude  dropoff_latitude  passenger_count  \n",
       "0         -73.999512         40.723217                1  \n",
       "1         -73.994710         40.750325                1  \n",
       "2         -73.962565         40.772647                1  \n",
       "3         -73.965316         40.803349                3  \n",
       "4         -73.973082         40.761247                5  "
      ]
     },
     "execution_count": 4,
     "metadata": {},
     "output_type": "execute_result"
    }
   ],
   "source": [
    "df.head()"
   ]
  },
  {
   "cell_type": "code",
   "execution_count": 6,
   "metadata": {},
   "outputs": [
    {
     "data": {
      "text/plain": [
       "(200000, 9)"
      ]
     },
     "execution_count": 6,
     "metadata": {},
     "output_type": "execute_result"
    }
   ],
   "source": [
    "df.shape"
   ]
  },
  {
   "cell_type": "code",
   "execution_count": 5,
   "metadata": {},
   "outputs": [
    {
     "data": {
      "text/plain": [
       "index                  int64\n",
       "key                   object\n",
       "fare_amount          float64\n",
       "pickup_datetime       object\n",
       "pickup_longitude     float64\n",
       "pickup_latitude      float64\n",
       "dropoff_longitude    float64\n",
       "dropoff_latitude     float64\n",
       "passenger_count        int64\n",
       "dtype: object"
      ]
     },
     "execution_count": 5,
     "metadata": {},
     "output_type": "execute_result"
    }
   ],
   "source": [
    "#checking dtypes of data\n",
    "df.dtypes"
   ]
  },
  {
   "cell_type": "code",
   "execution_count": 7,
   "metadata": {},
   "outputs": [
    {
     "name": "stdout",
     "output_type": "stream",
     "text": [
      "<class 'pandas.core.frame.DataFrame'>\n",
      "RangeIndex: 200000 entries, 0 to 199999\n",
      "Data columns (total 9 columns):\n",
      " #   Column             Non-Null Count   Dtype  \n",
      "---  ------             --------------   -----  \n",
      " 0   index              200000 non-null  int64  \n",
      " 1   key                200000 non-null  object \n",
      " 2   fare_amount        200000 non-null  float64\n",
      " 3   pickup_datetime    200000 non-null  object \n",
      " 4   pickup_longitude   200000 non-null  float64\n",
      " 5   pickup_latitude    200000 non-null  float64\n",
      " 6   dropoff_longitude  199999 non-null  float64\n",
      " 7   dropoff_latitude   199999 non-null  float64\n",
      " 8   passenger_count    200000 non-null  int64  \n",
      "dtypes: float64(5), int64(2), object(2)\n",
      "memory usage: 13.7+ MB\n"
     ]
    }
   ],
   "source": [
    "#checking info of dataset\n",
    "df.info()"
   ]
  },
  {
   "cell_type": "code",
   "execution_count": 8,
   "metadata": {},
   "outputs": [],
   "source": [
    "#droping nun\n",
    "df.dropna(inplace=True)"
   ]
  },
  {
   "cell_type": "code",
   "execution_count": 9,
   "metadata": {},
   "outputs": [
    {
     "data": {
      "text/plain": [
       "199999"
      ]
     },
     "execution_count": 9,
     "metadata": {},
     "output_type": "execute_result"
    }
   ],
   "source": [
    "df.index.nunique()"
   ]
  },
  {
   "cell_type": "code",
   "execution_count": 10,
   "metadata": {},
   "outputs": [
    {
     "name": "stdout",
     "output_type": "stream",
     "text": [
      "index 199999\n",
      "key 199999\n",
      "fare_amount 1244\n",
      "pickup_datetime 196628\n",
      "pickup_longitude 71065\n",
      "pickup_latitude 83835\n",
      "dropoff_longitude 76894\n",
      "dropoff_latitude 90585\n",
      "passenger_count 8\n"
     ]
    }
   ],
   "source": [
    "#checking unique count \n",
    "for i in df.columns:\n",
    "    print(i,df[i].nunique())"
   ]
  },
  {
   "cell_type": "markdown",
   "metadata": {},
   "source": [
    "index and key are contains unique value in all the rows we can drop that "
   ]
  },
  {
   "cell_type": "code",
   "execution_count": 11,
   "metadata": {},
   "outputs": [
    {
     "data": {
      "text/html": [
       "<div>\n",
       "<style scoped>\n",
       "    .dataframe tbody tr th:only-of-type {\n",
       "        vertical-align: middle;\n",
       "    }\n",
       "\n",
       "    .dataframe tbody tr th {\n",
       "        vertical-align: top;\n",
       "    }\n",
       "\n",
       "    .dataframe thead th {\n",
       "        text-align: right;\n",
       "    }\n",
       "</style>\n",
       "<table border=\"1\" class=\"dataframe\">\n",
       "  <thead>\n",
       "    <tr style=\"text-align: right;\">\n",
       "      <th></th>\n",
       "      <th>index</th>\n",
       "      <th>fare_amount</th>\n",
       "      <th>pickup_longitude</th>\n",
       "      <th>pickup_latitude</th>\n",
       "      <th>dropoff_longitude</th>\n",
       "      <th>dropoff_latitude</th>\n",
       "      <th>passenger_count</th>\n",
       "    </tr>\n",
       "  </thead>\n",
       "  <tbody>\n",
       "    <tr>\n",
       "      <th>count</th>\n",
       "      <td>1.999990e+05</td>\n",
       "      <td>199999.000000</td>\n",
       "      <td>199999.000000</td>\n",
       "      <td>199999.000000</td>\n",
       "      <td>199999.000000</td>\n",
       "      <td>199999.000000</td>\n",
       "      <td>199999.000000</td>\n",
       "    </tr>\n",
       "    <tr>\n",
       "      <th>mean</th>\n",
       "      <td>2.771248e+07</td>\n",
       "      <td>11.359892</td>\n",
       "      <td>-72.527631</td>\n",
       "      <td>39.935881</td>\n",
       "      <td>-72.525292</td>\n",
       "      <td>39.923890</td>\n",
       "      <td>1.684543</td>\n",
       "    </tr>\n",
       "    <tr>\n",
       "      <th>std</th>\n",
       "      <td>1.601386e+07</td>\n",
       "      <td>9.901760</td>\n",
       "      <td>11.437815</td>\n",
       "      <td>7.720558</td>\n",
       "      <td>13.117408</td>\n",
       "      <td>6.794829</td>\n",
       "      <td>1.385995</td>\n",
       "    </tr>\n",
       "    <tr>\n",
       "      <th>min</th>\n",
       "      <td>1.000000e+00</td>\n",
       "      <td>-52.000000</td>\n",
       "      <td>-1340.648410</td>\n",
       "      <td>-74.015515</td>\n",
       "      <td>-3356.666300</td>\n",
       "      <td>-881.985513</td>\n",
       "      <td>0.000000</td>\n",
       "    </tr>\n",
       "    <tr>\n",
       "      <th>25%</th>\n",
       "      <td>1.382534e+07</td>\n",
       "      <td>6.000000</td>\n",
       "      <td>-73.992065</td>\n",
       "      <td>40.734796</td>\n",
       "      <td>-73.991407</td>\n",
       "      <td>40.733823</td>\n",
       "      <td>1.000000</td>\n",
       "    </tr>\n",
       "    <tr>\n",
       "      <th>50%</th>\n",
       "      <td>2.774524e+07</td>\n",
       "      <td>8.500000</td>\n",
       "      <td>-73.981823</td>\n",
       "      <td>40.752592</td>\n",
       "      <td>-73.980093</td>\n",
       "      <td>40.753042</td>\n",
       "      <td>1.000000</td>\n",
       "    </tr>\n",
       "    <tr>\n",
       "      <th>75%</th>\n",
       "      <td>4.155535e+07</td>\n",
       "      <td>12.500000</td>\n",
       "      <td>-73.967154</td>\n",
       "      <td>40.767158</td>\n",
       "      <td>-73.963658</td>\n",
       "      <td>40.768001</td>\n",
       "      <td>2.000000</td>\n",
       "    </tr>\n",
       "    <tr>\n",
       "      <th>max</th>\n",
       "      <td>5.542357e+07</td>\n",
       "      <td>499.000000</td>\n",
       "      <td>57.418457</td>\n",
       "      <td>1644.421482</td>\n",
       "      <td>1153.572603</td>\n",
       "      <td>872.697628</td>\n",
       "      <td>208.000000</td>\n",
       "    </tr>\n",
       "  </tbody>\n",
       "</table>\n",
       "</div>"
      ],
      "text/plain": [
       "              index    fare_amount  pickup_longitude  pickup_latitude  \\\n",
       "count  1.999990e+05  199999.000000     199999.000000    199999.000000   \n",
       "mean   2.771248e+07      11.359892        -72.527631        39.935881   \n",
       "std    1.601386e+07       9.901760         11.437815         7.720558   \n",
       "min    1.000000e+00     -52.000000      -1340.648410       -74.015515   \n",
       "25%    1.382534e+07       6.000000        -73.992065        40.734796   \n",
       "50%    2.774524e+07       8.500000        -73.981823        40.752592   \n",
       "75%    4.155535e+07      12.500000        -73.967154        40.767158   \n",
       "max    5.542357e+07     499.000000         57.418457      1644.421482   \n",
       "\n",
       "       dropoff_longitude  dropoff_latitude  passenger_count  \n",
       "count      199999.000000     199999.000000    199999.000000  \n",
       "mean          -72.525292         39.923890         1.684543  \n",
       "std            13.117408          6.794829         1.385995  \n",
       "min         -3356.666300       -881.985513         0.000000  \n",
       "25%           -73.991407         40.733823         1.000000  \n",
       "50%           -73.980093         40.753042         1.000000  \n",
       "75%           -73.963658         40.768001         2.000000  \n",
       "max          1153.572603        872.697628       208.000000  "
      ]
     },
     "execution_count": 11,
     "metadata": {},
     "output_type": "execute_result"
    }
   ],
   "source": [
    "#checking statistical info of data\n",
    "df.describe()"
   ]
  },
  {
   "cell_type": "markdown",
   "metadata": {},
   "source": [
    "##Exploratory Data Analysis"
   ]
  },
  {
   "cell_type": "code",
   "execution_count": 12,
   "metadata": {},
   "outputs": [
    {
     "data": {
      "text/plain": [
       "((array([-4.49578133, -4.30332924, -4.1988695 , ...,  4.1988695 ,\n",
       "          4.30332924,  4.49578133]),\n",
       "  array([-52. , -52. , -50.5, ..., 275. , 350. , 499. ])),\n",
       " (7.917393426371685, 11.359891549457744, 0.7995780497410335))"
      ]
     },
     "execution_count": 12,
     "metadata": {},
     "output_type": "execute_result"
    }
   ],
   "source": [
    "fig,ax=plt.subplots(1,3, figsize=(15,8))\n",
    "sns.distplot(df.fare_amount,ax=ax[0])\n",
    "sns.boxplot(df.fare_amount, ax=ax[1])\n",
    "stats.probplot(df.fare_amount,plot=plt)"
   ]
  },
  {
   "cell_type": "code",
   "execution_count": 64,
   "metadata": {},
   "outputs": [
    {
     "data": {
      "image/png": "[encoded data removed]",
      "text/plain": [
       "<Figure size 1080x1080 with 9 Axes>"
      ]
     },
     "metadata": {
      "needs_background": "light"
     },
     "output_type": "display_data"
    }
   ],
   "source": [
    "# Freq distribution of all data\n",
    "fig, ax = plt.subplots(figsize=(15,15))\n",
    "pd.DataFrame.hist(data=df,ax=ax)\n",
    "plt.tight_layout()"
   ]
  },
  {
   "cell_type": "code",
   "execution_count": 13,
   "metadata": {
    "tags": [
     "#we can observe all the columns having skewness "
    ]
   },
   "outputs": [
    {
     "data": {
      "text/plain": [
       "index                -0.001823\n",
       "fare_amount           4.504900\n",
       "pickup_longitude     -7.495874\n",
       "pickup_latitude      62.976706\n",
       "dropoff_longitude   -71.505102\n",
       "dropoff_latitude     -8.031012\n",
       "passenger_count      18.145667\n",
       "dtype: float64"
      ]
     },
     "execution_count": 13,
     "metadata": {},
     "output_type": "execute_result"
    }
   ],
   "source": [
    "df.skew()"
   ]
  },
  {
   "cell_type": "code",
   "execution_count": 14,
   "metadata": {},
   "outputs": [],
   "source": [
    "#extracting date month time from date time columns\n",
    "df[\"dates\"]=pd.to_datetime(df['pickup_datetime'])\n",
    "df['months']=df[\"dates\"].dt.month\n",
    "df['hour']=df[\"dates\"].dt.hour\n",
    "df['day']=df[\"dates\"].dt.day\n",
    "df['year']=df[\"dates\"].dt.year\n",
    "df['min']=df['dates'].dt.minute\n"
   ]
  },
  {
   "cell_type": "code",
   "execution_count": 15,
   "metadata": {},
   "outputs": [
    {
     "data": {
      "text/html": [
       "<div>\n",
       "<style scoped>\n",
       "    .dataframe tbody tr th:only-of-type {\n",
       "        vertical-align: middle;\n",
       "    }\n",
       "\n",
       "    .dataframe tbody tr th {\n",
       "        vertical-align: top;\n",
       "    }\n",
       "\n",
       "    .dataframe thead th {\n",
       "        text-align: right;\n",
       "    }\n",
       "</style>\n",
       "<table border=\"1\" class=\"dataframe\">\n",
       "  <thead>\n",
       "    <tr style=\"text-align: right;\">\n",
       "      <th></th>\n",
       "      <th>index</th>\n",
       "      <th>key</th>\n",
       "      <th>fare_amount</th>\n",
       "      <th>pickup_datetime</th>\n",
       "      <th>pickup_longitude</th>\n",
       "      <th>pickup_latitude</th>\n",
       "      <th>dropoff_longitude</th>\n",
       "      <th>dropoff_latitude</th>\n",
       "      <th>passenger_count</th>\n",
       "      <th>dates</th>\n",
       "      <th>months</th>\n",
       "      <th>hour</th>\n",
       "      <th>day</th>\n",
       "      <th>year</th>\n",
       "      <th>min</th>\n",
       "    </tr>\n",
       "  </thead>\n",
       "  <tbody>\n",
       "    <tr>\n",
       "      <th>0</th>\n",
       "      <td>24238194</td>\n",
       "      <td>2015-05-07 19:52:06.0000003</td>\n",
       "      <td>7.5</td>\n",
       "      <td>2015-05-07 19:52:06 UTC</td>\n",
       "      <td>-73.999817</td>\n",
       "      <td>40.738354</td>\n",
       "      <td>-73.999512</td>\n",
       "      <td>40.723217</td>\n",
       "      <td>1</td>\n",
       "      <td>2015-05-07 19:52:06+00:00</td>\n",
       "      <td>5</td>\n",
       "      <td>19</td>\n",
       "      <td>7</td>\n",
       "      <td>2015</td>\n",
       "      <td>52</td>\n",
       "    </tr>\n",
       "    <tr>\n",
       "      <th>1</th>\n",
       "      <td>27835199</td>\n",
       "      <td>2009-07-17 20:04:56.0000002</td>\n",
       "      <td>7.7</td>\n",
       "      <td>2009-07-17 20:04:56 UTC</td>\n",
       "      <td>-73.994355</td>\n",
       "      <td>40.728225</td>\n",
       "      <td>-73.994710</td>\n",
       "      <td>40.750325</td>\n",
       "      <td>1</td>\n",
       "      <td>2009-07-17 20:04:56+00:00</td>\n",
       "      <td>7</td>\n",
       "      <td>20</td>\n",
       "      <td>17</td>\n",
       "      <td>2009</td>\n",
       "      <td>4</td>\n",
       "    </tr>\n",
       "    <tr>\n",
       "      <th>2</th>\n",
       "      <td>44984355</td>\n",
       "      <td>2009-08-24 21:45:00.00000061</td>\n",
       "      <td>12.9</td>\n",
       "      <td>2009-08-24 21:45:00 UTC</td>\n",
       "      <td>-74.005043</td>\n",
       "      <td>40.740770</td>\n",
       "      <td>-73.962565</td>\n",
       "      <td>40.772647</td>\n",
       "      <td>1</td>\n",
       "      <td>2009-08-24 21:45:00+00:00</td>\n",
       "      <td>8</td>\n",
       "      <td>21</td>\n",
       "      <td>24</td>\n",
       "      <td>2009</td>\n",
       "      <td>45</td>\n",
       "    </tr>\n",
       "    <tr>\n",
       "      <th>3</th>\n",
       "      <td>25894730</td>\n",
       "      <td>2009-06-26 08:22:21.0000001</td>\n",
       "      <td>5.3</td>\n",
       "      <td>2009-06-26 08:22:21 UTC</td>\n",
       "      <td>-73.976124</td>\n",
       "      <td>40.790844</td>\n",
       "      <td>-73.965316</td>\n",
       "      <td>40.803349</td>\n",
       "      <td>3</td>\n",
       "      <td>2009-06-26 08:22:21+00:00</td>\n",
       "      <td>6</td>\n",
       "      <td>8</td>\n",
       "      <td>26</td>\n",
       "      <td>2009</td>\n",
       "      <td>22</td>\n",
       "    </tr>\n",
       "    <tr>\n",
       "      <th>4</th>\n",
       "      <td>17610152</td>\n",
       "      <td>2014-08-28 17:47:00.000000188</td>\n",
       "      <td>16.0</td>\n",
       "      <td>2014-08-28 17:47:00 UTC</td>\n",
       "      <td>-73.925023</td>\n",
       "      <td>40.744085</td>\n",
       "      <td>-73.973082</td>\n",
       "      <td>40.761247</td>\n",
       "      <td>5</td>\n",
       "      <td>2014-08-28 17:47:00+00:00</td>\n",
       "      <td>8</td>\n",
       "      <td>17</td>\n",
       "      <td>28</td>\n",
       "      <td>2014</td>\n",
       "      <td>47</td>\n",
       "    </tr>\n",
       "  </tbody>\n",
       "</table>\n",
       "</div>"
      ],
      "text/plain": [
       "      index                            key  fare_amount  \\\n",
       "0  24238194    2015-05-07 19:52:06.0000003          7.5   \n",
       "1  27835199    2009-07-17 20:04:56.0000002          7.7   \n",
       "2  44984355   2009-08-24 21:45:00.00000061         12.9   \n",
       "3  25894730    2009-06-26 08:22:21.0000001          5.3   \n",
       "4  17610152  2014-08-28 17:47:00.000000188         16.0   \n",
       "\n",
       "           pickup_datetime  pickup_longitude  pickup_latitude  \\\n",
       "0  2015-05-07 19:52:06 UTC        -73.999817        40.738354   \n",
       "1  2009-07-17 20:04:56 UTC        -73.994355        40.728225   \n",
       "2  2009-08-24 21:45:00 UTC        -74.005043        40.740770   \n",
       "3  2009-06-26 08:22:21 UTC        -73.976124        40.790844   \n",
       "4  2014-08-28 17:47:00 UTC        -73.925023        40.744085   \n",
       "\n",
       "   dropoff_longitude  dropoff_latitude  passenger_count  \\\n",
       "0         -73.999512         40.723217                1   \n",
       "1         -73.994710         40.750325                1   \n",
       "2         -73.962565         40.772647                1   \n",
       "3         -73.965316         40.803349                3   \n",
       "4         -73.973082         40.761247                5   \n",
       "\n",
       "                      dates  months  hour  day  year  min  \n",
       "0 2015-05-07 19:52:06+00:00       5    19    7  2015   52  \n",
       "1 2009-07-17 20:04:56+00:00       7    20   17  2009    4  \n",
       "2 2009-08-24 21:45:00+00:00       8    21   24  2009   45  \n",
       "3 2009-06-26 08:22:21+00:00       6     8   26  2009   22  \n",
       "4 2014-08-28 17:47:00+00:00       8    17   28  2014   47  "
      ]
     },
     "execution_count": 15,
     "metadata": {},
     "output_type": "execute_result"
    }
   ],
   "source": [
    "df.head()"
   ]
  },
  {
   "cell_type": "code",
   "execution_count": 68,
   "metadata": {},
   "outputs": [],
   "source": [
    "df1=pd.DataFrame()\n",
    "df2=pd.DataFrame()"
   ]
  },
  {
   "cell_type": "code",
   "execution_count": 16,
   "metadata": {},
   "outputs": [],
   "source": [
    "df=df[df['fare_amount']>=0 ]\n",
    "df=df[df['passenger_count']<10]\n",
    "df=df[(df['pickup_latitude']<=90.0) & (df['pickup_latitude']>=-90.0)]\n",
    "df=df[(df['dropoff_latitude']<=90.0) & (df['dropoff_latitude']>=-90.0)]\n",
    "df=df[(df['pickup_longitude']<=180.0) & (df['pickup_longitude']>=-180.0)]\n",
    "df=df[(df['dropoff_longitude']<=180.0) & (df['dropoff_longitude']>=-180.0)]"
   ]
  },
  {
   "cell_type": "code",
   "execution_count": 17,
   "metadata": {},
   "outputs": [
    {
     "data": {
      "text/plain": [
       "(199969, 15)"
      ]
     },
     "execution_count": 17,
     "metadata": {},
     "output_type": "execute_result"
    }
   ],
   "source": [
    "df.shape"
   ]
  },
  {
   "cell_type": "code",
   "execution_count": 18,
   "metadata": {},
   "outputs": [
    {
     "data": {
      "text/html": [
       "\n",
       "        <iframe\n",
       "            width=\"100%\"\n",
       "            height=\"475\"\n",
       "            src=\"http://WFPBLRITLAP684:40000/dtale/iframe/1\"\n",
       "            frameborder=\"0\"\n",
       "            allowfullscreen\n",
       "            \n",
       "        ></iframe>\n",
       "        "
      ],
      "text/plain": [
       "<IPython.lib.display.IFrame at 0x1b23cf51a60>"
      ]
     },
     "metadata": {},
     "output_type": "display_data"
    },
    {
     "data": {
      "text/plain": []
     },
     "execution_count": 18,
     "metadata": {},
     "output_type": "execute_result"
    },
    {
     "name": "stdout",
     "output_type": "stream",
     "text": [
      "Executing shutdown due to inactivity...\n"
     ]
    },
    {
     "name": "stderr",
     "output_type": "stream",
     "text": [
      "2022-10-15 13:14:51,190 - INFO     - Executing shutdown due to inactivity...\n"
     ]
    },
    {
     "name": "stdout",
     "output_type": "stream",
     "text": [
      "Executing shutdown...\n"
     ]
    },
    {
     "name": "stderr",
     "output_type": "stream",
     "text": [
      "2022-10-15 13:14:55,326 - INFO     - Executing shutdown...\n"
     ]
    }
   ],
   "source": [
    "import dtale\n",
    "dtale.show(df)"
   ]
  },
  {
   "cell_type": "markdown",
   "metadata": {},
   "source": [
    "Feature selection"
   ]
  },
  {
   "cell_type": "code",
   "execution_count": 72,
   "metadata": {},
   "outputs": [],
   "source": [
    "#droping index and key\n",
    "df.drop(['index','key'],axis=1,inplace=True)"
   ]
  },
  {
   "cell_type": "code",
   "execution_count": 73,
   "metadata": {},
   "outputs": [
    {
     "data": {
      "text/html": [
       "<div>\n",
       "<style scoped>\n",
       "    .dataframe tbody tr th:only-of-type {\n",
       "        vertical-align: middle;\n",
       "    }\n",
       "\n",
       "    .dataframe tbody tr th {\n",
       "        vertical-align: top;\n",
       "    }\n",
       "\n",
       "    .dataframe thead th {\n",
       "        text-align: right;\n",
       "    }\n",
       "</style>\n",
       "<table border=\"1\" class=\"dataframe\">\n",
       "  <thead>\n",
       "    <tr style=\"text-align: right;\">\n",
       "      <th></th>\n",
       "      <th>fare_amount</th>\n",
       "      <th>pickup_datetime</th>\n",
       "      <th>pickup_longitude</th>\n",
       "      <th>pickup_latitude</th>\n",
       "      <th>dropoff_longitude</th>\n",
       "      <th>dropoff_latitude</th>\n",
       "      <th>passenger_count</th>\n",
       "      <th>dates</th>\n",
       "      <th>months</th>\n",
       "      <th>hour</th>\n",
       "      <th>day</th>\n",
       "      <th>year</th>\n",
       "      <th>min</th>\n",
       "    </tr>\n",
       "  </thead>\n",
       "  <tbody>\n",
       "    <tr>\n",
       "      <th>0</th>\n",
       "      <td>7.5</td>\n",
       "      <td>2015-05-07 19:52:06 UTC</td>\n",
       "      <td>-73.999817</td>\n",
       "      <td>40.738354</td>\n",
       "      <td>-73.999512</td>\n",
       "      <td>40.723217</td>\n",
       "      <td>1</td>\n",
       "      <td>2015-05-07 19:52:06+00:00</td>\n",
       "      <td>5</td>\n",
       "      <td>19</td>\n",
       "      <td>7</td>\n",
       "      <td>2015</td>\n",
       "      <td>52</td>\n",
       "    </tr>\n",
       "    <tr>\n",
       "      <th>1</th>\n",
       "      <td>7.7</td>\n",
       "      <td>2009-07-17 20:04:56 UTC</td>\n",
       "      <td>-73.994355</td>\n",
       "      <td>40.728225</td>\n",
       "      <td>-73.994710</td>\n",
       "      <td>40.750325</td>\n",
       "      <td>1</td>\n",
       "      <td>2009-07-17 20:04:56+00:00</td>\n",
       "      <td>7</td>\n",
       "      <td>20</td>\n",
       "      <td>17</td>\n",
       "      <td>2009</td>\n",
       "      <td>4</td>\n",
       "    </tr>\n",
       "    <tr>\n",
       "      <th>2</th>\n",
       "      <td>12.9</td>\n",
       "      <td>2009-08-24 21:45:00 UTC</td>\n",
       "      <td>-74.005043</td>\n",
       "      <td>40.740770</td>\n",
       "      <td>-73.962565</td>\n",
       "      <td>40.772647</td>\n",
       "      <td>1</td>\n",
       "      <td>2009-08-24 21:45:00+00:00</td>\n",
       "      <td>8</td>\n",
       "      <td>21</td>\n",
       "      <td>24</td>\n",
       "      <td>2009</td>\n",
       "      <td>45</td>\n",
       "    </tr>\n",
       "    <tr>\n",
       "      <th>3</th>\n",
       "      <td>5.3</td>\n",
       "      <td>2009-06-26 08:22:21 UTC</td>\n",
       "      <td>-73.976124</td>\n",
       "      <td>40.790844</td>\n",
       "      <td>-73.965316</td>\n",
       "      <td>40.803349</td>\n",
       "      <td>3</td>\n",
       "      <td>2009-06-26 08:22:21+00:00</td>\n",
       "      <td>6</td>\n",
       "      <td>8</td>\n",
       "      <td>26</td>\n",
       "      <td>2009</td>\n",
       "      <td>22</td>\n",
       "    </tr>\n",
       "    <tr>\n",
       "      <th>4</th>\n",
       "      <td>16.0</td>\n",
       "      <td>2014-08-28 17:47:00 UTC</td>\n",
       "      <td>-73.925023</td>\n",
       "      <td>40.744085</td>\n",
       "      <td>-73.973082</td>\n",
       "      <td>40.761247</td>\n",
       "      <td>5</td>\n",
       "      <td>2014-08-28 17:47:00+00:00</td>\n",
       "      <td>8</td>\n",
       "      <td>17</td>\n",
       "      <td>28</td>\n",
       "      <td>2014</td>\n",
       "      <td>47</td>\n",
       "    </tr>\n",
       "    <tr>\n",
       "      <th>...</th>\n",
       "      <td>...</td>\n",
       "      <td>...</td>\n",
       "      <td>...</td>\n",
       "      <td>...</td>\n",
       "      <td>...</td>\n",
       "      <td>...</td>\n",
       "      <td>...</td>\n",
       "      <td>...</td>\n",
       "      <td>...</td>\n",
       "      <td>...</td>\n",
       "      <td>...</td>\n",
       "      <td>...</td>\n",
       "      <td>...</td>\n",
       "    </tr>\n",
       "    <tr>\n",
       "      <th>199995</th>\n",
       "      <td>3.0</td>\n",
       "      <td>2012-10-28 10:49:00 UTC</td>\n",
       "      <td>-73.987042</td>\n",
       "      <td>40.739367</td>\n",
       "      <td>-73.986525</td>\n",
       "      <td>40.740297</td>\n",
       "      <td>1</td>\n",
       "      <td>2012-10-28 10:49:00+00:00</td>\n",
       "      <td>10</td>\n",
       "      <td>10</td>\n",
       "      <td>28</td>\n",
       "      <td>2012</td>\n",
       "      <td>49</td>\n",
       "    </tr>\n",
       "    <tr>\n",
       "      <th>199996</th>\n",
       "      <td>7.5</td>\n",
       "      <td>2014-03-14 01:09:00 UTC</td>\n",
       "      <td>-73.984722</td>\n",
       "      <td>40.736837</td>\n",
       "      <td>-74.006672</td>\n",
       "      <td>40.739620</td>\n",
       "      <td>1</td>\n",
       "      <td>2014-03-14 01:09:00+00:00</td>\n",
       "      <td>3</td>\n",
       "      <td>1</td>\n",
       "      <td>14</td>\n",
       "      <td>2014</td>\n",
       "      <td>9</td>\n",
       "    </tr>\n",
       "    <tr>\n",
       "      <th>199997</th>\n",
       "      <td>30.9</td>\n",
       "      <td>2009-06-29 00:42:00 UTC</td>\n",
       "      <td>-73.986017</td>\n",
       "      <td>40.756487</td>\n",
       "      <td>-73.858957</td>\n",
       "      <td>40.692588</td>\n",
       "      <td>2</td>\n",
       "      <td>2009-06-29 00:42:00+00:00</td>\n",
       "      <td>6</td>\n",
       "      <td>0</td>\n",
       "      <td>29</td>\n",
       "      <td>2009</td>\n",
       "      <td>42</td>\n",
       "    </tr>\n",
       "    <tr>\n",
       "      <th>199998</th>\n",
       "      <td>14.5</td>\n",
       "      <td>2015-05-20 14:56:25 UTC</td>\n",
       "      <td>-73.997124</td>\n",
       "      <td>40.725452</td>\n",
       "      <td>-73.983215</td>\n",
       "      <td>40.695415</td>\n",
       "      <td>1</td>\n",
       "      <td>2015-05-20 14:56:25+00:00</td>\n",
       "      <td>5</td>\n",
       "      <td>14</td>\n",
       "      <td>20</td>\n",
       "      <td>2015</td>\n",
       "      <td>56</td>\n",
       "    </tr>\n",
       "    <tr>\n",
       "      <th>199999</th>\n",
       "      <td>14.1</td>\n",
       "      <td>2010-05-15 04:08:00 UTC</td>\n",
       "      <td>-73.984395</td>\n",
       "      <td>40.720077</td>\n",
       "      <td>-73.985508</td>\n",
       "      <td>40.768793</td>\n",
       "      <td>1</td>\n",
       "      <td>2010-05-15 04:08:00+00:00</td>\n",
       "      <td>5</td>\n",
       "      <td>4</td>\n",
       "      <td>15</td>\n",
       "      <td>2010</td>\n",
       "      <td>8</td>\n",
       "    </tr>\n",
       "  </tbody>\n",
       "</table>\n",
       "<p>199969 rows × 13 columns</p>\n",
       "</div>"
      ],
      "text/plain": [
       "        fare_amount          pickup_datetime  pickup_longitude  \\\n",
       "0               7.5  2015-05-07 19:52:06 UTC        -73.999817   \n",
       "1               7.7  2009-07-17 20:04:56 UTC        -73.994355   \n",
       "2              12.9  2009-08-24 21:45:00 UTC        -74.005043   \n",
       "3               5.3  2009-06-26 08:22:21 UTC        -73.976124   \n",
       "4              16.0  2014-08-28 17:47:00 UTC        -73.925023   \n",
       "...             ...                      ...               ...   \n",
       "199995          3.0  2012-10-28 10:49:00 UTC        -73.987042   \n",
       "199996          7.5  2014-03-14 01:09:00 UTC        -73.984722   \n",
       "199997         30.9  2009-06-29 00:42:00 UTC        -73.986017   \n",
       "199998         14.5  2015-05-20 14:56:25 UTC        -73.997124   \n",
       "199999         14.1  2010-05-15 04:08:00 UTC        -73.984395   \n",
       "\n",
       "        pickup_latitude  dropoff_longitude  dropoff_latitude  passenger_count  \\\n",
       "0             40.738354         -73.999512         40.723217                1   \n",
       "1             40.728225         -73.994710         40.750325                1   \n",
       "2             40.740770         -73.962565         40.772647                1   \n",
       "3             40.790844         -73.965316         40.803349                3   \n",
       "4             40.744085         -73.973082         40.761247                5   \n",
       "...                 ...                ...               ...              ...   \n",
       "199995        40.739367         -73.986525         40.740297                1   \n",
       "199996        40.736837         -74.006672         40.739620                1   \n",
       "199997        40.756487         -73.858957         40.692588                2   \n",
       "199998        40.725452         -73.983215         40.695415                1   \n",
       "199999        40.720077         -73.985508         40.768793                1   \n",
       "\n",
       "                           dates  months  hour  day  year  min  \n",
       "0      2015-05-07 19:52:06+00:00       5    19    7  2015   52  \n",
       "1      2009-07-17 20:04:56+00:00       7    20   17  2009    4  \n",
       "2      2009-08-24 21:45:00+00:00       8    21   24  2009   45  \n",
       "3      2009-06-26 08:22:21+00:00       6     8   26  2009   22  \n",
       "4      2014-08-28 17:47:00+00:00       8    17   28  2014   47  \n",
       "...                          ...     ...   ...  ...   ...  ...  \n",
       "199995 2012-10-28 10:49:00+00:00      10    10   28  2012   49  \n",
       "199996 2014-03-14 01:09:00+00:00       3     1   14  2014    9  \n",
       "199997 2009-06-29 00:42:00+00:00       6     0   29  2009   42  \n",
       "199998 2015-05-20 14:56:25+00:00       5    14   20  2015   56  \n",
       "199999 2010-05-15 04:08:00+00:00       5     4   15  2010    8  \n",
       "\n",
       "[199969 rows x 13 columns]"
      ]
     },
     "execution_count": 73,
     "metadata": {},
     "output_type": "execute_result"
    }
   ],
   "source": [
    "df"
   ]
  },
  {
   "cell_type": "code",
   "execution_count": 74,
   "metadata": {},
   "outputs": [],
   "source": [
    "#droping timestamp\n",
    "df.drop('pickup_datetime',axis=1,inplace=True)"
   ]
  },
  {
   "cell_type": "code",
   "execution_count": 75,
   "metadata": {},
   "outputs": [],
   "source": [
    "df.drop('dates',axis=1,inplace=True)"
   ]
  },
  {
   "cell_type": "code",
   "execution_count": 76,
   "metadata": {},
   "outputs": [],
   "source": [
    "#importing the libraries\n",
    "from sklearn.feature_selection import SelectKBest\n",
    "from sklearn.feature_selection import f_regression"
   ]
  },
  {
   "cell_type": "code",
   "execution_count": 77,
   "metadata": {},
   "outputs": [],
   "source": [
    "X=df.iloc[:,1:]\n",
    "Y=df.iloc[:,0]"
   ]
  },
  {
   "cell_type": "code",
   "execution_count": 78,
   "metadata": {},
   "outputs": [
    {
     "name": "stdout",
     "output_type": "stream",
     "text": [
      "<class 'pandas.core.frame.DataFrame'>\n",
      "Int64Index: 199969 entries, 0 to 199999\n",
      "Data columns (total 11 columns):\n",
      " #   Column             Non-Null Count   Dtype  \n",
      "---  ------             --------------   -----  \n",
      " 0   fare_amount        199969 non-null  float64\n",
      " 1   pickup_longitude   199969 non-null  float64\n",
      " 2   pickup_latitude    199969 non-null  float64\n",
      " 3   dropoff_longitude  199969 non-null  float64\n",
      " 4   dropoff_latitude   199969 non-null  float64\n",
      " 5   passenger_count    199969 non-null  int64  \n",
      " 6   months             199969 non-null  int64  \n",
      " 7   hour               199969 non-null  int64  \n",
      " 8   day                199969 non-null  int64  \n",
      " 9   year               199969 non-null  int64  \n",
      " 10  min                199969 non-null  int64  \n",
      "dtypes: float64(5), int64(6)\n",
      "memory usage: 18.3 MB\n"
     ]
    }
   ],
   "source": [
    "df.info()"
   ]
  },
  {
   "cell_type": "code",
   "execution_count": 79,
   "metadata": {},
   "outputs": [
    {
     "data": {
      "text/html": [
       "<div>\n",
       "<style scoped>\n",
       "    .dataframe tbody tr th:only-of-type {\n",
       "        vertical-align: middle;\n",
       "    }\n",
       "\n",
       "    .dataframe tbody tr th {\n",
       "        vertical-align: top;\n",
       "    }\n",
       "\n",
       "    .dataframe thead th {\n",
       "        text-align: right;\n",
       "    }\n",
       "</style>\n",
       "<table border=\"1\" class=\"dataframe\">\n",
       "  <thead>\n",
       "    <tr style=\"text-align: right;\">\n",
       "      <th></th>\n",
       "      <th>fare_amount</th>\n",
       "      <th>pickup_longitude</th>\n",
       "      <th>pickup_latitude</th>\n",
       "      <th>dropoff_longitude</th>\n",
       "      <th>dropoff_latitude</th>\n",
       "      <th>passenger_count</th>\n",
       "      <th>months</th>\n",
       "      <th>hour</th>\n",
       "      <th>day</th>\n",
       "      <th>year</th>\n",
       "      <th>min</th>\n",
       "    </tr>\n",
       "  </thead>\n",
       "  <tbody>\n",
       "    <tr>\n",
       "      <th>0</th>\n",
       "      <td>7.5</td>\n",
       "      <td>-73.999817</td>\n",
       "      <td>40.738354</td>\n",
       "      <td>-73.999512</td>\n",
       "      <td>40.723217</td>\n",
       "      <td>1</td>\n",
       "      <td>5</td>\n",
       "      <td>19</td>\n",
       "      <td>7</td>\n",
       "      <td>2015</td>\n",
       "      <td>52</td>\n",
       "    </tr>\n",
       "    <tr>\n",
       "      <th>1</th>\n",
       "      <td>7.7</td>\n",
       "      <td>-73.994355</td>\n",
       "      <td>40.728225</td>\n",
       "      <td>-73.994710</td>\n",
       "      <td>40.750325</td>\n",
       "      <td>1</td>\n",
       "      <td>7</td>\n",
       "      <td>20</td>\n",
       "      <td>17</td>\n",
       "      <td>2009</td>\n",
       "      <td>4</td>\n",
       "    </tr>\n",
       "    <tr>\n",
       "      <th>2</th>\n",
       "      <td>12.9</td>\n",
       "      <td>-74.005043</td>\n",
       "      <td>40.740770</td>\n",
       "      <td>-73.962565</td>\n",
       "      <td>40.772647</td>\n",
       "      <td>1</td>\n",
       "      <td>8</td>\n",
       "      <td>21</td>\n",
       "      <td>24</td>\n",
       "      <td>2009</td>\n",
       "      <td>45</td>\n",
       "    </tr>\n",
       "    <tr>\n",
       "      <th>3</th>\n",
       "      <td>5.3</td>\n",
       "      <td>-73.976124</td>\n",
       "      <td>40.790844</td>\n",
       "      <td>-73.965316</td>\n",
       "      <td>40.803349</td>\n",
       "      <td>3</td>\n",
       "      <td>6</td>\n",
       "      <td>8</td>\n",
       "      <td>26</td>\n",
       "      <td>2009</td>\n",
       "      <td>22</td>\n",
       "    </tr>\n",
       "    <tr>\n",
       "      <th>4</th>\n",
       "      <td>16.0</td>\n",
       "      <td>-73.925023</td>\n",
       "      <td>40.744085</td>\n",
       "      <td>-73.973082</td>\n",
       "      <td>40.761247</td>\n",
       "      <td>5</td>\n",
       "      <td>8</td>\n",
       "      <td>17</td>\n",
       "      <td>28</td>\n",
       "      <td>2014</td>\n",
       "      <td>47</td>\n",
       "    </tr>\n",
       "    <tr>\n",
       "      <th>...</th>\n",
       "      <td>...</td>\n",
       "      <td>...</td>\n",
       "      <td>...</td>\n",
       "      <td>...</td>\n",
       "      <td>...</td>\n",
       "      <td>...</td>\n",
       "      <td>...</td>\n",
       "      <td>...</td>\n",
       "      <td>...</td>\n",
       "      <td>...</td>\n",
       "      <td>...</td>\n",
       "    </tr>\n",
       "    <tr>\n",
       "      <th>199995</th>\n",
       "      <td>3.0</td>\n",
       "      <td>-73.987042</td>\n",
       "      <td>40.739367</td>\n",
       "      <td>-73.986525</td>\n",
       "      <td>40.740297</td>\n",
       "      <td>1</td>\n",
       "      <td>10</td>\n",
       "      <td>10</td>\n",
       "      <td>28</td>\n",
       "      <td>2012</td>\n",
       "      <td>49</td>\n",
       "    </tr>\n",
       "    <tr>\n",
       "      <th>199996</th>\n",
       "      <td>7.5</td>\n",
       "      <td>-73.984722</td>\n",
       "      <td>40.736837</td>\n",
       "      <td>-74.006672</td>\n",
       "      <td>40.739620</td>\n",
       "      <td>1</td>\n",
       "      <td>3</td>\n",
       "      <td>1</td>\n",
       "      <td>14</td>\n",
       "      <td>2014</td>\n",
       "      <td>9</td>\n",
       "    </tr>\n",
       "    <tr>\n",
       "      <th>199997</th>\n",
       "      <td>30.9</td>\n",
       "      <td>-73.986017</td>\n",
       "      <td>40.756487</td>\n",
       "      <td>-73.858957</td>\n",
       "      <td>40.692588</td>\n",
       "      <td>2</td>\n",
       "      <td>6</td>\n",
       "      <td>0</td>\n",
       "      <td>29</td>\n",
       "      <td>2009</td>\n",
       "      <td>42</td>\n",
       "    </tr>\n",
       "    <tr>\n",
       "      <th>199998</th>\n",
       "      <td>14.5</td>\n",
       "      <td>-73.997124</td>\n",
       "      <td>40.725452</td>\n",
       "      <td>-73.983215</td>\n",
       "      <td>40.695415</td>\n",
       "      <td>1</td>\n",
       "      <td>5</td>\n",
       "      <td>14</td>\n",
       "      <td>20</td>\n",
       "      <td>2015</td>\n",
       "      <td>56</td>\n",
       "    </tr>\n",
       "    <tr>\n",
       "      <th>199999</th>\n",
       "      <td>14.1</td>\n",
       "      <td>-73.984395</td>\n",
       "      <td>40.720077</td>\n",
       "      <td>-73.985508</td>\n",
       "      <td>40.768793</td>\n",
       "      <td>1</td>\n",
       "      <td>5</td>\n",
       "      <td>4</td>\n",
       "      <td>15</td>\n",
       "      <td>2010</td>\n",
       "      <td>8</td>\n",
       "    </tr>\n",
       "  </tbody>\n",
       "</table>\n",
       "<p>199969 rows × 11 columns</p>\n",
       "</div>"
      ],
      "text/plain": [
       "        fare_amount  pickup_longitude  pickup_latitude  dropoff_longitude  \\\n",
       "0               7.5        -73.999817        40.738354         -73.999512   \n",
       "1               7.7        -73.994355        40.728225         -73.994710   \n",
       "2              12.9        -74.005043        40.740770         -73.962565   \n",
       "3               5.3        -73.976124        40.790844         -73.965316   \n",
       "4              16.0        -73.925023        40.744085         -73.973082   \n",
       "...             ...               ...              ...                ...   \n",
       "199995          3.0        -73.987042        40.739367         -73.986525   \n",
       "199996          7.5        -73.984722        40.736837         -74.006672   \n",
       "199997         30.9        -73.986017        40.756487         -73.858957   \n",
       "199998         14.5        -73.997124        40.725452         -73.983215   \n",
       "199999         14.1        -73.984395        40.720077         -73.985508   \n",
       "\n",
       "        dropoff_latitude  passenger_count  months  hour  day  year  min  \n",
       "0              40.723217                1       5    19    7  2015   52  \n",
       "1              40.750325                1       7    20   17  2009    4  \n",
       "2              40.772647                1       8    21   24  2009   45  \n",
       "3              40.803349                3       6     8   26  2009   22  \n",
       "4              40.761247                5       8    17   28  2014   47  \n",
       "...                  ...              ...     ...   ...  ...   ...  ...  \n",
       "199995         40.740297                1      10    10   28  2012   49  \n",
       "199996         40.739620                1       3     1   14  2014    9  \n",
       "199997         40.692588                2       6     0   29  2009   42  \n",
       "199998         40.695415                1       5    14   20  2015   56  \n",
       "199999         40.768793                1       5     4   15  2010    8  \n",
       "\n",
       "[199969 rows x 11 columns]"
      ]
     },
     "execution_count": 79,
     "metadata": {},
     "output_type": "execute_result"
    }
   ],
   "source": [
    "df"
   ]
  },
  {
   "cell_type": "code",
   "execution_count": 80,
   "metadata": {},
   "outputs": [
    {
     "data": {
      "text/plain": [
       "(array([2.69465040e+01, 2.66129100e+01, 2.91405563e+01, 3.09818334e+01,\n",
       "        2.42999741e+01, 1.11212681e+02, 9.21048149e+01, 3.69539959e-01,\n",
       "        2.84776480e+03, 1.27320743e+01]),\n",
       " array([2.09368994e-07, 2.48813680e-07, 6.73893855e-08, 2.60787560e-08,\n",
       "        8.25059850e-07, 5.39943590e-26, 8.31003794e-22, 5.43255827e-01,\n",
       "        0.00000000e+00, 3.59521689e-04]))"
      ]
     },
     "execution_count": 80,
     "metadata": {},
     "output_type": "execute_result"
    }
   ],
   "source": [
    "#finding the f scores of each features\n",
    "f_scores = f_regression(X, Y)\n",
    "f_scores"
   ]
  },
  {
   "cell_type": "code",
   "execution_count": 81,
   "metadata": {},
   "outputs": [
    {
     "name": "stderr",
     "output_type": "stream",
     "text": [
      "2022-10-14 20:23:21,573 - WARNING  - findfont: Font family ['Heiti TC'] not found. Falling back to DejaVu Sans.\n",
      "2022-10-14 20:23:21,591 - WARNING  - findfont: Font family ['Heiti TC'] not found. Falling back to DejaVu Sans.\n"
     ]
    },
    {
     "data": {
      "image/png": "[encoded data removed]",
      "text/plain": [
       "<Figure size 1152x360 with 1 Axes>"
      ]
     },
     "metadata": {
      "needs_background": "light"
     },
     "output_type": "display_data"
    }
   ],
   "source": [
    "#The second array consists of p-values that we need.\n",
    "p_values= pd.Series(f_scores[1],index= X.columns)\n",
    "p_values.plot(kind='bar',color='blue',figsize=(16,5))\n",
    "plt.title('P-value scores for numerical features')\n",
    "plt.show()"
   ]
  },
  {
   "cell_type": "code",
   "execution_count": 82,
   "metadata": {},
   "outputs": [
    {
     "name": "stderr",
     "output_type": "stream",
     "text": [
      "2022-10-14 20:23:22,259 - WARNING  - findfont: Font family ['Heiti TC'] not found. Falling back to DejaVu Sans.\n"
     ]
    },
    {
     "data": {
      "image/png": "[encoded data removed]",
      "text/plain": [
       "<Figure size 1440x720 with 2 Axes>"
      ]
     },
     "metadata": {
      "needs_background": "light"
     },
     "output_type": "display_data"
    }
   ],
   "source": [
    "#checking correlation with all columns using heat map\n",
    "corrmat = df.corr()\n",
    "plt.rcParams[\"figure.figsize\"] = (20,10)\n",
    "sns.heatmap(corrmat, vmin=-1,annot = True,cmap='coolwarm')\n",
    "plt.title(\"Heatmap of data\",fontsize= 15)\n",
    "plt.show()"
   ]
  },
  {
   "cell_type": "markdown",
   "metadata": {},
   "source": [
    "Feature engineering"
   ]
  },
  {
   "cell_type": "code",
   "execution_count": 83,
   "metadata": {},
   "outputs": [
    {
     "data": {
      "text/plain": [
       "fare_amount          17154\n",
       "pickup_longitude     13550\n",
       "pickup_latitude       9418\n",
       "dropoff_longitude    14196\n",
       "dropoff_latitude     12142\n",
       "passenger_count      22551\n",
       "months                   0\n",
       "hour                     0\n",
       "day                      0\n",
       "year                     0\n",
       "min                      0\n",
       "dtype: int64"
      ]
     },
     "execution_count": 83,
     "metadata": {},
     "output_type": "execute_result"
    }
   ],
   "source": [
    "#checking the outliers\n",
    "Q1 = df.quantile(0.25)\n",
    "Q3 = df.quantile(0.75)\n",
    "IQR = Q3 - Q1\n",
    "\n",
    "((df < (Q1 - 1.5 * IQR)) | (df > (Q3 + 1.5 * IQR))).sum()"
   ]
  },
  {
   "cell_type": "code",
   "execution_count": 84,
   "metadata": {},
   "outputs": [
    {
     "data": {
      "text/plain": [
       "Index(['fare_amount', 'pickup_longitude', 'pickup_latitude',\n",
       "       'dropoff_longitude', 'dropoff_latitude', 'passenger_count', 'months',\n",
       "       'hour', 'day', 'year', 'min'],\n",
       "      dtype='object')"
      ]
     },
     "execution_count": 84,
     "metadata": {},
     "output_type": "execute_result"
    }
   ],
   "source": [
    "df.columns"
   ]
  },
  {
   "cell_type": "code",
   "execution_count": 85,
   "metadata": {},
   "outputs": [],
   "source": [
    "def distance(x):\n",
    "      you = \"{0},{1}\".format(x['pickup_latitude'],x['pickup_longitude'])\n",
    "\n",
    "      me = \"{0},{1}\".format(x['dropoff_latitude'],x['dropoff_longitude'])\n",
    "\n",
    "      km = geodesic(me,you).kilometers\n",
    "      return km\n",
    "     "
   ]
  },
  {
   "cell_type": "code",
   "execution_count": 86,
   "metadata": {},
   "outputs": [],
   "source": [
    "df['distance']=df.apply(distance,axis=1)"
   ]
  },
  {
   "cell_type": "code",
   "execution_count": 87,
   "metadata": {},
   "outputs": [
    {
     "data": {
      "text/html": [
       "<div>\n",
       "<style scoped>\n",
       "    .dataframe tbody tr th:only-of-type {\n",
       "        vertical-align: middle;\n",
       "    }\n",
       "\n",
       "    .dataframe tbody tr th {\n",
       "        vertical-align: top;\n",
       "    }\n",
       "\n",
       "    .dataframe thead th {\n",
       "        text-align: right;\n",
       "    }\n",
       "</style>\n",
       "<table border=\"1\" class=\"dataframe\">\n",
       "  <thead>\n",
       "    <tr style=\"text-align: right;\">\n",
       "      <th></th>\n",
       "      <th>fare_amount</th>\n",
       "      <th>pickup_longitude</th>\n",
       "      <th>pickup_latitude</th>\n",
       "      <th>dropoff_longitude</th>\n",
       "      <th>dropoff_latitude</th>\n",
       "      <th>passenger_count</th>\n",
       "      <th>months</th>\n",
       "      <th>hour</th>\n",
       "      <th>day</th>\n",
       "      <th>year</th>\n",
       "      <th>min</th>\n",
       "      <th>distance</th>\n",
       "    </tr>\n",
       "  </thead>\n",
       "  <tbody>\n",
       "    <tr>\n",
       "      <th>0</th>\n",
       "      <td>7.5</td>\n",
       "      <td>-73.999817</td>\n",
       "      <td>40.738354</td>\n",
       "      <td>-73.999512</td>\n",
       "      <td>40.723217</td>\n",
       "      <td>1</td>\n",
       "      <td>5</td>\n",
       "      <td>19</td>\n",
       "      <td>7</td>\n",
       "      <td>2015</td>\n",
       "      <td>52</td>\n",
       "      <td>1.681111</td>\n",
       "    </tr>\n",
       "    <tr>\n",
       "      <th>1</th>\n",
       "      <td>7.7</td>\n",
       "      <td>-73.994355</td>\n",
       "      <td>40.728225</td>\n",
       "      <td>-73.994710</td>\n",
       "      <td>40.750325</td>\n",
       "      <td>1</td>\n",
       "      <td>7</td>\n",
       "      <td>20</td>\n",
       "      <td>17</td>\n",
       "      <td>2009</td>\n",
       "      <td>4</td>\n",
       "      <td>2.454363</td>\n",
       "    </tr>\n",
       "    <tr>\n",
       "      <th>2</th>\n",
       "      <td>12.9</td>\n",
       "      <td>-74.005043</td>\n",
       "      <td>40.740770</td>\n",
       "      <td>-73.962565</td>\n",
       "      <td>40.772647</td>\n",
       "      <td>1</td>\n",
       "      <td>8</td>\n",
       "      <td>21</td>\n",
       "      <td>24</td>\n",
       "      <td>2009</td>\n",
       "      <td>45</td>\n",
       "      <td>5.039603</td>\n",
       "    </tr>\n",
       "    <tr>\n",
       "      <th>3</th>\n",
       "      <td>5.3</td>\n",
       "      <td>-73.976124</td>\n",
       "      <td>40.790844</td>\n",
       "      <td>-73.965316</td>\n",
       "      <td>40.803349</td>\n",
       "      <td>3</td>\n",
       "      <td>6</td>\n",
       "      <td>8</td>\n",
       "      <td>26</td>\n",
       "      <td>2009</td>\n",
       "      <td>22</td>\n",
       "      <td>1.661442</td>\n",
       "    </tr>\n",
       "    <tr>\n",
       "      <th>4</th>\n",
       "      <td>16.0</td>\n",
       "      <td>-73.925023</td>\n",
       "      <td>40.744085</td>\n",
       "      <td>-73.973082</td>\n",
       "      <td>40.761247</td>\n",
       "      <td>5</td>\n",
       "      <td>8</td>\n",
       "      <td>17</td>\n",
       "      <td>28</td>\n",
       "      <td>2014</td>\n",
       "      <td>47</td>\n",
       "      <td>4.483730</td>\n",
       "    </tr>\n",
       "    <tr>\n",
       "      <th>...</th>\n",
       "      <td>...</td>\n",
       "      <td>...</td>\n",
       "      <td>...</td>\n",
       "      <td>...</td>\n",
       "      <td>...</td>\n",
       "      <td>...</td>\n",
       "      <td>...</td>\n",
       "      <td>...</td>\n",
       "      <td>...</td>\n",
       "      <td>...</td>\n",
       "      <td>...</td>\n",
       "      <td>...</td>\n",
       "    </tr>\n",
       "    <tr>\n",
       "      <th>199995</th>\n",
       "      <td>3.0</td>\n",
       "      <td>-73.987042</td>\n",
       "      <td>40.739367</td>\n",
       "      <td>-73.986525</td>\n",
       "      <td>40.740297</td>\n",
       "      <td>1</td>\n",
       "      <td>10</td>\n",
       "      <td>10</td>\n",
       "      <td>28</td>\n",
       "      <td>2012</td>\n",
       "      <td>49</td>\n",
       "      <td>0.112128</td>\n",
       "    </tr>\n",
       "    <tr>\n",
       "      <th>199996</th>\n",
       "      <td>7.5</td>\n",
       "      <td>-73.984722</td>\n",
       "      <td>40.736837</td>\n",
       "      <td>-74.006672</td>\n",
       "      <td>40.739620</td>\n",
       "      <td>1</td>\n",
       "      <td>3</td>\n",
       "      <td>1</td>\n",
       "      <td>14</td>\n",
       "      <td>2014</td>\n",
       "      <td>9</td>\n",
       "      <td>1.879635</td>\n",
       "    </tr>\n",
       "    <tr>\n",
       "      <th>199997</th>\n",
       "      <td>30.9</td>\n",
       "      <td>-73.986017</td>\n",
       "      <td>40.756487</td>\n",
       "      <td>-73.858957</td>\n",
       "      <td>40.692588</td>\n",
       "      <td>2</td>\n",
       "      <td>6</td>\n",
       "      <td>0</td>\n",
       "      <td>29</td>\n",
       "      <td>2009</td>\n",
       "      <td>42</td>\n",
       "      <td>12.867916</td>\n",
       "    </tr>\n",
       "    <tr>\n",
       "      <th>199998</th>\n",
       "      <td>14.5</td>\n",
       "      <td>-73.997124</td>\n",
       "      <td>40.725452</td>\n",
       "      <td>-73.983215</td>\n",
       "      <td>40.695415</td>\n",
       "      <td>1</td>\n",
       "      <td>5</td>\n",
       "      <td>14</td>\n",
       "      <td>20</td>\n",
       "      <td>2015</td>\n",
       "      <td>56</td>\n",
       "      <td>3.536552</td>\n",
       "    </tr>\n",
       "    <tr>\n",
       "      <th>199999</th>\n",
       "      <td>14.1</td>\n",
       "      <td>-73.984395</td>\n",
       "      <td>40.720077</td>\n",
       "      <td>-73.985508</td>\n",
       "      <td>40.768793</td>\n",
       "      <td>1</td>\n",
       "      <td>5</td>\n",
       "      <td>4</td>\n",
       "      <td>15</td>\n",
       "      <td>2010</td>\n",
       "      <td>8</td>\n",
       "      <td>5.410678</td>\n",
       "    </tr>\n",
       "  </tbody>\n",
       "</table>\n",
       "<p>199969 rows × 12 columns</p>\n",
       "</div>"
      ],
      "text/plain": [
       "        fare_amount  pickup_longitude  pickup_latitude  dropoff_longitude  \\\n",
       "0               7.5        -73.999817        40.738354         -73.999512   \n",
       "1               7.7        -73.994355        40.728225         -73.994710   \n",
       "2              12.9        -74.005043        40.740770         -73.962565   \n",
       "3               5.3        -73.976124        40.790844         -73.965316   \n",
       "4              16.0        -73.925023        40.744085         -73.973082   \n",
       "...             ...               ...              ...                ...   \n",
       "199995          3.0        -73.987042        40.739367         -73.986525   \n",
       "199996          7.5        -73.984722        40.736837         -74.006672   \n",
       "199997         30.9        -73.986017        40.756487         -73.858957   \n",
       "199998         14.5        -73.997124        40.725452         -73.983215   \n",
       "199999         14.1        -73.984395        40.720077         -73.985508   \n",
       "\n",
       "        dropoff_latitude  passenger_count  months  hour  day  year  min  \\\n",
       "0              40.723217                1       5    19    7  2015   52   \n",
       "1              40.750325                1       7    20   17  2009    4   \n",
       "2              40.772647                1       8    21   24  2009   45   \n",
       "3              40.803349                3       6     8   26  2009   22   \n",
       "4              40.761247                5       8    17   28  2014   47   \n",
       "...                  ...              ...     ...   ...  ...   ...  ...   \n",
       "199995         40.740297                1      10    10   28  2012   49   \n",
       "199996         40.739620                1       3     1   14  2014    9   \n",
       "199997         40.692588                2       6     0   29  2009   42   \n",
       "199998         40.695415                1       5    14   20  2015   56   \n",
       "199999         40.768793                1       5     4   15  2010    8   \n",
       "\n",
       "         distance  \n",
       "0        1.681111  \n",
       "1        2.454363  \n",
       "2        5.039603  \n",
       "3        1.661442  \n",
       "4        4.483730  \n",
       "...           ...  \n",
       "199995   0.112128  \n",
       "199996   1.879635  \n",
       "199997  12.867916  \n",
       "199998   3.536552  \n",
       "199999   5.410678  \n",
       "\n",
       "[199969 rows x 12 columns]"
      ]
     },
     "execution_count": 87,
     "metadata": {},
     "output_type": "execute_result"
    }
   ],
   "source": [
    "df"
   ]
  },
  {
   "cell_type": "code",
   "execution_count": 88,
   "metadata": {},
   "outputs": [],
   "source": [
    "df.drop(['pickup_longitude','pickup_latitude','dropoff_longitude','dropoff_latitude'],axis=1,inplace=True)"
   ]
  },
  {
   "cell_type": "markdown",
   "metadata": {},
   "source": [
    "test and train split"
   ]
  },
  {
   "cell_type": "code",
   "execution_count": 89,
   "metadata": {},
   "outputs": [],
   "source": [
    "X=df.iloc[:,1:]\n",
    "Y=df.iloc[:,0]"
   ]
  },
  {
   "cell_type": "code",
   "execution_count": 90,
   "metadata": {},
   "outputs": [
    {
     "name": "stdout",
     "output_type": "stream",
     "text": [
      "(159975, 7)\n",
      "(39994, 7)\n"
     ]
    }
   ],
   "source": [
    "#spliting train and test\n",
    "from sklearn.model_selection import train_test_split \n",
    "X_train1, X_test1, y_train, y_test = train_test_split( X,Y, test_size = 0.2, random_state = 20) \n",
    "print(X_train1.shape)\n",
    "print(X_test1.shape)"
   ]
  },
  {
   "cell_type": "code",
   "execution_count": 91,
   "metadata": {},
   "outputs": [],
   "source": [
    "# Transforming data\n",
    "scaler = StandardScaler()\n",
    "X_train = scaler.fit_transform(X_train1)\n",
    "X_test = scaler.transform(X_test1)\n"
   ]
  },
  {
   "cell_type": "code",
   "execution_count": 92,
   "metadata": {},
   "outputs": [],
   "source": [
    "reg = LinearRegression()\n",
    "lasso  = Lasso()\n",
    "ridge = Ridge()\n",
    "tree1 = DecisionTreeRegressor(random_state=10)\n",
    "regressor = RandomForestRegressor(random_state=10)\n",
    "gdb = GradientBoostingRegressor(random_state=10)\n",
    "xgb = XGBRegressor(random_state=10)\n",
    "lgbm = LGBMRegressor(random_state=10)\n"
   ]
  },
  {
   "cell_type": "code",
   "execution_count": 93,
   "metadata": {},
   "outputs": [
    {
     "data": {
      "text/html": [
       "<style>#sk-container-id-2 {color: black;background-color: white;}#sk-container-id-2 pre{padding: 0;}#sk-container-id-2 div.sk-toggleable {background-color: white;}#sk-container-id-2 label.sk-toggleable__label {cursor: pointer;display: block;width: 100%;margin-bottom: 0;padding: 0.3em;box-sizing: border-box;text-align: center;}#sk-container-id-2 label.sk-toggleable__label-arrow:before {content: \"▸\";float: left;margin-right: 0.25em;color: #696969;}#sk-container-id-2 label.sk-toggleable__label-arrow:hover:before {color: black;}#sk-container-id-2 div.sk-estimator:hover label.sk-toggleable__label-arrow:before {color: black;}#sk-container-id-2 div.sk-toggleable__content {max-height: 0;max-width: 0;overflow: hidden;text-align: left;background-color: #f0f8ff;}#sk-container-id-2 div.sk-toggleable__content pre {margin: 0.2em;color: black;border-radius: 0.25em;background-color: #f0f8ff;}#sk-container-id-2 input.sk-toggleable__control:checked~div.sk-toggleable__content {max-height: 200px;max-width: 100%;overflow: auto;}#sk-container-id-2 input.sk-toggleable__control:checked~label.sk-toggleable__label-arrow:before {content: \"▾\";}#sk-container-id-2 div.sk-estimator input.sk-toggleable__control:checked~label.sk-toggleable__label {background-color: #d4ebff;}#sk-container-id-2 div.sk-label input.sk-toggleable__control:checked~label.sk-toggleable__label {background-color: #d4ebff;}#sk-container-id-2 input.sk-hidden--visually {border: 0;clip: rect(1px 1px 1px 1px);clip: rect(1px, 1px, 1px, 1px);height: 1px;margin: -1px;overflow: hidden;padding: 0;position: absolute;width: 1px;}#sk-container-id-2 div.sk-estimator {font-family: monospace;background-color: #f0f8ff;border: 1px dotted black;border-radius: 0.25em;box-sizing: border-box;margin-bottom: 0.5em;}#sk-container-id-2 div.sk-estimator:hover {background-color: #d4ebff;}#sk-container-id-2 div.sk-parallel-item::after {content: \"\";width: 100%;border-bottom: 1px solid gray;flex-grow: 1;}#sk-container-id-2 div.sk-label:hover label.sk-toggleable__label {background-color: #d4ebff;}#sk-container-id-2 div.sk-serial::before {content: \"\";position: absolute;border-left: 1px solid gray;box-sizing: border-box;top: 0;bottom: 0;left: 50%;z-index: 0;}#sk-container-id-2 div.sk-serial {display: flex;flex-direction: column;align-items: center;background-color: white;padding-right: 0.2em;padding-left: 0.2em;position: relative;}#sk-container-id-2 div.sk-item {position: relative;z-index: 1;}#sk-container-id-2 div.sk-parallel {display: flex;align-items: stretch;justify-content: center;background-color: white;position: relative;}#sk-container-id-2 div.sk-item::before, #sk-container-id-2 div.sk-parallel-item::before {content: \"\";position: absolute;border-left: 1px solid gray;box-sizing: border-box;top: 0;bottom: 0;left: 50%;z-index: -1;}#sk-container-id-2 div.sk-parallel-item {display: flex;flex-direction: column;z-index: 1;position: relative;background-color: white;}#sk-container-id-2 div.sk-parallel-item:first-child::after {align-self: flex-end;width: 50%;}#sk-container-id-2 div.sk-parallel-item:last-child::after {align-self: flex-start;width: 50%;}#sk-container-id-2 div.sk-parallel-item:only-child::after {width: 0;}#sk-container-id-2 div.sk-dashed-wrapped {border: 1px dashed gray;margin: 0 0.4em 0.5em 0.4em;box-sizing: border-box;padding-bottom: 0.4em;background-color: white;}#sk-container-id-2 div.sk-label label {font-family: monospace;font-weight: bold;display: inline-block;line-height: 1.2em;}#sk-container-id-2 div.sk-label-container {text-align: center;}#sk-container-id-2 div.sk-container {/* jupyter's `normalize.less` sets `[hidden] { display: none; }` but bootstrap.min.css set `[hidden] { display: none !important; }` so we also need the `!important` here to be able to override the default hidden behavior on the sphinx rendered scikit-learn.org. See: https://github.com/scikit-learn/scikit-learn/issues/21755 */display: inline-block !important;position: relative;}#sk-container-id-2 div.sk-text-repr-fallback {display: none;}</style><div id=\"sk-container-id-2\" class=\"sk-top-container\"><div class=\"sk-text-repr-fallback\"><pre>LinearRegression()</pre><b>In a Jupyter environment, please rerun this cell to show the HTML representation or trust the notebook. <br />On GitHub, the HTML representation is unable to render, please try loading this page with nbviewer.org.</b></div><div class=\"sk-container\" hidden><div class=\"sk-item\"><div class=\"sk-estimator sk-toggleable\"><input class=\"sk-toggleable__control sk-hidden--visually\" id=\"sk-estimator-id-2\" type=\"checkbox\" checked><label for=\"sk-estimator-id-2\" class=\"sk-toggleable__label sk-toggleable__label-arrow\">LinearRegression</label><div class=\"sk-toggleable__content\"><pre>LinearRegression()</pre></div></div></div></div></div>"
      ],
      "text/plain": [
       "LinearRegression()"
      ]
     },
     "execution_count": 93,
     "metadata": {},
     "output_type": "execute_result"
    }
   ],
   "source": [
    "# try ploynomial regression model\n",
    "from sklearn.preprocessing import PolynomialFeatures\n",
    "poly = PolynomialFeatures(degree = 3,include_bias=True )\n",
    "X_poly = poly.fit_transform(X_train)\n",
    "X_poly_test = poly.fit_transform(X_test)\n",
    "lin2 = LinearRegression()\n",
    "lin2.fit(X_poly, y_train)"
   ]
  },
  {
   "cell_type": "code",
   "execution_count": 94,
   "metadata": {},
   "outputs": [],
   "source": [
    "#Defining all these models\n",
    "models = [\n",
    "           ['LinearRegression: ',LinearRegression()],\n",
    "           ['Lasso: ', Lasso()],\n",
    "           ['Ridge: ', Ridge()],\n",
    "           ['PolynomialRegression: ', Ridge()],\n",
    "           ['DecisionTreeRegressor: ',  DecisionTreeRegressor()],\n",
    "           ['RandomForestRegressor: ',RandomForestRegressor()],\n",
    "           ['GradientBoostingRegressor: ', GradientBoostingRegressor()] ,\n",
    "           ['XGBRegressor: ', XGBRegressor()],\n",
    "           ['LGBMRegressor: ', LGBMRegressor()]          \n",
    "        ]"
   ]
  },
  {
   "cell_type": "code",
   "execution_count": 95,
   "metadata": {},
   "outputs": [],
   "source": [
    "#store all the metrics values in data frame\n",
    "model_data = []\n",
    "for name,curr_model in models :\n",
    "    curr_model_data = {}\n",
    "    curr_model.random_state = 10\n",
    "    curr_model_data[\"Name\"] = name\n",
    "    if(name!='PolynomialRegression: '):\n",
    "      curr_model.fit(X_train,y_train)\n",
    "      curr_model_data[\"MAE_train\"] =mean_absolute_error(y_train, curr_model.predict(X_train))\n",
    "      curr_model_data[\"MAE_test\"] =mean_absolute_error(y_test, curr_model.predict(X_test))\n",
    "      curr_model_data[\"R2_Score_train\"] = r2_score(y_train,curr_model.predict(X_train))\n",
    "      curr_model_data[\"R2_Score_test\"] = r2_score(y_test,curr_model.predict(X_test))\n",
    "      curr_model_data[\"RMSE_Score_train\"] = np.sqrt(mean_squared_error(y_train,curr_model.predict(X_train)))\n",
    "      curr_model_data[\"RMSE_Score_test\"] = np.sqrt(mean_squared_error(y_test,curr_model.predict(X_test)))\n",
    "      model_data.append(curr_model_data)\n",
    "    else:\n",
    "      curr_model.fit(X_poly,y_train)\n",
    "      curr_model_data[\"MAE_train\"] =mean_absolute_error(y_train, curr_model.predict(X_poly))\n",
    "      curr_model_data[\"MAE_test\"] =mean_absolute_error(y_test, curr_model.predict(X_poly_test))\n",
    "      curr_model_data[\"R2_Score_train\"] = r2_score(y_train,curr_model.predict(X_poly))\n",
    "      curr_model_data[\"R2_Score_test\"] = r2_score(y_test,curr_model.predict(X_poly_test))\n",
    "      curr_model_data[\"RMSE_Score_train\"] = np.sqrt(mean_squared_error(y_train,curr_model.predict(X_poly)))\n",
    "      curr_model_data[\"RMSE_Score_test\"] = np.sqrt(mean_squared_error(y_test,curr_model.predict(X_poly_test)))\n",
    "      model_data.append(curr_model_data)"
   ]
  },
  {
   "cell_type": "code",
   "execution_count": 96,
   "metadata": {},
   "outputs": [
    {
     "data": {
      "text/html": [
       "<div>\n",
       "<style scoped>\n",
       "    .dataframe tbody tr th:only-of-type {\n",
       "        vertical-align: middle;\n",
       "    }\n",
       "\n",
       "    .dataframe tbody tr th {\n",
       "        vertical-align: top;\n",
       "    }\n",
       "\n",
       "    .dataframe thead th {\n",
       "        text-align: right;\n",
       "    }\n",
       "</style>\n",
       "<table border=\"1\" class=\"dataframe\">\n",
       "  <thead>\n",
       "    <tr style=\"text-align: right;\">\n",
       "      <th></th>\n",
       "      <th>Name</th>\n",
       "      <th>MAE_train</th>\n",
       "      <th>MAE_test</th>\n",
       "      <th>R2_Score_train</th>\n",
       "      <th>R2_Score_test</th>\n",
       "      <th>RMSE_Score_train</th>\n",
       "      <th>RMSE_Score_test</th>\n",
       "    </tr>\n",
       "  </thead>\n",
       "  <tbody>\n",
       "    <tr>\n",
       "      <th>0</th>\n",
       "      <td>LinearRegression:</td>\n",
       "      <td>5.950611</td>\n",
       "      <td>6.032493</td>\n",
       "      <td>0.017066</td>\n",
       "      <td>0.014606</td>\n",
       "      <td>9.778459</td>\n",
       "      <td>9.959301</td>\n",
       "    </tr>\n",
       "    <tr>\n",
       "      <th>1</th>\n",
       "      <td>Lasso:</td>\n",
       "      <td>6.010598</td>\n",
       "      <td>6.077431</td>\n",
       "      <td>0.004078</td>\n",
       "      <td>0.003760</td>\n",
       "      <td>9.842854</td>\n",
       "      <td>10.013961</td>\n",
       "    </tr>\n",
       "    <tr>\n",
       "      <th>2</th>\n",
       "      <td>Ridge:</td>\n",
       "      <td>5.950611</td>\n",
       "      <td>6.032493</td>\n",
       "      <td>0.017066</td>\n",
       "      <td>0.014606</td>\n",
       "      <td>9.778459</td>\n",
       "      <td>9.959300</td>\n",
       "    </tr>\n",
       "    <tr>\n",
       "      <th>3</th>\n",
       "      <td>PolynomialRegression:</td>\n",
       "      <td>4.736211</td>\n",
       "      <td>4.804617</td>\n",
       "      <td>0.219858</td>\n",
       "      <td>0.241868</td>\n",
       "      <td>8.711545</td>\n",
       "      <td>8.735670</td>\n",
       "    </tr>\n",
       "    <tr>\n",
       "      <th>4</th>\n",
       "      <td>DecisionTreeRegressor:</td>\n",
       "      <td>0.000053</td>\n",
       "      <td>3.268470</td>\n",
       "      <td>0.999999</td>\n",
       "      <td>0.443498</td>\n",
       "      <td>0.011076</td>\n",
       "      <td>7.484408</td>\n",
       "    </tr>\n",
       "    <tr>\n",
       "      <th>5</th>\n",
       "      <td>RandomForestRegressor:</td>\n",
       "      <td>0.878237</td>\n",
       "      <td>2.367876</td>\n",
       "      <td>0.962568</td>\n",
       "      <td>0.729380</td>\n",
       "      <td>1.908221</td>\n",
       "      <td>5.219195</td>\n",
       "    </tr>\n",
       "    <tr>\n",
       "      <th>6</th>\n",
       "      <td>GradientBoostingRegressor:</td>\n",
       "      <td>2.201446</td>\n",
       "      <td>2.218106</td>\n",
       "      <td>0.758203</td>\n",
       "      <td>0.755988</td>\n",
       "      <td>4.849915</td>\n",
       "      <td>4.955976</td>\n",
       "    </tr>\n",
       "    <tr>\n",
       "      <th>7</th>\n",
       "      <td>XGBRegressor:</td>\n",
       "      <td>2.028010</td>\n",
       "      <td>2.215863</td>\n",
       "      <td>0.838763</td>\n",
       "      <td>0.748072</td>\n",
       "      <td>3.960418</td>\n",
       "      <td>5.035729</td>\n",
       "    </tr>\n",
       "    <tr>\n",
       "      <th>8</th>\n",
       "      <td>LGBMRegressor:</td>\n",
       "      <td>2.193721</td>\n",
       "      <td>2.279247</td>\n",
       "      <td>0.758779</td>\n",
       "      <td>0.719841</td>\n",
       "      <td>4.844134</td>\n",
       "      <td>5.310384</td>\n",
       "    </tr>\n",
       "  </tbody>\n",
       "</table>\n",
       "</div>"
      ],
      "text/plain": [
       "                          Name  MAE_train  MAE_test  R2_Score_train  \\\n",
       "0           LinearRegression:    5.950611  6.032493        0.017066   \n",
       "1                      Lasso:    6.010598  6.077431        0.004078   \n",
       "2                      Ridge:    5.950611  6.032493        0.017066   \n",
       "3       PolynomialRegression:    4.736211  4.804617        0.219858   \n",
       "4      DecisionTreeRegressor:    0.000053  3.268470        0.999999   \n",
       "5      RandomForestRegressor:    0.878237  2.367876        0.962568   \n",
       "6  GradientBoostingRegressor:    2.201446  2.218106        0.758203   \n",
       "7               XGBRegressor:    2.028010  2.215863        0.838763   \n",
       "8              LGBMRegressor:    2.193721  2.279247        0.758779   \n",
       "\n",
       "   R2_Score_test  RMSE_Score_train  RMSE_Score_test  \n",
       "0       0.014606          9.778459         9.959301  \n",
       "1       0.003760          9.842854        10.013961  \n",
       "2       0.014606          9.778459         9.959300  \n",
       "3       0.241868          8.711545         8.735670  \n",
       "4       0.443498          0.011076         7.484408  \n",
       "5       0.729380          1.908221         5.219195  \n",
       "6       0.755988          4.849915         4.955976  \n",
       "7       0.748072          3.960418         5.035729  \n",
       "8       0.719841          4.844134         5.310384  "
      ]
     },
     "execution_count": 96,
     "metadata": {},
     "output_type": "execute_result"
    }
   ],
   "source": [
    "metrics_df1 = pd.DataFrame(model_data)\n",
    "metrics_df1"
   ]
  },
  {
   "cell_type": "markdown",
   "metadata": {},
   "source": [
    "RandomForestRegressor"
   ]
  },
  {
   "cell_type": "code",
   "execution_count": 98,
   "metadata": {},
   "outputs": [
    {
     "name": "stdout",
     "output_type": "stream",
     "text": [
      "Fitting 5 folds for each of 1 candidates, totalling 5 fits\n",
      "[CV] END bootstrap=True, max_depth=14, max_features=sqrt, min_samples_leaf=18, min_samples_split=10, n_estimators=13; total time=   2.0s\n",
      "[CV] END bootstrap=True, max_depth=14, max_features=sqrt, min_samples_leaf=18, min_samples_split=10, n_estimators=13; total time=   2.0s\n",
      "[CV] END bootstrap=True, max_depth=14, max_features=sqrt, min_samples_leaf=18, min_samples_split=10, n_estimators=13; total time=   1.9s\n",
      "[CV] END bootstrap=True, max_depth=14, max_features=sqrt, min_samples_leaf=18, min_samples_split=10, n_estimators=13; total time=   2.0s\n",
      "[CV] END bootstrap=True, max_depth=14, max_features=sqrt, min_samples_leaf=18, min_samples_split=10, n_estimators=13; total time=   2.0s\n",
      "Fitting 5 folds for each of 1 candidates, totalling 5 fits\n",
      "[CV] END bootstrap=True, max_depth=23, max_features=auto, min_samples_leaf=10, min_samples_split=10, n_estimators=60; total time=  31.7s\n",
      "[CV] END bootstrap=True, max_depth=23, max_features=auto, min_samples_leaf=10, min_samples_split=10, n_estimators=60; total time=  31.7s\n",
      "[CV] END bootstrap=True, max_depth=23, max_features=auto, min_samples_leaf=10, min_samples_split=10, n_estimators=60; total time=  32.1s\n",
      "[CV] END bootstrap=True, max_depth=23, max_features=auto, min_samples_leaf=10, min_samples_split=10, n_estimators=60; total time=  32.0s\n",
      "[CV] END bootstrap=True, max_depth=23, max_features=auto, min_samples_leaf=10, min_samples_split=10, n_estimators=60; total time=  32.6s\n",
      "Fitting 5 folds for each of 1 candidates, totalling 5 fits\n",
      "[CV] END bootstrap=False, max_depth=18, max_features=log2, min_samples_leaf=6, min_samples_split=18, n_estimators=184; total time=  49.9s\n",
      "[CV] END bootstrap=False, max_depth=18, max_features=log2, min_samples_leaf=6, min_samples_split=18, n_estimators=184; total time=  50.7s\n",
      "[CV] END bootstrap=False, max_depth=18, max_features=log2, min_samples_leaf=6, min_samples_split=18, n_estimators=184; total time=  49.5s\n",
      "[CV] END bootstrap=False, max_depth=18, max_features=log2, min_samples_leaf=6, min_samples_split=18, n_estimators=184; total time=  49.6s\n",
      "[CV] END bootstrap=False, max_depth=18, max_features=log2, min_samples_leaf=6, min_samples_split=18, n_estimators=184; total time=  50.6s\n",
      "Fitting 5 folds for each of 1 candidates, totalling 5 fits\n",
      "[CV] END bootstrap=False, max_depth=24, max_features=auto, min_samples_leaf=15, min_samples_split=12, n_estimators=47; total time=  38.4s\n",
      "[CV] END bootstrap=False, max_depth=24, max_features=auto, min_samples_leaf=15, min_samples_split=12, n_estimators=47; total time=  37.9s\n",
      "[CV] END bootstrap=False, max_depth=24, max_features=auto, min_samples_leaf=15, min_samples_split=12, n_estimators=47; total time=  37.8s\n",
      "[CV] END bootstrap=False, max_depth=24, max_features=auto, min_samples_leaf=15, min_samples_split=12, n_estimators=47; total time=  37.7s\n",
      "[CV] END bootstrap=False, max_depth=24, max_features=auto, min_samples_leaf=15, min_samples_split=12, n_estimators=47; total time=  38.5s\n",
      "Fitting 5 folds for each of 1 candidates, totalling 5 fits\n",
      "[CV] END bootstrap=False, max_depth=8, max_features=log2, min_samples_leaf=9, min_samples_split=18, n_estimators=109; total time=  15.5s\n",
      "[CV] END bootstrap=False, max_depth=8, max_features=log2, min_samples_leaf=9, min_samples_split=18, n_estimators=109; total time=  15.6s\n",
      "[CV] END bootstrap=False, max_depth=8, max_features=log2, min_samples_leaf=9, min_samples_split=18, n_estimators=109; total time=  16.1s\n",
      "[CV] END bootstrap=False, max_depth=8, max_features=log2, min_samples_leaf=9, min_samples_split=18, n_estimators=109; total time=  15.3s\n",
      "[CV] END bootstrap=False, max_depth=8, max_features=log2, min_samples_leaf=9, min_samples_split=18, n_estimators=109; total time=  15.9s\n",
      "Fitting 5 folds for each of 1 candidates, totalling 5 fits\n",
      "[CV] END bootstrap=False, max_depth=30, max_features=sqrt, min_samples_leaf=12, min_samples_split=16, n_estimators=82; total time=  22.4s\n",
      "[CV] END bootstrap=False, max_depth=30, max_features=sqrt, min_samples_leaf=12, min_samples_split=16, n_estimators=82; total time=  22.8s\n",
      "[CV] END bootstrap=False, max_depth=30, max_features=sqrt, min_samples_leaf=12, min_samples_split=16, n_estimators=82; total time=  22.4s\n",
      "[CV] END bootstrap=False, max_depth=30, max_features=sqrt, min_samples_leaf=12, min_samples_split=16, n_estimators=82; total time=  22.6s\n",
      "[CV] END bootstrap=False, max_depth=30, max_features=sqrt, min_samples_leaf=12, min_samples_split=16, n_estimators=82; total time=  22.3s\n",
      "Fitting 5 folds for each of 1 candidates, totalling 5 fits\n",
      "[CV] END bootstrap=True, max_depth=11, max_features=sqrt, min_samples_leaf=17, min_samples_split=18, n_estimators=22; total time=   2.8s\n",
      "[CV] END bootstrap=True, max_depth=11, max_features=sqrt, min_samples_leaf=17, min_samples_split=18, n_estimators=22; total time=   2.9s\n",
      "[CV] END bootstrap=True, max_depth=11, max_features=sqrt, min_samples_leaf=17, min_samples_split=18, n_estimators=22; total time=   2.8s\n",
      "[CV] END bootstrap=True, max_depth=11, max_features=sqrt, min_samples_leaf=17, min_samples_split=18, n_estimators=22; total time=   2.6s\n",
      "[CV] END bootstrap=True, max_depth=11, max_features=sqrt, min_samples_leaf=17, min_samples_split=18, n_estimators=22; total time=   2.8s\n",
      "Fitting 5 folds for each of 1 candidates, totalling 5 fits\n",
      "[CV] END bootstrap=False, max_depth=15, max_features=auto, min_samples_leaf=11, min_samples_split=18, n_estimators=25; total time=  17.9s\n",
      "[CV] END bootstrap=False, max_depth=15, max_features=auto, min_samples_leaf=11, min_samples_split=18, n_estimators=25; total time=  17.8s\n",
      "[CV] END bootstrap=False, max_depth=15, max_features=auto, min_samples_leaf=11, min_samples_split=18, n_estimators=25; total time=  17.8s\n",
      "[CV] END bootstrap=False, max_depth=15, max_features=auto, min_samples_leaf=11, min_samples_split=18, n_estimators=25; total time=  17.7s\n",
      "[CV] END bootstrap=False, max_depth=15, max_features=auto, min_samples_leaf=11, min_samples_split=18, n_estimators=25; total time=  17.9s\n",
      "Fitting 5 folds for each of 1 candidates, totalling 5 fits\n",
      "[CV] END bootstrap=True, max_depth=23, max_features=log2, min_samples_leaf=6, min_samples_split=19, n_estimators=43; total time=   7.9s\n",
      "[CV] END bootstrap=True, max_depth=23, max_features=log2, min_samples_leaf=6, min_samples_split=19, n_estimators=43; total time=   8.1s\n",
      "[CV] END bootstrap=True, max_depth=23, max_features=log2, min_samples_leaf=6, min_samples_split=19, n_estimators=43; total time=   8.1s\n",
      "[CV] END bootstrap=True, max_depth=23, max_features=log2, min_samples_leaf=6, min_samples_split=19, n_estimators=43; total time=   8.4s\n",
      "[CV] END bootstrap=True, max_depth=23, max_features=log2, min_samples_leaf=6, min_samples_split=19, n_estimators=43; total time=   8.2s\n",
      "Fitting 5 folds for each of 1 candidates, totalling 5 fits\n",
      "[CV] END bootstrap=True, max_depth=14, max_features=auto, min_samples_leaf=12, min_samples_split=4, n_estimators=34; total time=  15.4s\n",
      "[CV] END bootstrap=True, max_depth=14, max_features=auto, min_samples_leaf=12, min_samples_split=4, n_estimators=34; total time=  15.4s\n",
      "[CV] END bootstrap=True, max_depth=14, max_features=auto, min_samples_leaf=12, min_samples_split=4, n_estimators=34; total time=  15.2s\n",
      "[CV] END bootstrap=True, max_depth=14, max_features=auto, min_samples_leaf=12, min_samples_split=4, n_estimators=34; total time=  26.1s\n",
      "[CV] END bootstrap=True, max_depth=14, max_features=auto, min_samples_leaf=12, min_samples_split=4, n_estimators=34; total time=  22.4s\n"
     ]
    },
    {
     "data": {
      "text/html": [
       "<style>#sk-container-id-3 {color: black;background-color: white;}#sk-container-id-3 pre{padding: 0;}#sk-container-id-3 div.sk-toggleable {background-color: white;}#sk-container-id-3 label.sk-toggleable__label {cursor: pointer;display: block;width: 100%;margin-bottom: 0;padding: 0.3em;box-sizing: border-box;text-align: center;}#sk-container-id-3 label.sk-toggleable__label-arrow:before {content: \"▸\";float: left;margin-right: 0.25em;color: #696969;}#sk-container-id-3 label.sk-toggleable__label-arrow:hover:before {color: black;}#sk-container-id-3 div.sk-estimator:hover label.sk-toggleable__label-arrow:before {color: black;}#sk-container-id-3 div.sk-toggleable__content {max-height: 0;max-width: 0;overflow: hidden;text-align: left;background-color: #f0f8ff;}#sk-container-id-3 div.sk-toggleable__content pre {margin: 0.2em;color: black;border-radius: 0.25em;background-color: #f0f8ff;}#sk-container-id-3 input.sk-toggleable__control:checked~div.sk-toggleable__content {max-height: 200px;max-width: 100%;overflow: auto;}#sk-container-id-3 input.sk-toggleable__control:checked~label.sk-toggleable__label-arrow:before {content: \"▾\";}#sk-container-id-3 div.sk-estimator input.sk-toggleable__control:checked~label.sk-toggleable__label {background-color: #d4ebff;}#sk-container-id-3 div.sk-label input.sk-toggleable__control:checked~label.sk-toggleable__label {background-color: #d4ebff;}#sk-container-id-3 input.sk-hidden--visually {border: 0;clip: rect(1px 1px 1px 1px);clip: rect(1px, 1px, 1px, 1px);height: 1px;margin: -1px;overflow: hidden;padding: 0;position: absolute;width: 1px;}#sk-container-id-3 div.sk-estimator {font-family: monospace;background-color: #f0f8ff;border: 1px dotted black;border-radius: 0.25em;box-sizing: border-box;margin-bottom: 0.5em;}#sk-container-id-3 div.sk-estimator:hover {background-color: #d4ebff;}#sk-container-id-3 div.sk-parallel-item::after {content: \"\";width: 100%;border-bottom: 1px solid gray;flex-grow: 1;}#sk-container-id-3 div.sk-label:hover label.sk-toggleable__label {background-color: #d4ebff;}#sk-container-id-3 div.sk-serial::before {content: \"\";position: absolute;border-left: 1px solid gray;box-sizing: border-box;top: 0;bottom: 0;left: 50%;z-index: 0;}#sk-container-id-3 div.sk-serial {display: flex;flex-direction: column;align-items: center;background-color: white;padding-right: 0.2em;padding-left: 0.2em;position: relative;}#sk-container-id-3 div.sk-item {position: relative;z-index: 1;}#sk-container-id-3 div.sk-parallel {display: flex;align-items: stretch;justify-content: center;background-color: white;position: relative;}#sk-container-id-3 div.sk-item::before, #sk-container-id-3 div.sk-parallel-item::before {content: \"\";position: absolute;border-left: 1px solid gray;box-sizing: border-box;top: 0;bottom: 0;left: 50%;z-index: -1;}#sk-container-id-3 div.sk-parallel-item {display: flex;flex-direction: column;z-index: 1;position: relative;background-color: white;}#sk-container-id-3 div.sk-parallel-item:first-child::after {align-self: flex-end;width: 50%;}#sk-container-id-3 div.sk-parallel-item:last-child::after {align-self: flex-start;width: 50%;}#sk-container-id-3 div.sk-parallel-item:only-child::after {width: 0;}#sk-container-id-3 div.sk-dashed-wrapped {border: 1px dashed gray;margin: 0 0.4em 0.5em 0.4em;box-sizing: border-box;padding-bottom: 0.4em;background-color: white;}#sk-container-id-3 div.sk-label label {font-family: monospace;font-weight: bold;display: inline-block;line-height: 1.2em;}#sk-container-id-3 div.sk-label-container {text-align: center;}#sk-container-id-3 div.sk-container {/* jupyter's `normalize.less` sets `[hidden] { display: none; }` but bootstrap.min.css set `[hidden] { display: none !important; }` so we also need the `!important` here to be able to override the default hidden behavior on the sphinx rendered scikit-learn.org. See: https://github.com/scikit-learn/scikit-learn/issues/21755 */display: inline-block !important;position: relative;}#sk-container-id-3 div.sk-text-repr-fallback {display: none;}</style><div id=\"sk-container-id-3\" class=\"sk-top-container\"><div class=\"sk-text-repr-fallback\"><pre>BayesSearchCV(cv=5, estimator=RandomForestRegressor(random_state=10), n_iter=10,\n",
       "              scoring=&#x27;r2&#x27;,\n",
       "              search_spaces={&#x27;bootstrap&#x27;: [True, False],\n",
       "                             &#x27;max_depth&#x27;: Integer(low=4, high=40, prior=&#x27;uniform&#x27;, transform=&#x27;normalize&#x27;),\n",
       "                             &#x27;max_features&#x27;: [&#x27;auto&#x27;, &#x27;sqrt&#x27;, &#x27;log2&#x27;],\n",
       "                             &#x27;min_samples_leaf&#x27;: Integer(low=3, high=20, prior=&#x27;uniform&#x27;, transform=&#x27;normalize&#x27;),\n",
       "                             &#x27;min_samples_split&#x27;: Integer(low=3, high=20, prior=&#x27;uniform&#x27;, transform=&#x27;normalize&#x27;),\n",
       "                             &#x27;n_estimators&#x27;: Integer(low=10, high=200, prior=&#x27;uniform&#x27;, transform=&#x27;normalize&#x27;)},\n",
       "              verbose=2)</pre><b>In a Jupyter environment, please rerun this cell to show the HTML representation or trust the notebook. <br />On GitHub, the HTML representation is unable to render, please try loading this page with nbviewer.org.</b></div><div class=\"sk-container\" hidden><div class=\"sk-item sk-dashed-wrapped\"><div class=\"sk-label-container\"><div class=\"sk-label sk-toggleable\"><input class=\"sk-toggleable__control sk-hidden--visually\" id=\"sk-estimator-id-3\" type=\"checkbox\" ><label for=\"sk-estimator-id-3\" class=\"sk-toggleable__label sk-toggleable__label-arrow\">BayesSearchCV</label><div class=\"sk-toggleable__content\"><pre>BayesSearchCV(cv=5, estimator=RandomForestRegressor(random_state=10), n_iter=10,\n",
       "              scoring=&#x27;r2&#x27;,\n",
       "              search_spaces={&#x27;bootstrap&#x27;: [True, False],\n",
       "                             &#x27;max_depth&#x27;: Integer(low=4, high=40, prior=&#x27;uniform&#x27;, transform=&#x27;normalize&#x27;),\n",
       "                             &#x27;max_features&#x27;: [&#x27;auto&#x27;, &#x27;sqrt&#x27;, &#x27;log2&#x27;],\n",
       "                             &#x27;min_samples_leaf&#x27;: Integer(low=3, high=20, prior=&#x27;uniform&#x27;, transform=&#x27;normalize&#x27;),\n",
       "                             &#x27;min_samples_split&#x27;: Integer(low=3, high=20, prior=&#x27;uniform&#x27;, transform=&#x27;normalize&#x27;),\n",
       "                             &#x27;n_estimators&#x27;: Integer(low=10, high=200, prior=&#x27;uniform&#x27;, transform=&#x27;normalize&#x27;)},\n",
       "              verbose=2)</pre></div></div></div><div class=\"sk-parallel\"><div class=\"sk-parallel-item\"><div class=\"sk-item\"><div class=\"sk-label-container\"><div class=\"sk-label sk-toggleable\"><input class=\"sk-toggleable__control sk-hidden--visually\" id=\"sk-estimator-id-4\" type=\"checkbox\" ><label for=\"sk-estimator-id-4\" class=\"sk-toggleable__label sk-toggleable__label-arrow\">estimator: RandomForestRegressor</label><div class=\"sk-toggleable__content\"><pre>RandomForestRegressor(random_state=10)</pre></div></div></div><div class=\"sk-serial\"><div class=\"sk-item\"><div class=\"sk-estimator sk-toggleable\"><input class=\"sk-toggleable__control sk-hidden--visually\" id=\"sk-estimator-id-5\" type=\"checkbox\" ><label for=\"sk-estimator-id-5\" class=\"sk-toggleable__label sk-toggleable__label-arrow\">RandomForestRegressor</label><div class=\"sk-toggleable__content\"><pre>RandomForestRegressor(random_state=10)</pre></div></div></div></div></div></div></div></div></div></div>"
      ],
      "text/plain": [
       "BayesSearchCV(cv=5, estimator=RandomForestRegressor(random_state=10), n_iter=10,\n",
       "              scoring='r2',\n",
       "              search_spaces={'bootstrap': [True, False],\n",
       "                             'max_depth': Integer(low=4, high=40, prior='uniform', transform='normalize'),\n",
       "                             'max_features': ['auto', 'sqrt', 'log2'],\n",
       "                             'min_samples_leaf': Integer(low=3, high=20, prior='uniform', transform='normalize'),\n",
       "                             'min_samples_split': Integer(low=3, high=20, prior='uniform', transform='normalize'),\n",
       "                             'n_estimators': Integer(low=10, high=200, prior='uniform', transform='normalize')},\n",
       "              verbose=2)"
      ]
     },
     "execution_count": 98,
     "metadata": {},
     "output_type": "execute_result"
    }
   ],
   "source": [
    "#Cross validation and hyperparameter tuning\n",
    "lr_bayes = BayesSearchCV(estimator=regressor,\n",
    "                         search_spaces = {\n",
    "                          'max_depth':Integer(4,40) ,\n",
    "                          'min_samples_leaf': Integer(3,20),\n",
    "                          'min_samples_split': Integer(3,20),\n",
    "                          'n_estimators': Integer(10,200),\n",
    "                          'max_features': [\"auto\", \"sqrt\", \"log2\"],\n",
    "                          'bootstrap' : [True, False]\n",
    "\n",
    "                        },\n",
    "                       cv = 5, verbose=2, scoring='r2', n_iter=10)\n",
    "\n",
    "lr_bayes.fit(X_train,y_train)"
   ]
  },
  {
   "cell_type": "code",
   "execution_count": 99,
   "metadata": {},
   "outputs": [
    {
     "data": {
      "text/html": [
       "<style>#sk-container-id-4 {color: black;background-color: white;}#sk-container-id-4 pre{padding: 0;}#sk-container-id-4 div.sk-toggleable {background-color: white;}#sk-container-id-4 label.sk-toggleable__label {cursor: pointer;display: block;width: 100%;margin-bottom: 0;padding: 0.3em;box-sizing: border-box;text-align: center;}#sk-container-id-4 label.sk-toggleable__label-arrow:before {content: \"▸\";float: left;margin-right: 0.25em;color: #696969;}#sk-container-id-4 label.sk-toggleable__label-arrow:hover:before {color: black;}#sk-container-id-4 div.sk-estimator:hover label.sk-toggleable__label-arrow:before {color: black;}#sk-container-id-4 div.sk-toggleable__content {max-height: 0;max-width: 0;overflow: hidden;text-align: left;background-color: #f0f8ff;}#sk-container-id-4 div.sk-toggleable__content pre {margin: 0.2em;color: black;border-radius: 0.25em;background-color: #f0f8ff;}#sk-container-id-4 input.sk-toggleable__control:checked~div.sk-toggleable__content {max-height: 200px;max-width: 100%;overflow: auto;}#sk-container-id-4 input.sk-toggleable__control:checked~label.sk-toggleable__label-arrow:before {content: \"▾\";}#sk-container-id-4 div.sk-estimator input.sk-toggleable__control:checked~label.sk-toggleable__label {background-color: #d4ebff;}#sk-container-id-4 div.sk-label input.sk-toggleable__control:checked~label.sk-toggleable__label {background-color: #d4ebff;}#sk-container-id-4 input.sk-hidden--visually {border: 0;clip: rect(1px 1px 1px 1px);clip: rect(1px, 1px, 1px, 1px);height: 1px;margin: -1px;overflow: hidden;padding: 0;position: absolute;width: 1px;}#sk-container-id-4 div.sk-estimator {font-family: monospace;background-color: #f0f8ff;border: 1px dotted black;border-radius: 0.25em;box-sizing: border-box;margin-bottom: 0.5em;}#sk-container-id-4 div.sk-estimator:hover {background-color: #d4ebff;}#sk-container-id-4 div.sk-parallel-item::after {content: \"\";width: 100%;border-bottom: 1px solid gray;flex-grow: 1;}#sk-container-id-4 div.sk-label:hover label.sk-toggleable__label {background-color: #d4ebff;}#sk-container-id-4 div.sk-serial::before {content: \"\";position: absolute;border-left: 1px solid gray;box-sizing: border-box;top: 0;bottom: 0;left: 50%;z-index: 0;}#sk-container-id-4 div.sk-serial {display: flex;flex-direction: column;align-items: center;background-color: white;padding-right: 0.2em;padding-left: 0.2em;position: relative;}#sk-container-id-4 div.sk-item {position: relative;z-index: 1;}#sk-container-id-4 div.sk-parallel {display: flex;align-items: stretch;justify-content: center;background-color: white;position: relative;}#sk-container-id-4 div.sk-item::before, #sk-container-id-4 div.sk-parallel-item::before {content: \"\";position: absolute;border-left: 1px solid gray;box-sizing: border-box;top: 0;bottom: 0;left: 50%;z-index: -1;}#sk-container-id-4 div.sk-parallel-item {display: flex;flex-direction: column;z-index: 1;position: relative;background-color: white;}#sk-container-id-4 div.sk-parallel-item:first-child::after {align-self: flex-end;width: 50%;}#sk-container-id-4 div.sk-parallel-item:last-child::after {align-self: flex-start;width: 50%;}#sk-container-id-4 div.sk-parallel-item:only-child::after {width: 0;}#sk-container-id-4 div.sk-dashed-wrapped {border: 1px dashed gray;margin: 0 0.4em 0.5em 0.4em;box-sizing: border-box;padding-bottom: 0.4em;background-color: white;}#sk-container-id-4 div.sk-label label {font-family: monospace;font-weight: bold;display: inline-block;line-height: 1.2em;}#sk-container-id-4 div.sk-label-container {text-align: center;}#sk-container-id-4 div.sk-container {/* jupyter's `normalize.less` sets `[hidden] { display: none; }` but bootstrap.min.css set `[hidden] { display: none !important; }` so we also need the `!important` here to be able to override the default hidden behavior on the sphinx rendered scikit-learn.org. See: https://github.com/scikit-learn/scikit-learn/issues/21755 */display: inline-block !important;position: relative;}#sk-container-id-4 div.sk-text-repr-fallback {display: none;}</style><div id=\"sk-container-id-4\" class=\"sk-top-container\"><div class=\"sk-text-repr-fallback\"><pre>RandomForestRegressor(max_depth=14, max_features=&#x27;auto&#x27;, min_samples_leaf=12,\n",
       "                      min_samples_split=4, n_estimators=34, random_state=10)</pre><b>In a Jupyter environment, please rerun this cell to show the HTML representation or trust the notebook. <br />On GitHub, the HTML representation is unable to render, please try loading this page with nbviewer.org.</b></div><div class=\"sk-container\" hidden><div class=\"sk-item\"><div class=\"sk-estimator sk-toggleable\"><input class=\"sk-toggleable__control sk-hidden--visually\" id=\"sk-estimator-id-6\" type=\"checkbox\" checked><label for=\"sk-estimator-id-6\" class=\"sk-toggleable__label sk-toggleable__label-arrow\">RandomForestRegressor</label><div class=\"sk-toggleable__content\"><pre>RandomForestRegressor(max_depth=14, max_features=&#x27;auto&#x27;, min_samples_leaf=12,\n",
       "                      min_samples_split=4, n_estimators=34, random_state=10)</pre></div></div></div></div></div>"
      ],
      "text/plain": [
       "RandomForestRegressor(max_depth=14, max_features='auto', min_samples_leaf=12,\n",
       "                      min_samples_split=4, n_estimators=34, random_state=10)"
      ]
     },
     "execution_count": 99,
     "metadata": {},
     "output_type": "execute_result"
    }
   ],
   "source": [
    "lr_bayes.best_estimator_"
   ]
  },
  {
   "cell_type": "code",
   "execution_count": 100,
   "metadata": {},
   "outputs": [
    {
     "name": "stdout",
     "output_type": "stream",
     "text": [
      "Train R2 square :  0.7957079597458321\n",
      "Test R2 score :  0.7548045433362522\n"
     ]
    }
   ],
   "source": [
    "#r2 of test and train\n",
    "print('Train R2 square : ', lr_bayes.best_estimator_.score(X_train,y_train))\n",
    "print('Test R2 score : ', lr_bayes.best_estimator_.score(X_test,y_test))"
   ]
  },
  {
   "cell_type": "markdown",
   "metadata": {},
   "source": [
    "GradientBoostingRegressor"
   ]
  },
  {
   "cell_type": "code",
   "execution_count": 101,
   "metadata": {},
   "outputs": [
    {
     "name": "stdout",
     "output_type": "stream",
     "text": [
      "Fitting 5 folds for each of 1 candidates, totalling 5 fits\n",
      "[CV] END criterion=friedman_mse, loss=quantile, max_depth=4, min_samples_leaf=45, min_samples_split=150, n_estimators=43; total time=  21.0s\n",
      "[CV] END criterion=friedman_mse, loss=quantile, max_depth=4, min_samples_leaf=45, min_samples_split=150, n_estimators=43; total time=  29.2s\n",
      "[CV] END criterion=friedman_mse, loss=quantile, max_depth=4, min_samples_leaf=45, min_samples_split=150, n_estimators=43; total time=  18.7s\n",
      "[CV] END criterion=friedman_mse, loss=quantile, max_depth=4, min_samples_leaf=45, min_samples_split=150, n_estimators=43; total time=  18.9s\n",
      "[CV] END criterion=friedman_mse, loss=quantile, max_depth=4, min_samples_leaf=45, min_samples_split=150, n_estimators=43; total time=  19.0s\n",
      "Fitting 5 folds for each of 1 candidates, totalling 5 fits\n",
      "[CV] END criterion=friedman_mse, loss=quantile, max_depth=4, min_samples_leaf=44, min_samples_split=91, n_estimators=164; total time= 1.2min\n",
      "[CV] END criterion=friedman_mse, loss=quantile, max_depth=4, min_samples_leaf=44, min_samples_split=91, n_estimators=164; total time= 1.3min\n",
      "[CV] END criterion=friedman_mse, loss=quantile, max_depth=4, min_samples_leaf=44, min_samples_split=91, n_estimators=164; total time= 1.2min\n",
      "[CV] END criterion=friedman_mse, loss=quantile, max_depth=4, min_samples_leaf=44, min_samples_split=91, n_estimators=164; total time= 1.2min\n",
      "[CV] END criterion=friedman_mse, loss=quantile, max_depth=4, min_samples_leaf=44, min_samples_split=91, n_estimators=164; total time= 1.2min\n",
      "Fitting 5 folds for each of 1 candidates, totalling 5 fits\n",
      "[CV] END criterion=squared_error, loss=quantile, max_depth=4, min_samples_leaf=83, min_samples_split=133, n_estimators=129; total time= 1.0min\n",
      "[CV] END criterion=squared_error, loss=quantile, max_depth=4, min_samples_leaf=83, min_samples_split=133, n_estimators=129; total time=  58.8s\n",
      "[CV] END criterion=squared_error, loss=quantile, max_depth=4, min_samples_leaf=83, min_samples_split=133, n_estimators=129; total time=  58.5s\n",
      "[CV] END criterion=squared_error, loss=quantile, max_depth=4, min_samples_leaf=83, min_samples_split=133, n_estimators=129; total time=  58.5s\n",
      "[CV] END criterion=squared_error, loss=quantile, max_depth=4, min_samples_leaf=83, min_samples_split=133, n_estimators=129; total time=  58.8s\n",
      "Fitting 5 folds for each of 1 candidates, totalling 5 fits\n",
      "[CV] END criterion=friedman_mse, loss=squared_error, max_depth=5, min_samples_leaf=36, min_samples_split=124, n_estimators=120; total time= 1.1min\n",
      "[CV] END criterion=friedman_mse, loss=squared_error, max_depth=5, min_samples_leaf=36, min_samples_split=124, n_estimators=120; total time=  60.0s\n",
      "[CV] END criterion=friedman_mse, loss=squared_error, max_depth=5, min_samples_leaf=36, min_samples_split=124, n_estimators=120; total time=  56.4s\n",
      "[CV] END criterion=friedman_mse, loss=squared_error, max_depth=5, min_samples_leaf=36, min_samples_split=124, n_estimators=120; total time=  54.9s\n",
      "[CV] END criterion=friedman_mse, loss=squared_error, max_depth=5, min_samples_leaf=36, min_samples_split=124, n_estimators=120; total time= 1.0min\n",
      "Fitting 5 folds for each of 1 candidates, totalling 5 fits\n",
      "[CV] END criterion=friedman_mse, loss=huber, max_depth=5, min_samples_leaf=24, min_samples_split=81, n_estimators=30; total time=  16.1s\n",
      "[CV] END criterion=friedman_mse, loss=huber, max_depth=5, min_samples_leaf=24, min_samples_split=81, n_estimators=30; total time=  16.8s\n",
      "[CV] END criterion=friedman_mse, loss=huber, max_depth=5, min_samples_leaf=24, min_samples_split=81, n_estimators=30; total time=  17.3s\n",
      "[CV] END criterion=friedman_mse, loss=huber, max_depth=5, min_samples_leaf=24, min_samples_split=81, n_estimators=30; total time=  16.6s\n",
      "[CV] END criterion=friedman_mse, loss=huber, max_depth=5, min_samples_leaf=24, min_samples_split=81, n_estimators=30; total time=  16.8s\n",
      "Fitting 5 folds for each of 1 candidates, totalling 5 fits\n",
      "[CV] END criterion=friedman_mse, loss=quantile, max_depth=4, min_samples_leaf=53, min_samples_split=135, n_estimators=16; total time=   6.7s\n",
      "[CV] END criterion=friedman_mse, loss=quantile, max_depth=4, min_samples_leaf=53, min_samples_split=135, n_estimators=16; total time=   6.8s\n",
      "[CV] END criterion=friedman_mse, loss=quantile, max_depth=4, min_samples_leaf=53, min_samples_split=135, n_estimators=16; total time=   6.3s\n",
      "[CV] END criterion=friedman_mse, loss=quantile, max_depth=4, min_samples_leaf=53, min_samples_split=135, n_estimators=16; total time=   6.3s\n",
      "[CV] END criterion=friedman_mse, loss=quantile, max_depth=4, min_samples_leaf=53, min_samples_split=135, n_estimators=16; total time=   6.6s\n",
      "Fitting 5 folds for each of 1 candidates, totalling 5 fits\n",
      "[CV] END criterion=friedman_mse, loss=quantile, max_depth=5, min_samples_leaf=36, min_samples_split=134, n_estimators=47; total time=  23.9s\n",
      "[CV] END criterion=friedman_mse, loss=quantile, max_depth=5, min_samples_leaf=36, min_samples_split=134, n_estimators=47; total time=  22.8s\n",
      "[CV] END criterion=friedman_mse, loss=quantile, max_depth=5, min_samples_leaf=36, min_samples_split=134, n_estimators=47; total time=  23.4s\n",
      "[CV] END criterion=friedman_mse, loss=quantile, max_depth=5, min_samples_leaf=36, min_samples_split=134, n_estimators=47; total time=  26.2s\n",
      "[CV] END criterion=friedman_mse, loss=quantile, max_depth=5, min_samples_leaf=36, min_samples_split=134, n_estimators=47; total time=  24.2s\n",
      "Fitting 5 folds for each of 1 candidates, totalling 5 fits\n",
      "[CV] END criterion=squared_error, loss=huber, max_depth=5, min_samples_leaf=24, min_samples_split=144, n_estimators=162; total time= 1.4min\n",
      "[CV] END criterion=squared_error, loss=huber, max_depth=5, min_samples_leaf=24, min_samples_split=144, n_estimators=162; total time= 1.4min\n",
      "[CV] END criterion=squared_error, loss=huber, max_depth=5, min_samples_leaf=24, min_samples_split=144, n_estimators=162; total time= 1.9min\n",
      "[CV] END criterion=squared_error, loss=huber, max_depth=5, min_samples_leaf=24, min_samples_split=144, n_estimators=162; total time= 1.6min\n",
      "[CV] END criterion=squared_error, loss=huber, max_depth=5, min_samples_leaf=24, min_samples_split=144, n_estimators=162; total time= 1.5min\n",
      "Fitting 5 folds for each of 1 candidates, totalling 5 fits\n",
      "[CV] END criterion=squared_error, loss=absolute_error, max_depth=6, min_samples_leaf=26, min_samples_split=51, n_estimators=186; total time= 1.9min\n",
      "[CV] END criterion=squared_error, loss=absolute_error, max_depth=6, min_samples_leaf=26, min_samples_split=51, n_estimators=186; total time= 1.9min\n",
      "[CV] END criterion=squared_error, loss=absolute_error, max_depth=6, min_samples_leaf=26, min_samples_split=51, n_estimators=186; total time= 1.9min\n",
      "[CV] END criterion=squared_error, loss=absolute_error, max_depth=6, min_samples_leaf=26, min_samples_split=51, n_estimators=186; total time= 1.9min\n",
      "Executing shutdown due to inactivity...\n"
     ]
    },
    {
     "name": "stderr",
     "output_type": "stream",
     "text": [
      "2022-10-14 21:38:46,196 - INFO     - Executing shutdown due to inactivity...\n"
     ]
    },
    {
     "name": "stdout",
     "output_type": "stream",
     "text": [
      "Executing shutdown...\n"
     ]
    },
    {
     "name": "stderr",
     "output_type": "stream",
     "text": [
      "2022-10-14 21:38:51,162 - INFO     - Executing shutdown...\n"
     ]
    },
    {
     "name": "stdout",
     "output_type": "stream",
     "text": [
      "[CV] END criterion=squared_error, loss=absolute_error, max_depth=6, min_samples_leaf=26, min_samples_split=51, n_estimators=186; total time= 1.8min\n",
      "Fitting 5 folds for each of 1 candidates, totalling 5 fits\n",
      "[CV] END criterion=friedman_mse, loss=huber, max_depth=6, min_samples_leaf=36, min_samples_split=137, n_estimators=115; total time= 1.2min\n",
      "[CV] END criterion=friedman_mse, loss=huber, max_depth=6, min_samples_leaf=36, min_samples_split=137, n_estimators=115; total time= 1.2min\n",
      "[CV] END criterion=friedman_mse, loss=huber, max_depth=6, min_samples_leaf=36, min_samples_split=137, n_estimators=115; total time= 1.2min\n",
      "[CV] END criterion=friedman_mse, loss=huber, max_depth=6, min_samples_leaf=36, min_samples_split=137, n_estimators=115; total time= 1.8min\n",
      "[CV] END criterion=friedman_mse, loss=huber, max_depth=6, min_samples_leaf=36, min_samples_split=137, n_estimators=115; total time= 1.8min\n"
     ]
    },
    {
     "data": {
      "text/html": [
       "<style>#sk-container-id-5 {color: black;background-color: white;}#sk-container-id-5 pre{padding: 0;}#sk-container-id-5 div.sk-toggleable {background-color: white;}#sk-container-id-5 label.sk-toggleable__label {cursor: pointer;display: block;width: 100%;margin-bottom: 0;padding: 0.3em;box-sizing: border-box;text-align: center;}#sk-container-id-5 label.sk-toggleable__label-arrow:before {content: \"▸\";float: left;margin-right: 0.25em;color: #696969;}#sk-container-id-5 label.sk-toggleable__label-arrow:hover:before {color: black;}#sk-container-id-5 div.sk-estimator:hover label.sk-toggleable__label-arrow:before {color: black;}#sk-container-id-5 div.sk-toggleable__content {max-height: 0;max-width: 0;overflow: hidden;text-align: left;background-color: #f0f8ff;}#sk-container-id-5 div.sk-toggleable__content pre {margin: 0.2em;color: black;border-radius: 0.25em;background-color: #f0f8ff;}#sk-container-id-5 input.sk-toggleable__control:checked~div.sk-toggleable__content {max-height: 200px;max-width: 100%;overflow: auto;}#sk-container-id-5 input.sk-toggleable__control:checked~label.sk-toggleable__label-arrow:before {content: \"▾\";}#sk-container-id-5 div.sk-estimator input.sk-toggleable__control:checked~label.sk-toggleable__label {background-color: #d4ebff;}#sk-container-id-5 div.sk-label input.sk-toggleable__control:checked~label.sk-toggleable__label {background-color: #d4ebff;}#sk-container-id-5 input.sk-hidden--visually {border: 0;clip: rect(1px 1px 1px 1px);clip: rect(1px, 1px, 1px, 1px);height: 1px;margin: -1px;overflow: hidden;padding: 0;position: absolute;width: 1px;}#sk-container-id-5 div.sk-estimator {font-family: monospace;background-color: #f0f8ff;border: 1px dotted black;border-radius: 0.25em;box-sizing: border-box;margin-bottom: 0.5em;}#sk-container-id-5 div.sk-estimator:hover {background-color: #d4ebff;}#sk-container-id-5 div.sk-parallel-item::after {content: \"\";width: 100%;border-bottom: 1px solid gray;flex-grow: 1;}#sk-container-id-5 div.sk-label:hover label.sk-toggleable__label {background-color: #d4ebff;}#sk-container-id-5 div.sk-serial::before {content: \"\";position: absolute;border-left: 1px solid gray;box-sizing: border-box;top: 0;bottom: 0;left: 50%;z-index: 0;}#sk-container-id-5 div.sk-serial {display: flex;flex-direction: column;align-items: center;background-color: white;padding-right: 0.2em;padding-left: 0.2em;position: relative;}#sk-container-id-5 div.sk-item {position: relative;z-index: 1;}#sk-container-id-5 div.sk-parallel {display: flex;align-items: stretch;justify-content: center;background-color: white;position: relative;}#sk-container-id-5 div.sk-item::before, #sk-container-id-5 div.sk-parallel-item::before {content: \"\";position: absolute;border-left: 1px solid gray;box-sizing: border-box;top: 0;bottom: 0;left: 50%;z-index: -1;}#sk-container-id-5 div.sk-parallel-item {display: flex;flex-direction: column;z-index: 1;position: relative;background-color: white;}#sk-container-id-5 div.sk-parallel-item:first-child::after {align-self: flex-end;width: 50%;}#sk-container-id-5 div.sk-parallel-item:last-child::after {align-self: flex-start;width: 50%;}#sk-container-id-5 div.sk-parallel-item:only-child::after {width: 0;}#sk-container-id-5 div.sk-dashed-wrapped {border: 1px dashed gray;margin: 0 0.4em 0.5em 0.4em;box-sizing: border-box;padding-bottom: 0.4em;background-color: white;}#sk-container-id-5 div.sk-label label {font-family: monospace;font-weight: bold;display: inline-block;line-height: 1.2em;}#sk-container-id-5 div.sk-label-container {text-align: center;}#sk-container-id-5 div.sk-container {/* jupyter's `normalize.less` sets `[hidden] { display: none; }` but bootstrap.min.css set `[hidden] { display: none !important; }` so we also need the `!important` here to be able to override the default hidden behavior on the sphinx rendered scikit-learn.org. See: https://github.com/scikit-learn/scikit-learn/issues/21755 */display: inline-block !important;position: relative;}#sk-container-id-5 div.sk-text-repr-fallback {display: none;}</style><div id=\"sk-container-id-5\" class=\"sk-top-container\"><div class=\"sk-text-repr-fallback\"><pre>BayesSearchCV(cv=5, estimator=GradientBoostingRegressor(random_state=10),\n",
       "              n_iter=10, scoring=&#x27;r2&#x27;,\n",
       "              search_spaces={&#x27;criterion&#x27;: [&#x27;friedman_mse&#x27;, &#x27;squared_error&#x27;],\n",
       "                             &#x27;loss&#x27;: [&#x27;squared_error&#x27;, &#x27;absolute_error&#x27;,\n",
       "                                      &#x27;huber&#x27;, &#x27;quantile&#x27;],\n",
       "                             &#x27;max_depth&#x27;: Integer(low=4, high=6, prior=&#x27;uniform&#x27;, transform=&#x27;normalize&#x27;),\n",
       "                             &#x27;min_samples_leaf&#x27;: Integer(low=10, high=100, prior=&#x27;uniform&#x27;, transform=&#x27;normalize&#x27;),\n",
       "                             &#x27;min_samples_split&#x27;: Integer(low=50, high=150, prior=&#x27;uniform&#x27;, transform=&#x27;normalize&#x27;),\n",
       "                             &#x27;n_estimators&#x27;: Integer(low=10, high=200, prior=&#x27;uniform&#x27;, transform=&#x27;normalize&#x27;)},\n",
       "              verbose=2)</pre><b>In a Jupyter environment, please rerun this cell to show the HTML representation or trust the notebook. <br />On GitHub, the HTML representation is unable to render, please try loading this page with nbviewer.org.</b></div><div class=\"sk-container\" hidden><div class=\"sk-item sk-dashed-wrapped\"><div class=\"sk-label-container\"><div class=\"sk-label sk-toggleable\"><input class=\"sk-toggleable__control sk-hidden--visually\" id=\"sk-estimator-id-7\" type=\"checkbox\" ><label for=\"sk-estimator-id-7\" class=\"sk-toggleable__label sk-toggleable__label-arrow\">BayesSearchCV</label><div class=\"sk-toggleable__content\"><pre>BayesSearchCV(cv=5, estimator=GradientBoostingRegressor(random_state=10),\n",
       "              n_iter=10, scoring=&#x27;r2&#x27;,\n",
       "              search_spaces={&#x27;criterion&#x27;: [&#x27;friedman_mse&#x27;, &#x27;squared_error&#x27;],\n",
       "                             &#x27;loss&#x27;: [&#x27;squared_error&#x27;, &#x27;absolute_error&#x27;,\n",
       "                                      &#x27;huber&#x27;, &#x27;quantile&#x27;],\n",
       "                             &#x27;max_depth&#x27;: Integer(low=4, high=6, prior=&#x27;uniform&#x27;, transform=&#x27;normalize&#x27;),\n",
       "                             &#x27;min_samples_leaf&#x27;: Integer(low=10, high=100, prior=&#x27;uniform&#x27;, transform=&#x27;normalize&#x27;),\n",
       "                             &#x27;min_samples_split&#x27;: Integer(low=50, high=150, prior=&#x27;uniform&#x27;, transform=&#x27;normalize&#x27;),\n",
       "                             &#x27;n_estimators&#x27;: Integer(low=10, high=200, prior=&#x27;uniform&#x27;, transform=&#x27;normalize&#x27;)},\n",
       "              verbose=2)</pre></div></div></div><div class=\"sk-parallel\"><div class=\"sk-parallel-item\"><div class=\"sk-item\"><div class=\"sk-label-container\"><div class=\"sk-label sk-toggleable\"><input class=\"sk-toggleable__control sk-hidden--visually\" id=\"sk-estimator-id-8\" type=\"checkbox\" ><label for=\"sk-estimator-id-8\" class=\"sk-toggleable__label sk-toggleable__label-arrow\">estimator: GradientBoostingRegressor</label><div class=\"sk-toggleable__content\"><pre>GradientBoostingRegressor(random_state=10)</pre></div></div></div><div class=\"sk-serial\"><div class=\"sk-item\"><div class=\"sk-estimator sk-toggleable\"><input class=\"sk-toggleable__control sk-hidden--visually\" id=\"sk-estimator-id-9\" type=\"checkbox\" ><label for=\"sk-estimator-id-9\" class=\"sk-toggleable__label sk-toggleable__label-arrow\">GradientBoostingRegressor</label><div class=\"sk-toggleable__content\"><pre>GradientBoostingRegressor(random_state=10)</pre></div></div></div></div></div></div></div></div></div></div>"
      ],
      "text/plain": [
       "BayesSearchCV(cv=5, estimator=GradientBoostingRegressor(random_state=10),\n",
       "              n_iter=10, scoring='r2',\n",
       "              search_spaces={'criterion': ['friedman_mse', 'squared_error'],\n",
       "                             'loss': ['squared_error', 'absolute_error',\n",
       "                                      'huber', 'quantile'],\n",
       "                             'max_depth': Integer(low=4, high=6, prior='uniform', transform='normalize'),\n",
       "                             'min_samples_leaf': Integer(low=10, high=100, prior='uniform', transform='normalize'),\n",
       "                             'min_samples_split': Integer(low=50, high=150, prior='uniform', transform='normalize'),\n",
       "                             'n_estimators': Integer(low=10, high=200, prior='uniform', transform='normalize')},\n",
       "              verbose=2)"
      ]
     },
     "execution_count": 101,
     "metadata": {},
     "output_type": "execute_result"
    }
   ],
   "source": [
    "#Cross validation and hyperparameter tuning\n",
    "lr_bayes = BayesSearchCV(estimator=gdb ,\n",
    "                           search_spaces = {\n",
    "                           'loss':['squared_error', 'absolute_error', 'huber', 'quantile'],\n",
    "                          \"criterion\":['friedman_mse', 'squared_error'],\n",
    "                          'max_depth': Integer(4,6),\n",
    "                          'min_samples_leaf': Integer(10,100),\n",
    "                          'min_samples_split': Integer(50,150),\n",
    "                          'n_estimators': Integer(10,200)\n",
    "                        },\n",
    "                       cv = 5, verbose=2, scoring='r2', n_iter=10)\n",
    "\n",
    "lr_bayes.fit(X_train,y_train)"
   ]
  },
  {
   "cell_type": "code",
   "execution_count": 102,
   "metadata": {},
   "outputs": [
    {
     "data": {
      "text/html": [
       "<style>#sk-container-id-6 {color: black;background-color: white;}#sk-container-id-6 pre{padding: 0;}#sk-container-id-6 div.sk-toggleable {background-color: white;}#sk-container-id-6 label.sk-toggleable__label {cursor: pointer;display: block;width: 100%;margin-bottom: 0;padding: 0.3em;box-sizing: border-box;text-align: center;}#sk-container-id-6 label.sk-toggleable__label-arrow:before {content: \"▸\";float: left;margin-right: 0.25em;color: #696969;}#sk-container-id-6 label.sk-toggleable__label-arrow:hover:before {color: black;}#sk-container-id-6 div.sk-estimator:hover label.sk-toggleable__label-arrow:before {color: black;}#sk-container-id-6 div.sk-toggleable__content {max-height: 0;max-width: 0;overflow: hidden;text-align: left;background-color: #f0f8ff;}#sk-container-id-6 div.sk-toggleable__content pre {margin: 0.2em;color: black;border-radius: 0.25em;background-color: #f0f8ff;}#sk-container-id-6 input.sk-toggleable__control:checked~div.sk-toggleable__content {max-height: 200px;max-width: 100%;overflow: auto;}#sk-container-id-6 input.sk-toggleable__control:checked~label.sk-toggleable__label-arrow:before {content: \"▾\";}#sk-container-id-6 div.sk-estimator input.sk-toggleable__control:checked~label.sk-toggleable__label {background-color: #d4ebff;}#sk-container-id-6 div.sk-label input.sk-toggleable__control:checked~label.sk-toggleable__label {background-color: #d4ebff;}#sk-container-id-6 input.sk-hidden--visually {border: 0;clip: rect(1px 1px 1px 1px);clip: rect(1px, 1px, 1px, 1px);height: 1px;margin: -1px;overflow: hidden;padding: 0;position: absolute;width: 1px;}#sk-container-id-6 div.sk-estimator {font-family: monospace;background-color: #f0f8ff;border: 1px dotted black;border-radius: 0.25em;box-sizing: border-box;margin-bottom: 0.5em;}#sk-container-id-6 div.sk-estimator:hover {background-color: #d4ebff;}#sk-container-id-6 div.sk-parallel-item::after {content: \"\";width: 100%;border-bottom: 1px solid gray;flex-grow: 1;}#sk-container-id-6 div.sk-label:hover label.sk-toggleable__label {background-color: #d4ebff;}#sk-container-id-6 div.sk-serial::before {content: \"\";position: absolute;border-left: 1px solid gray;box-sizing: border-box;top: 0;bottom: 0;left: 50%;z-index: 0;}#sk-container-id-6 div.sk-serial {display: flex;flex-direction: column;align-items: center;background-color: white;padding-right: 0.2em;padding-left: 0.2em;position: relative;}#sk-container-id-6 div.sk-item {position: relative;z-index: 1;}#sk-container-id-6 div.sk-parallel {display: flex;align-items: stretch;justify-content: center;background-color: white;position: relative;}#sk-container-id-6 div.sk-item::before, #sk-container-id-6 div.sk-parallel-item::before {content: \"\";position: absolute;border-left: 1px solid gray;box-sizing: border-box;top: 0;bottom: 0;left: 50%;z-index: -1;}#sk-container-id-6 div.sk-parallel-item {display: flex;flex-direction: column;z-index: 1;position: relative;background-color: white;}#sk-container-id-6 div.sk-parallel-item:first-child::after {align-self: flex-end;width: 50%;}#sk-container-id-6 div.sk-parallel-item:last-child::after {align-self: flex-start;width: 50%;}#sk-container-id-6 div.sk-parallel-item:only-child::after {width: 0;}#sk-container-id-6 div.sk-dashed-wrapped {border: 1px dashed gray;margin: 0 0.4em 0.5em 0.4em;box-sizing: border-box;padding-bottom: 0.4em;background-color: white;}#sk-container-id-6 div.sk-label label {font-family: monospace;font-weight: bold;display: inline-block;line-height: 1.2em;}#sk-container-id-6 div.sk-label-container {text-align: center;}#sk-container-id-6 div.sk-container {/* jupyter's `normalize.less` sets `[hidden] { display: none; }` but bootstrap.min.css set `[hidden] { display: none !important; }` so we also need the `!important` here to be able to override the default hidden behavior on the sphinx rendered scikit-learn.org. See: https://github.com/scikit-learn/scikit-learn/issues/21755 */display: inline-block !important;position: relative;}#sk-container-id-6 div.sk-text-repr-fallback {display: none;}</style><div id=\"sk-container-id-6\" class=\"sk-top-container\"><div class=\"sk-text-repr-fallback\"><pre>GradientBoostingRegressor(max_depth=5, min_samples_leaf=36,\n",
       "                          min_samples_split=124, n_estimators=120,\n",
       "                          random_state=10)</pre><b>In a Jupyter environment, please rerun this cell to show the HTML representation or trust the notebook. <br />On GitHub, the HTML representation is unable to render, please try loading this page with nbviewer.org.</b></div><div class=\"sk-container\" hidden><div class=\"sk-item\"><div class=\"sk-estimator sk-toggleable\"><input class=\"sk-toggleable__control sk-hidden--visually\" id=\"sk-estimator-id-10\" type=\"checkbox\" checked><label for=\"sk-estimator-id-10\" class=\"sk-toggleable__label sk-toggleable__label-arrow\">GradientBoostingRegressor</label><div class=\"sk-toggleable__content\"><pre>GradientBoostingRegressor(max_depth=5, min_samples_leaf=36,\n",
       "                          min_samples_split=124, n_estimators=120,\n",
       "                          random_state=10)</pre></div></div></div></div></div>"
      ],
      "text/plain": [
       "GradientBoostingRegressor(max_depth=5, min_samples_leaf=36,\n",
       "                          min_samples_split=124, n_estimators=120,\n",
       "                          random_state=10)"
      ]
     },
     "execution_count": 102,
     "metadata": {},
     "output_type": "execute_result"
    }
   ],
   "source": [
    "lr_bayes.best_estimator_"
   ]
  },
  {
   "cell_type": "code",
   "execution_count": 103,
   "metadata": {},
   "outputs": [
    {
     "name": "stdout",
     "output_type": "stream",
     "text": [
      "Train R2 square :  0.7697031577702327\n",
      "Test R2 score :  0.7604872654023626\n"
     ]
    }
   ],
   "source": [
    "#r2 of test and train\n",
    "print('Train R2 square : ', lr_bayes.best_estimator_.score(X_train,y_train))\n",
    "print('Test R2 score : ', lr_bayes.best_estimator_.score(X_test,y_test))"
   ]
  },
  {
   "cell_type": "markdown",
   "metadata": {},
   "source": [
    "XGB regression"
   ]
  },
  {
   "cell_type": "code",
   "execution_count": 104,
   "metadata": {},
   "outputs": [
    {
     "name": "stdout",
     "output_type": "stream",
     "text": [
      "Fitting 5 folds for each of 1 candidates, totalling 5 fits\n",
      "[21:48:40] WARNING: C:/Users/administrator/workspace/xgboost-win64_release_1.6.0/src/learner.cc:627: \n",
      "Parameters: { \"min_samples_leaf\", \"min_samples_split\" } might not be used.\n",
      "\n",
      "  This could be a false alarm, with some parameters getting used by language bindings but\n",
      "  then being mistakenly passed down to XGBoost core, or some parameter actually being used\n",
      "  but getting flagged wrongly here. Please open an issue if you find any such cases.\n",
      "\n",
      "\n",
      "[CV] END max_depth=13, min_samples_leaf=61, min_samples_split=126, n_estimators=38; total time=  52.8s\n",
      "[21:49:32] WARNING: C:/Users/administrator/workspace/xgboost-win64_release_1.6.0/src/learner.cc:627: \n",
      "Parameters: { \"min_samples_leaf\", \"min_samples_split\" } might not be used.\n",
      "\n",
      "  This could be a false alarm, with some parameters getting used by language bindings but\n",
      "  then being mistakenly passed down to XGBoost core, or some parameter actually being used\n",
      "  but getting flagged wrongly here. Please open an issue if you find any such cases.\n",
      "\n",
      "\n",
      "[CV] END max_depth=13, min_samples_leaf=61, min_samples_split=126, n_estimators=38; total time= 1.3min\n",
      "[21:50:53] WARNING: C:/Users/administrator/workspace/xgboost-win64_release_1.6.0/src/learner.cc:627: \n",
      "Parameters: { \"min_samples_leaf\", \"min_samples_split\" } might not be used.\n",
      "\n",
      "  This could be a false alarm, with some parameters getting used by language bindings but\n",
      "  then being mistakenly passed down to XGBoost core, or some parameter actually being used\n",
      "  but getting flagged wrongly here. Please open an issue if you find any such cases.\n",
      "\n",
      "\n",
      "[CV] END max_depth=13, min_samples_leaf=61, min_samples_split=126, n_estimators=38; total time=  37.3s\n",
      "[21:51:30] WARNING: C:/Users/administrator/workspace/xgboost-win64_release_1.6.0/src/learner.cc:627: \n",
      "Parameters: { \"min_samples_leaf\", \"min_samples_split\" } might not be used.\n",
      "\n",
      "  This could be a false alarm, with some parameters getting used by language bindings but\n",
      "  then being mistakenly passed down to XGBoost core, or some parameter actually being used\n",
      "  but getting flagged wrongly here. Please open an issue if you find any such cases.\n",
      "\n",
      "\n",
      "[CV] END max_depth=13, min_samples_leaf=61, min_samples_split=126, n_estimators=38; total time=  14.5s\n",
      "[21:51:45] WARNING: C:/Users/administrator/workspace/xgboost-win64_release_1.6.0/src/learner.cc:627: \n",
      "Parameters: { \"min_samples_leaf\", \"min_samples_split\" } might not be used.\n",
      "\n",
      "  This could be a false alarm, with some parameters getting used by language bindings but\n",
      "  then being mistakenly passed down to XGBoost core, or some parameter actually being used\n",
      "  but getting flagged wrongly here. Please open an issue if you find any such cases.\n",
      "\n",
      "\n",
      "[CV] END max_depth=13, min_samples_leaf=61, min_samples_split=126, n_estimators=38; total time=  14.0s\n",
      "Fitting 5 folds for each of 1 candidates, totalling 5 fits\n",
      "[21:51:59] WARNING: C:/Users/administrator/workspace/xgboost-win64_release_1.6.0/src/learner.cc:627: \n",
      "Parameters: { \"min_samples_leaf\", \"min_samples_split\" } might not be used.\n",
      "\n",
      "  This could be a false alarm, with some parameters getting used by language bindings but\n",
      "  then being mistakenly passed down to XGBoost core, or some parameter actually being used\n",
      "  but getting flagged wrongly here. Please open an issue if you find any such cases.\n",
      "\n",
      "\n",
      "[CV] END max_depth=6, min_samples_leaf=187, min_samples_split=157, n_estimators=139; total time=  35.9s\n",
      "[21:52:35] WARNING: C:/Users/administrator/workspace/xgboost-win64_release_1.6.0/src/learner.cc:627: \n",
      "Parameters: { \"min_samples_leaf\", \"min_samples_split\" } might not be used.\n",
      "\n",
      "  This could be a false alarm, with some parameters getting used by language bindings but\n",
      "  then being mistakenly passed down to XGBoost core, or some parameter actually being used\n",
      "  but getting flagged wrongly here. Please open an issue if you find any such cases.\n",
      "\n",
      "\n",
      "[CV] END max_depth=6, min_samples_leaf=187, min_samples_split=157, n_estimators=139; total time=  20.4s\n",
      "[21:52:55] WARNING: C:/Users/administrator/workspace/xgboost-win64_release_1.6.0/src/learner.cc:627: \n",
      "Parameters: { \"min_samples_leaf\", \"min_samples_split\" } might not be used.\n",
      "\n",
      "  This could be a false alarm, with some parameters getting used by language bindings but\n",
      "  then being mistakenly passed down to XGBoost core, or some parameter actually being used\n",
      "  but getting flagged wrongly here. Please open an issue if you find any such cases.\n",
      "\n",
      "\n",
      "[CV] END max_depth=6, min_samples_leaf=187, min_samples_split=157, n_estimators=139; total time=  21.3s\n",
      "[21:53:17] WARNING: C:/Users/administrator/workspace/xgboost-win64_release_1.6.0/src/learner.cc:627: \n",
      "Parameters: { \"min_samples_leaf\", \"min_samples_split\" } might not be used.\n",
      "\n",
      "  This could be a false alarm, with some parameters getting used by language bindings but\n",
      "  then being mistakenly passed down to XGBoost core, or some parameter actually being used\n",
      "  but getting flagged wrongly here. Please open an issue if you find any such cases.\n",
      "\n",
      "\n",
      "[CV] END max_depth=6, min_samples_leaf=187, min_samples_split=157, n_estimators=139; total time=  33.3s\n",
      "[21:53:50] WARNING: C:/Users/administrator/workspace/xgboost-win64_release_1.6.0/src/learner.cc:627: \n",
      "Parameters: { \"min_samples_leaf\", \"min_samples_split\" } might not be used.\n",
      "\n",
      "  This could be a false alarm, with some parameters getting used by language bindings but\n",
      "  then being mistakenly passed down to XGBoost core, or some parameter actually being used\n",
      "  but getting flagged wrongly here. Please open an issue if you find any such cases.\n",
      "\n",
      "\n",
      "[CV] END max_depth=6, min_samples_leaf=187, min_samples_split=157, n_estimators=139; total time=  21.9s\n",
      "Fitting 5 folds for each of 1 candidates, totalling 5 fits\n",
      "[21:54:12] WARNING: C:/Users/administrator/workspace/xgboost-win64_release_1.6.0/src/learner.cc:627: \n",
      "Parameters: { \"min_samples_leaf\", \"min_samples_split\" } might not be used.\n",
      "\n",
      "  This could be a false alarm, with some parameters getting used by language bindings but\n",
      "  then being mistakenly passed down to XGBoost core, or some parameter actually being used\n",
      "  but getting flagged wrongly here. Please open an issue if you find any such cases.\n",
      "\n",
      "\n",
      "[CV] END max_depth=5, min_samples_leaf=164, min_samples_split=68, n_estimators=71; total time=   8.7s\n",
      "[21:54:21] WARNING: C:/Users/administrator/workspace/xgboost-win64_release_1.6.0/src/learner.cc:627: \n",
      "Parameters: { \"min_samples_leaf\", \"min_samples_split\" } might not be used.\n",
      "\n",
      "  This could be a false alarm, with some parameters getting used by language bindings but\n",
      "  then being mistakenly passed down to XGBoost core, or some parameter actually being used\n",
      "  but getting flagged wrongly here. Please open an issue if you find any such cases.\n",
      "\n",
      "\n",
      "[CV] END max_depth=5, min_samples_leaf=164, min_samples_split=68, n_estimators=71; total time=   8.6s\n",
      "[21:54:30] WARNING: C:/Users/administrator/workspace/xgboost-win64_release_1.6.0/src/learner.cc:627: \n",
      "Parameters: { \"min_samples_leaf\", \"min_samples_split\" } might not be used.\n",
      "\n",
      "  This could be a false alarm, with some parameters getting used by language bindings but\n",
      "  then being mistakenly passed down to XGBoost core, or some parameter actually being used\n",
      "  but getting flagged wrongly here. Please open an issue if you find any such cases.\n",
      "\n",
      "\n",
      "[CV] END max_depth=5, min_samples_leaf=164, min_samples_split=68, n_estimators=71; total time=   8.0s\n",
      "[21:54:38] WARNING: C:/Users/administrator/workspace/xgboost-win64_release_1.6.0/src/learner.cc:627: \n",
      "Parameters: { \"min_samples_leaf\", \"min_samples_split\" } might not be used.\n",
      "\n",
      "  This could be a false alarm, with some parameters getting used by language bindings but\n",
      "  then being mistakenly passed down to XGBoost core, or some parameter actually being used\n",
      "  but getting flagged wrongly here. Please open an issue if you find any such cases.\n",
      "\n",
      "\n",
      "[CV] END max_depth=5, min_samples_leaf=164, min_samples_split=68, n_estimators=71; total time=   8.2s\n",
      "[21:54:46] WARNING: C:/Users/administrator/workspace/xgboost-win64_release_1.6.0/src/learner.cc:627: \n",
      "Parameters: { \"min_samples_leaf\", \"min_samples_split\" } might not be used.\n",
      "\n",
      "  This could be a false alarm, with some parameters getting used by language bindings but\n",
      "  then being mistakenly passed down to XGBoost core, or some parameter actually being used\n",
      "  but getting flagged wrongly here. Please open an issue if you find any such cases.\n",
      "\n",
      "\n",
      "[CV] END max_depth=5, min_samples_leaf=164, min_samples_split=68, n_estimators=71; total time=   8.5s\n",
      "Fitting 5 folds for each of 1 candidates, totalling 5 fits\n",
      "[21:54:55] WARNING: C:/Users/administrator/workspace/xgboost-win64_release_1.6.0/src/learner.cc:627: \n",
      "Parameters: { \"min_samples_leaf\", \"min_samples_split\" } might not be used.\n",
      "\n",
      "  This could be a false alarm, with some parameters getting used by language bindings but\n",
      "  then being mistakenly passed down to XGBoost core, or some parameter actually being used\n",
      "  but getting flagged wrongly here. Please open an issue if you find any such cases.\n",
      "\n",
      "\n",
      "[CV] END max_depth=9, min_samples_leaf=43, min_samples_split=103, n_estimators=148; total time=  31.7s\n",
      "[21:55:27] WARNING: C:/Users/administrator/workspace/xgboost-win64_release_1.6.0/src/learner.cc:627: \n",
      "Parameters: { \"min_samples_leaf\", \"min_samples_split\" } might not be used.\n",
      "\n",
      "  This could be a false alarm, with some parameters getting used by language bindings but\n",
      "  then being mistakenly passed down to XGBoost core, or some parameter actually being used\n",
      "  but getting flagged wrongly here. Please open an issue if you find any such cases.\n",
      "\n",
      "\n",
      "[CV] END max_depth=9, min_samples_leaf=43, min_samples_split=103, n_estimators=148; total time=  39.1s\n",
      "[21:56:06] WARNING: C:/Users/administrator/workspace/xgboost-win64_release_1.6.0/src/learner.cc:627: \n",
      "Parameters: { \"min_samples_leaf\", \"min_samples_split\" } might not be used.\n",
      "\n",
      "  This could be a false alarm, with some parameters getting used by language bindings but\n",
      "  then being mistakenly passed down to XGBoost core, or some parameter actually being used\n",
      "  but getting flagged wrongly here. Please open an issue if you find any such cases.\n",
      "\n",
      "\n",
      "[CV] END max_depth=9, min_samples_leaf=43, min_samples_split=103, n_estimators=148; total time=  51.2s\n",
      "[21:56:57] WARNING: C:/Users/administrator/workspace/xgboost-win64_release_1.6.0/src/learner.cc:627: \n",
      "Parameters: { \"min_samples_leaf\", \"min_samples_split\" } might not be used.\n",
      "\n",
      "  This could be a false alarm, with some parameters getting used by language bindings but\n",
      "  then being mistakenly passed down to XGBoost core, or some parameter actually being used\n",
      "  but getting flagged wrongly here. Please open an issue if you find any such cases.\n",
      "\n",
      "\n",
      "[CV] END max_depth=9, min_samples_leaf=43, min_samples_split=103, n_estimators=148; total time=  41.8s\n",
      "[21:57:39] WARNING: C:/Users/administrator/workspace/xgboost-win64_release_1.6.0/src/learner.cc:627: \n",
      "Parameters: { \"min_samples_leaf\", \"min_samples_split\" } might not be used.\n",
      "\n",
      "  This could be a false alarm, with some parameters getting used by language bindings but\n",
      "  then being mistakenly passed down to XGBoost core, or some parameter actually being used\n",
      "  but getting flagged wrongly here. Please open an issue if you find any such cases.\n",
      "\n",
      "\n",
      "[CV] END max_depth=9, min_samples_leaf=43, min_samples_split=103, n_estimators=148; total time=  43.7s\n",
      "Fitting 5 folds for each of 1 candidates, totalling 5 fits\n",
      "[21:58:23] WARNING: C:/Users/administrator/workspace/xgboost-win64_release_1.6.0/src/learner.cc:627: \n",
      "Parameters: { \"min_samples_leaf\", \"min_samples_split\" } might not be used.\n",
      "\n",
      "  This could be a false alarm, with some parameters getting used by language bindings but\n",
      "  then being mistakenly passed down to XGBoost core, or some parameter actually being used\n",
      "  but getting flagged wrongly here. Please open an issue if you find any such cases.\n",
      "\n",
      "\n",
      "[CV] END max_depth=6, min_samples_leaf=143, min_samples_split=62, n_estimators=37; total time=  11.8s\n",
      "[21:58:35] WARNING: C:/Users/administrator/workspace/xgboost-win64_release_1.6.0/src/learner.cc:627: \n",
      "Parameters: { \"min_samples_leaf\", \"min_samples_split\" } might not be used.\n",
      "\n",
      "  This could be a false alarm, with some parameters getting used by language bindings but\n",
      "  then being mistakenly passed down to XGBoost core, or some parameter actually being used\n",
      "  but getting flagged wrongly here. Please open an issue if you find any such cases.\n",
      "\n",
      "\n",
      "[CV] END max_depth=6, min_samples_leaf=143, min_samples_split=62, n_estimators=37; total time=   5.6s\n",
      "[21:58:40] WARNING: C:/Users/administrator/workspace/xgboost-win64_release_1.6.0/src/learner.cc:627: \n",
      "Parameters: { \"min_samples_leaf\", \"min_samples_split\" } might not be used.\n",
      "\n",
      "  This could be a false alarm, with some parameters getting used by language bindings but\n",
      "  then being mistakenly passed down to XGBoost core, or some parameter actually being used\n",
      "  but getting flagged wrongly here. Please open an issue if you find any such cases.\n",
      "\n",
      "\n",
      "[CV] END max_depth=6, min_samples_leaf=143, min_samples_split=62, n_estimators=37; total time=   5.1s\n",
      "[21:58:46] WARNING: C:/Users/administrator/workspace/xgboost-win64_release_1.6.0/src/learner.cc:627: \n",
      "Parameters: { \"min_samples_leaf\", \"min_samples_split\" } might not be used.\n",
      "\n",
      "  This could be a false alarm, with some parameters getting used by language bindings but\n",
      "  then being mistakenly passed down to XGBoost core, or some parameter actually being used\n",
      "  but getting flagged wrongly here. Please open an issue if you find any such cases.\n",
      "\n",
      "\n",
      "[CV] END max_depth=6, min_samples_leaf=143, min_samples_split=62, n_estimators=37; total time=   5.4s\n",
      "[21:58:51] WARNING: C:/Users/administrator/workspace/xgboost-win64_release_1.6.0/src/learner.cc:627: \n",
      "Parameters: { \"min_samples_leaf\", \"min_samples_split\" } might not be used.\n",
      "\n",
      "  This could be a false alarm, with some parameters getting used by language bindings but\n",
      "  then being mistakenly passed down to XGBoost core, or some parameter actually being used\n",
      "  but getting flagged wrongly here. Please open an issue if you find any such cases.\n",
      "\n",
      "\n",
      "[CV] END max_depth=6, min_samples_leaf=143, min_samples_split=62, n_estimators=37; total time=   4.8s\n",
      "Fitting 5 folds for each of 1 candidates, totalling 5 fits\n",
      "[21:58:56] WARNING: C:/Users/administrator/workspace/xgboost-win64_release_1.6.0/src/learner.cc:627: \n",
      "Parameters: { \"min_samples_leaf\", \"min_samples_split\" } might not be used.\n",
      "\n",
      "  This could be a false alarm, with some parameters getting used by language bindings but\n",
      "  then being mistakenly passed down to XGBoost core, or some parameter actually being used\n",
      "  but getting flagged wrongly here. Please open an issue if you find any such cases.\n",
      "\n",
      "\n",
      "[CV] END max_depth=19, min_samples_leaf=98, min_samples_split=78, n_estimators=80; total time=  54.9s\n",
      "[21:59:51] WARNING: C:/Users/administrator/workspace/xgboost-win64_release_1.6.0/src/learner.cc:627: \n",
      "Parameters: { \"min_samples_leaf\", \"min_samples_split\" } might not be used.\n",
      "\n",
      "  This could be a false alarm, with some parameters getting used by language bindings but\n",
      "  then being mistakenly passed down to XGBoost core, or some parameter actually being used\n",
      "  but getting flagged wrongly here. Please open an issue if you find any such cases.\n",
      "\n",
      "\n",
      "[CV] END max_depth=19, min_samples_leaf=98, min_samples_split=78, n_estimators=80; total time=  43.6s\n",
      "[22:00:35] WARNING: C:/Users/administrator/workspace/xgboost-win64_release_1.6.0/src/learner.cc:627: \n",
      "Parameters: { \"min_samples_leaf\", \"min_samples_split\" } might not be used.\n",
      "\n",
      "  This could be a false alarm, with some parameters getting used by language bindings but\n",
      "  then being mistakenly passed down to XGBoost core, or some parameter actually being used\n",
      "  but getting flagged wrongly here. Please open an issue if you find any such cases.\n",
      "\n",
      "\n",
      "[CV] END max_depth=19, min_samples_leaf=98, min_samples_split=78, n_estimators=80; total time= 1.1min\n",
      "[22:01:42] WARNING: C:/Users/administrator/workspace/xgboost-win64_release_1.6.0/src/learner.cc:627: \n",
      "Parameters: { \"min_samples_leaf\", \"min_samples_split\" } might not be used.\n",
      "\n",
      "  This could be a false alarm, with some parameters getting used by language bindings but\n",
      "  then being mistakenly passed down to XGBoost core, or some parameter actually being used\n",
      "  but getting flagged wrongly here. Please open an issue if you find any such cases.\n",
      "\n",
      "\n",
      "[CV] END max_depth=19, min_samples_leaf=98, min_samples_split=78, n_estimators=80; total time=  47.4s\n",
      "[22:02:29] WARNING: C:/Users/administrator/workspace/xgboost-win64_release_1.6.0/src/learner.cc:627: \n",
      "Parameters: { \"min_samples_leaf\", \"min_samples_split\" } might not be used.\n",
      "\n",
      "  This could be a false alarm, with some parameters getting used by language bindings but\n",
      "  then being mistakenly passed down to XGBoost core, or some parameter actually being used\n",
      "  but getting flagged wrongly here. Please open an issue if you find any such cases.\n",
      "\n",
      "\n",
      "[CV] END max_depth=19, min_samples_leaf=98, min_samples_split=78, n_estimators=80; total time=  45.6s\n",
      "Fitting 5 folds for each of 1 candidates, totalling 5 fits\n",
      "[22:03:15] WARNING: C:/Users/administrator/workspace/xgboost-win64_release_1.6.0/src/learner.cc:627: \n",
      "Parameters: { \"min_samples_leaf\", \"min_samples_split\" } might not be used.\n",
      "\n",
      "  This could be a false alarm, with some parameters getting used by language bindings but\n",
      "  then being mistakenly passed down to XGBoost core, or some parameter actually being used\n",
      "  but getting flagged wrongly here. Please open an issue if you find any such cases.\n",
      "\n",
      "\n",
      "[CV] END max_depth=20, min_samples_leaf=134, min_samples_split=26, n_estimators=66; total time=  41.1s\n",
      "[22:03:56] WARNING: C:/Users/administrator/workspace/xgboost-win64_release_1.6.0/src/learner.cc:627: \n",
      "Parameters: { \"min_samples_leaf\", \"min_samples_split\" } might not be used.\n",
      "\n",
      "  This could be a false alarm, with some parameters getting used by language bindings but\n",
      "  then being mistakenly passed down to XGBoost core, or some parameter actually being used\n",
      "  but getting flagged wrongly here. Please open an issue if you find any such cases.\n",
      "\n",
      "\n",
      "[CV] END max_depth=20, min_samples_leaf=134, min_samples_split=26, n_estimators=66; total time=  47.8s\n",
      "[22:04:44] WARNING: C:/Users/administrator/workspace/xgboost-win64_release_1.6.0/src/learner.cc:627: \n",
      "Parameters: { \"min_samples_leaf\", \"min_samples_split\" } might not be used.\n",
      "\n",
      "  This could be a false alarm, with some parameters getting used by language bindings but\n",
      "  then being mistakenly passed down to XGBoost core, or some parameter actually being used\n",
      "  but getting flagged wrongly here. Please open an issue if you find any such cases.\n",
      "\n",
      "\n",
      "[CV] END max_depth=20, min_samples_leaf=134, min_samples_split=26, n_estimators=66; total time=  40.9s\n",
      "[22:05:25] WARNING: C:/Users/administrator/workspace/xgboost-win64_release_1.6.0/src/learner.cc:627: \n",
      "Parameters: { \"min_samples_leaf\", \"min_samples_split\" } might not be used.\n",
      "\n",
      "  This could be a false alarm, with some parameters getting used by language bindings but\n",
      "  then being mistakenly passed down to XGBoost core, or some parameter actually being used\n",
      "  but getting flagged wrongly here. Please open an issue if you find any such cases.\n",
      "\n",
      "\n",
      "[CV] END max_depth=20, min_samples_leaf=134, min_samples_split=26, n_estimators=66; total time=  40.2s\n",
      "[22:06:05] WARNING: C:/Users/administrator/workspace/xgboost-win64_release_1.6.0/src/learner.cc:627: \n",
      "Parameters: { \"min_samples_leaf\", \"min_samples_split\" } might not be used.\n",
      "\n",
      "  This could be a false alarm, with some parameters getting used by language bindings but\n",
      "  then being mistakenly passed down to XGBoost core, or some parameter actually being used\n",
      "  but getting flagged wrongly here. Please open an issue if you find any such cases.\n",
      "\n",
      "\n",
      "[CV] END max_depth=20, min_samples_leaf=134, min_samples_split=26, n_estimators=66; total time=  42.1s\n",
      "Fitting 5 folds for each of 1 candidates, totalling 5 fits\n",
      "[22:06:48] WARNING: C:/Users/administrator/workspace/xgboost-win64_release_1.6.0/src/learner.cc:627: \n",
      "Parameters: { \"min_samples_leaf\", \"min_samples_split\" } might not be used.\n",
      "\n",
      "  This could be a false alarm, with some parameters getting used by language bindings but\n",
      "  then being mistakenly passed down to XGBoost core, or some parameter actually being used\n",
      "  but getting flagged wrongly here. Please open an issue if you find any such cases.\n",
      "\n",
      "\n",
      "[CV] END max_depth=14, min_samples_leaf=114, min_samples_split=94, n_estimators=11; total time=   4.2s\n",
      "[22:06:52] WARNING: C:/Users/administrator/workspace/xgboost-win64_release_1.6.0/src/learner.cc:627: \n",
      "Parameters: { \"min_samples_leaf\", \"min_samples_split\" } might not be used.\n",
      "\n",
      "  This could be a false alarm, with some parameters getting used by language bindings but\n",
      "  then being mistakenly passed down to XGBoost core, or some parameter actually being used\n",
      "  but getting flagged wrongly here. Please open an issue if you find any such cases.\n",
      "\n",
      "\n",
      "[CV] END max_depth=14, min_samples_leaf=114, min_samples_split=94, n_estimators=11; total time=   5.0s\n",
      "[22:06:57] WARNING: C:/Users/administrator/workspace/xgboost-win64_release_1.6.0/src/learner.cc:627: \n",
      "Parameters: { \"min_samples_leaf\", \"min_samples_split\" } might not be used.\n",
      "\n",
      "  This could be a false alarm, with some parameters getting used by language bindings but\n",
      "  then being mistakenly passed down to XGBoost core, or some parameter actually being used\n",
      "  but getting flagged wrongly here. Please open an issue if you find any such cases.\n",
      "\n",
      "\n",
      "[CV] END max_depth=14, min_samples_leaf=114, min_samples_split=94, n_estimators=11; total time=   4.2s\n",
      "[22:07:01] WARNING: C:/Users/administrator/workspace/xgboost-win64_release_1.6.0/src/learner.cc:627: \n",
      "Parameters: { \"min_samples_leaf\", \"min_samples_split\" } might not be used.\n",
      "\n",
      "  This could be a false alarm, with some parameters getting used by language bindings but\n",
      "  then being mistakenly passed down to XGBoost core, or some parameter actually being used\n",
      "  but getting flagged wrongly here. Please open an issue if you find any such cases.\n",
      "\n",
      "\n",
      "[CV] END max_depth=14, min_samples_leaf=114, min_samples_split=94, n_estimators=11; total time=   3.9s\n",
      "[22:07:05] WARNING: C:/Users/administrator/workspace/xgboost-win64_release_1.6.0/src/learner.cc:627: \n",
      "Parameters: { \"min_samples_leaf\", \"min_samples_split\" } might not be used.\n",
      "\n",
      "  This could be a false alarm, with some parameters getting used by language bindings but\n",
      "  then being mistakenly passed down to XGBoost core, or some parameter actually being used\n",
      "  but getting flagged wrongly here. Please open an issue if you find any such cases.\n",
      "\n",
      "\n",
      "[CV] END max_depth=14, min_samples_leaf=114, min_samples_split=94, n_estimators=11; total time=   4.9s\n",
      "Fitting 5 folds for each of 1 candidates, totalling 5 fits\n",
      "[22:07:10] WARNING: C:/Users/administrator/workspace/xgboost-win64_release_1.6.0/src/learner.cc:627: \n",
      "Parameters: { \"min_samples_leaf\", \"min_samples_split\" } might not be used.\n",
      "\n",
      "  This could be a false alarm, with some parameters getting used by language bindings but\n",
      "  then being mistakenly passed down to XGBoost core, or some parameter actually being used\n",
      "  but getting flagged wrongly here. Please open an issue if you find any such cases.\n",
      "\n",
      "\n",
      "[CV] END max_depth=7, min_samples_leaf=154, min_samples_split=50, n_estimators=119; total time=  19.4s\n",
      "[22:07:30] WARNING: C:/Users/administrator/workspace/xgboost-win64_release_1.6.0/src/learner.cc:627: \n",
      "Parameters: { \"min_samples_leaf\", \"min_samples_split\" } might not be used.\n",
      "\n",
      "  This could be a false alarm, with some parameters getting used by language bindings but\n",
      "  then being mistakenly passed down to XGBoost core, or some parameter actually being used\n",
      "  but getting flagged wrongly here. Please open an issue if you find any such cases.\n",
      "\n",
      "\n",
      "[CV] END max_depth=7, min_samples_leaf=154, min_samples_split=50, n_estimators=119; total time=  20.2s\n",
      "[22:07:50] WARNING: C:/Users/administrator/workspace/xgboost-win64_release_1.6.0/src/learner.cc:627: \n",
      "Parameters: { \"min_samples_leaf\", \"min_samples_split\" } might not be used.\n",
      "\n",
      "  This could be a false alarm, with some parameters getting used by language bindings but\n",
      "  then being mistakenly passed down to XGBoost core, or some parameter actually being used\n",
      "  but getting flagged wrongly here. Please open an issue if you find any such cases.\n",
      "\n",
      "\n",
      "[CV] END max_depth=7, min_samples_leaf=154, min_samples_split=50, n_estimators=119; total time=  22.7s\n",
      "[22:08:13] WARNING: C:/Users/administrator/workspace/xgboost-win64_release_1.6.0/src/learner.cc:627: \n",
      "Parameters: { \"min_samples_leaf\", \"min_samples_split\" } might not be used.\n",
      "\n",
      "  This could be a false alarm, with some parameters getting used by language bindings but\n",
      "  then being mistakenly passed down to XGBoost core, or some parameter actually being used\n",
      "  but getting flagged wrongly here. Please open an issue if you find any such cases.\n",
      "\n",
      "\n",
      "[CV] END max_depth=7, min_samples_leaf=154, min_samples_split=50, n_estimators=119; total time=  31.0s\n",
      "[22:08:44] WARNING: C:/Users/administrator/workspace/xgboost-win64_release_1.6.0/src/learner.cc:627: \n",
      "Parameters: { \"min_samples_leaf\", \"min_samples_split\" } might not be used.\n",
      "\n",
      "  This could be a false alarm, with some parameters getting used by language bindings but\n",
      "  then being mistakenly passed down to XGBoost core, or some parameter actually being used\n",
      "  but getting flagged wrongly here. Please open an issue if you find any such cases.\n",
      "\n",
      "\n",
      "[CV] END max_depth=7, min_samples_leaf=154, min_samples_split=50, n_estimators=119; total time=  20.6s\n",
      "Fitting 5 folds for each of 1 candidates, totalling 5 fits\n",
      "[22:09:05] WARNING: C:/Users/administrator/workspace/xgboost-win64_release_1.6.0/src/learner.cc:627: \n",
      "Parameters: { \"min_samples_leaf\", \"min_samples_split\" } might not be used.\n",
      "\n",
      "  This could be a false alarm, with some parameters getting used by language bindings but\n",
      "  then being mistakenly passed down to XGBoost core, or some parameter actually being used\n",
      "  but getting flagged wrongly here. Please open an issue if you find any such cases.\n",
      "\n",
      "\n",
      "[CV] END max_depth=17, min_samples_leaf=69, min_samples_split=182, n_estimators=138; total time= 1.2min\n",
      "[22:10:15] WARNING: C:/Users/administrator/workspace/xgboost-win64_release_1.6.0/src/learner.cc:627: \n",
      "Parameters: { \"min_samples_leaf\", \"min_samples_split\" } might not be used.\n",
      "\n",
      "  This could be a false alarm, with some parameters getting used by language bindings but\n",
      "  then being mistakenly passed down to XGBoost core, or some parameter actually being used\n",
      "  but getting flagged wrongly here. Please open an issue if you find any such cases.\n",
      "\n",
      "\n",
      "[CV] END max_depth=17, min_samples_leaf=69, min_samples_split=182, n_estimators=138; total time= 1.2min\n",
      "[22:11:29] WARNING: C:/Users/administrator/workspace/xgboost-win64_release_1.6.0/src/learner.cc:627: \n",
      "Parameters: { \"min_samples_leaf\", \"min_samples_split\" } might not be used.\n",
      "\n",
      "  This could be a false alarm, with some parameters getting used by language bindings but\n",
      "  then being mistakenly passed down to XGBoost core, or some parameter actually being used\n",
      "  but getting flagged wrongly here. Please open an issue if you find any such cases.\n",
      "\n",
      "\n",
      "[CV] END max_depth=17, min_samples_leaf=69, min_samples_split=182, n_estimators=138; total time= 1.5min\n",
      "[22:13:01] WARNING: C:/Users/administrator/workspace/xgboost-win64_release_1.6.0/src/learner.cc:627: \n",
      "Parameters: { \"min_samples_leaf\", \"min_samples_split\" } might not be used.\n",
      "\n",
      "  This could be a false alarm, with some parameters getting used by language bindings but\n",
      "  then being mistakenly passed down to XGBoost core, or some parameter actually being used\n",
      "  but getting flagged wrongly here. Please open an issue if you find any such cases.\n",
      "\n",
      "\n",
      "[CV] END max_depth=17, min_samples_leaf=69, min_samples_split=182, n_estimators=138; total time= 1.4min\n",
      "[22:14:26] WARNING: C:/Users/administrator/workspace/xgboost-win64_release_1.6.0/src/learner.cc:627: \n",
      "Parameters: { \"min_samples_leaf\", \"min_samples_split\" } might not be used.\n",
      "\n",
      "  This could be a false alarm, with some parameters getting used by language bindings but\n",
      "  then being mistakenly passed down to XGBoost core, or some parameter actually being used\n",
      "  but getting flagged wrongly here. Please open an issue if you find any such cases.\n",
      "\n",
      "\n",
      "[CV] END max_depth=17, min_samples_leaf=69, min_samples_split=182, n_estimators=138; total time= 1.2min\n",
      "[22:15:39] WARNING: C:/Users/administrator/workspace/xgboost-win64_release_1.6.0/src/learner.cc:627: \n",
      "Parameters: { \"min_samples_leaf\", \"min_samples_split\" } might not be used.\n",
      "\n",
      "  This could be a false alarm, with some parameters getting used by language bindings but\n",
      "  then being mistakenly passed down to XGBoost core, or some parameter actually being used\n",
      "  but getting flagged wrongly here. Please open an issue if you find any such cases.\n",
      "\n",
      "\n"
     ]
    },
    {
     "data": {
      "text/html": [
       "<style>#sk-container-id-7 {color: black;background-color: white;}#sk-container-id-7 pre{padding: 0;}#sk-container-id-7 div.sk-toggleable {background-color: white;}#sk-container-id-7 label.sk-toggleable__label {cursor: pointer;display: block;width: 100%;margin-bottom: 0;padding: 0.3em;box-sizing: border-box;text-align: center;}#sk-container-id-7 label.sk-toggleable__label-arrow:before {content: \"▸\";float: left;margin-right: 0.25em;color: #696969;}#sk-container-id-7 label.sk-toggleable__label-arrow:hover:before {color: black;}#sk-container-id-7 div.sk-estimator:hover label.sk-toggleable__label-arrow:before {color: black;}#sk-container-id-7 div.sk-toggleable__content {max-height: 0;max-width: 0;overflow: hidden;text-align: left;background-color: #f0f8ff;}#sk-container-id-7 div.sk-toggleable__content pre {margin: 0.2em;color: black;border-radius: 0.25em;background-color: #f0f8ff;}#sk-container-id-7 input.sk-toggleable__control:checked~div.sk-toggleable__content {max-height: 200px;max-width: 100%;overflow: auto;}#sk-container-id-7 input.sk-toggleable__control:checked~label.sk-toggleable__label-arrow:before {content: \"▾\";}#sk-container-id-7 div.sk-estimator input.sk-toggleable__control:checked~label.sk-toggleable__label {background-color: #d4ebff;}#sk-container-id-7 div.sk-label input.sk-toggleable__control:checked~label.sk-toggleable__label {background-color: #d4ebff;}#sk-container-id-7 input.sk-hidden--visually {border: 0;clip: rect(1px 1px 1px 1px);clip: rect(1px, 1px, 1px, 1px);height: 1px;margin: -1px;overflow: hidden;padding: 0;position: absolute;width: 1px;}#sk-container-id-7 div.sk-estimator {font-family: monospace;background-color: #f0f8ff;border: 1px dotted black;border-radius: 0.25em;box-sizing: border-box;margin-bottom: 0.5em;}#sk-container-id-7 div.sk-estimator:hover {background-color: #d4ebff;}#sk-container-id-7 div.sk-parallel-item::after {content: \"\";width: 100%;border-bottom: 1px solid gray;flex-grow: 1;}#sk-container-id-7 div.sk-label:hover label.sk-toggleable__label {background-color: #d4ebff;}#sk-container-id-7 div.sk-serial::before {content: \"\";position: absolute;border-left: 1px solid gray;box-sizing: border-box;top: 0;bottom: 0;left: 50%;z-index: 0;}#sk-container-id-7 div.sk-serial {display: flex;flex-direction: column;align-items: center;background-color: white;padding-right: 0.2em;padding-left: 0.2em;position: relative;}#sk-container-id-7 div.sk-item {position: relative;z-index: 1;}#sk-container-id-7 div.sk-parallel {display: flex;align-items: stretch;justify-content: center;background-color: white;position: relative;}#sk-container-id-7 div.sk-item::before, #sk-container-id-7 div.sk-parallel-item::before {content: \"\";position: absolute;border-left: 1px solid gray;box-sizing: border-box;top: 0;bottom: 0;left: 50%;z-index: -1;}#sk-container-id-7 div.sk-parallel-item {display: flex;flex-direction: column;z-index: 1;position: relative;background-color: white;}#sk-container-id-7 div.sk-parallel-item:first-child::after {align-self: flex-end;width: 50%;}#sk-container-id-7 div.sk-parallel-item:last-child::after {align-self: flex-start;width: 50%;}#sk-container-id-7 div.sk-parallel-item:only-child::after {width: 0;}#sk-container-id-7 div.sk-dashed-wrapped {border: 1px dashed gray;margin: 0 0.4em 0.5em 0.4em;box-sizing: border-box;padding-bottom: 0.4em;background-color: white;}#sk-container-id-7 div.sk-label label {font-family: monospace;font-weight: bold;display: inline-block;line-height: 1.2em;}#sk-container-id-7 div.sk-label-container {text-align: center;}#sk-container-id-7 div.sk-container {/* jupyter's `normalize.less` sets `[hidden] { display: none; }` but bootstrap.min.css set `[hidden] { display: none !important; }` so we also need the `!important` here to be able to override the default hidden behavior on the sphinx rendered scikit-learn.org. See: https://github.com/scikit-learn/scikit-learn/issues/21755 */display: inline-block !important;position: relative;}#sk-container-id-7 div.sk-text-repr-fallback {display: none;}</style><div id=\"sk-container-id-7\" class=\"sk-top-container\"><div class=\"sk-text-repr-fallback\"><pre>BayesSearchCV(cv=5,\n",
       "              estimator=XGBRegressor(base_score=None, booster=None,\n",
       "                                     callbacks=None, colsample_bylevel=None,\n",
       "                                     colsample_bynode=None,\n",
       "                                     colsample_bytree=None,\n",
       "                                     early_stopping_rounds=None,\n",
       "                                     enable_categorical=False, eval_metric=None,\n",
       "                                     gamma=None, gpu_id=None, grow_policy=None,\n",
       "                                     importance_type=None,\n",
       "                                     interaction_constraints=None,\n",
       "                                     learning_rate=None, max_bin=None,\n",
       "                                     max_ca...\n",
       "              n_iter=10, scoring=&#x27;r2&#x27;,\n",
       "              search_spaces={&#x27;max_depth&#x27;: Integer(low=4, high=25, prior=&#x27;uniform&#x27;, transform=&#x27;normalize&#x27;),\n",
       "                             &#x27;min_samples_leaf&#x27;: Integer(low=10, high=200, prior=&#x27;uniform&#x27;, transform=&#x27;normalize&#x27;),\n",
       "                             &#x27;min_samples_split&#x27;: Integer(low=10, high=200, prior=&#x27;uniform&#x27;, transform=&#x27;normalize&#x27;),\n",
       "                             &#x27;n_estimators&#x27;: Integer(low=10, high=200, prior=&#x27;uniform&#x27;, transform=&#x27;normalize&#x27;)},\n",
       "              verbose=2)</pre><b>In a Jupyter environment, please rerun this cell to show the HTML representation or trust the notebook. <br />On GitHub, the HTML representation is unable to render, please try loading this page with nbviewer.org.</b></div><div class=\"sk-container\" hidden><div class=\"sk-item sk-dashed-wrapped\"><div class=\"sk-label-container\"><div class=\"sk-label sk-toggleable\"><input class=\"sk-toggleable__control sk-hidden--visually\" id=\"sk-estimator-id-11\" type=\"checkbox\" ><label for=\"sk-estimator-id-11\" class=\"sk-toggleable__label sk-toggleable__label-arrow\">BayesSearchCV</label><div class=\"sk-toggleable__content\"><pre>BayesSearchCV(cv=5,\n",
       "              estimator=XGBRegressor(base_score=None, booster=None,\n",
       "                                     callbacks=None, colsample_bylevel=None,\n",
       "                                     colsample_bynode=None,\n",
       "                                     colsample_bytree=None,\n",
       "                                     early_stopping_rounds=None,\n",
       "                                     enable_categorical=False, eval_metric=None,\n",
       "                                     gamma=None, gpu_id=None, grow_policy=None,\n",
       "                                     importance_type=None,\n",
       "                                     interaction_constraints=None,\n",
       "                                     learning_rate=None, max_bin=None,\n",
       "                                     max_ca...\n",
       "              n_iter=10, scoring=&#x27;r2&#x27;,\n",
       "              search_spaces={&#x27;max_depth&#x27;: Integer(low=4, high=25, prior=&#x27;uniform&#x27;, transform=&#x27;normalize&#x27;),\n",
       "                             &#x27;min_samples_leaf&#x27;: Integer(low=10, high=200, prior=&#x27;uniform&#x27;, transform=&#x27;normalize&#x27;),\n",
       "                             &#x27;min_samples_split&#x27;: Integer(low=10, high=200, prior=&#x27;uniform&#x27;, transform=&#x27;normalize&#x27;),\n",
       "                             &#x27;n_estimators&#x27;: Integer(low=10, high=200, prior=&#x27;uniform&#x27;, transform=&#x27;normalize&#x27;)},\n",
       "              verbose=2)</pre></div></div></div><div class=\"sk-parallel\"><div class=\"sk-parallel-item\"><div class=\"sk-item\"><div class=\"sk-label-container\"><div class=\"sk-label sk-toggleable\"><input class=\"sk-toggleable__control sk-hidden--visually\" id=\"sk-estimator-id-12\" type=\"checkbox\" ><label for=\"sk-estimator-id-12\" class=\"sk-toggleable__label sk-toggleable__label-arrow\">estimator: XGBRegressor</label><div class=\"sk-toggleable__content\"><pre>XGBRegressor(base_score=None, booster=None, callbacks=None,\n",
       "             colsample_bylevel=None, colsample_bynode=None,\n",
       "             colsample_bytree=None, early_stopping_rounds=None,\n",
       "             enable_categorical=False, eval_metric=None, gamma=None,\n",
       "             gpu_id=None, grow_policy=None, importance_type=None,\n",
       "             interaction_constraints=None, learning_rate=None, max_bin=None,\n",
       "             max_cat_to_onehot=None, max_delta_step=None, max_depth=None,\n",
       "             max_leaves=None, min_child_weight=None, missing=nan,\n",
       "             monotone_constraints=None, n_estimators=100, n_jobs=None,\n",
       "             num_parallel_tree=None, predictor=None, random_state=10,\n",
       "             reg_alpha=None, reg_lambda=None, ...)</pre></div></div></div><div class=\"sk-serial\"><div class=\"sk-item\"><div class=\"sk-estimator sk-toggleable\"><input class=\"sk-toggleable__control sk-hidden--visually\" id=\"sk-estimator-id-13\" type=\"checkbox\" ><label for=\"sk-estimator-id-13\" class=\"sk-toggleable__label sk-toggleable__label-arrow\">XGBRegressor</label><div class=\"sk-toggleable__content\"><pre>XGBRegressor(base_score=None, booster=None, callbacks=None,\n",
       "             colsample_bylevel=None, colsample_bynode=None,\n",
       "             colsample_bytree=None, early_stopping_rounds=None,\n",
       "             enable_categorical=False, eval_metric=None, gamma=None,\n",
       "             gpu_id=None, grow_policy=None, importance_type=None,\n",
       "             interaction_constraints=None, learning_rate=None, max_bin=None,\n",
       "             max_cat_to_onehot=None, max_delta_step=None, max_depth=None,\n",
       "             max_leaves=None, min_child_weight=None, missing=nan,\n",
       "             monotone_constraints=None, n_estimators=100, n_jobs=None,\n",
       "             num_parallel_tree=None, predictor=None, random_state=10,\n",
       "             reg_alpha=None, reg_lambda=None, ...)</pre></div></div></div></div></div></div></div></div></div></div>"
      ],
      "text/plain": [
       "BayesSearchCV(cv=5,\n",
       "              estimator=XGBRegressor(base_score=None, booster=None,\n",
       "                                     callbacks=None, colsample_bylevel=None,\n",
       "                                     colsample_bynode=None,\n",
       "                                     colsample_bytree=None,\n",
       "                                     early_stopping_rounds=None,\n",
       "                                     enable_categorical=False, eval_metric=None,\n",
       "                                     gamma=None, gpu_id=None, grow_policy=None,\n",
       "                                     importance_type=None,\n",
       "                                     interaction_constraints=None,\n",
       "                                     learning_rate=None, max_bin=None,\n",
       "                                     max_ca...\n",
       "              n_iter=10, scoring='r2',\n",
       "              search_spaces={'max_depth': Integer(low=4, high=25, prior='uniform', transform='normalize'),\n",
       "                             'min_samples_leaf': Integer(low=10, high=200, prior='uniform', transform='normalize'),\n",
       "                             'min_samples_split': Integer(low=10, high=200, prior='uniform', transform='normalize'),\n",
       "                             'n_estimators': Integer(low=10, high=200, prior='uniform', transform='normalize')},\n",
       "              verbose=2)"
      ]
     },
     "execution_count": 104,
     "metadata": {},
     "output_type": "execute_result"
    }
   ],
   "source": [
    "#Cross validation and hyperparameter tuning\n",
    "lr_bayes = BayesSearchCV(estimator=xgb ,\n",
    "                       search_spaces = {\n",
    "                          'max_depth': Integer(4,25),\n",
    "                          'min_samples_split' :Integer(10,200),\n",
    "                          'n_estimators': Integer(10,200),\n",
    "                          'min_samples_leaf' :Integer(10,200)\n",
    "                        },cv = 5, verbose=2, scoring='r2', n_iter=10)\n",
    "\n",
    "lr_bayes.fit(X_train,y_train)"
   ]
  },
  {
   "cell_type": "code",
   "execution_count": 105,
   "metadata": {},
   "outputs": [
    {
     "data": {
      "text/html": [
       "<style>#sk-container-id-8 {color: black;background-color: white;}#sk-container-id-8 pre{padding: 0;}#sk-container-id-8 div.sk-toggleable {background-color: white;}#sk-container-id-8 label.sk-toggleable__label {cursor: pointer;display: block;width: 100%;margin-bottom: 0;padding: 0.3em;box-sizing: border-box;text-align: center;}#sk-container-id-8 label.sk-toggleable__label-arrow:before {content: \"▸\";float: left;margin-right: 0.25em;color: #696969;}#sk-container-id-8 label.sk-toggleable__label-arrow:hover:before {color: black;}#sk-container-id-8 div.sk-estimator:hover label.sk-toggleable__label-arrow:before {color: black;}#sk-container-id-8 div.sk-toggleable__content {max-height: 0;max-width: 0;overflow: hidden;text-align: left;background-color: #f0f8ff;}#sk-container-id-8 div.sk-toggleable__content pre {margin: 0.2em;color: black;border-radius: 0.25em;background-color: #f0f8ff;}#sk-container-id-8 input.sk-toggleable__control:checked~div.sk-toggleable__content {max-height: 200px;max-width: 100%;overflow: auto;}#sk-container-id-8 input.sk-toggleable__control:checked~label.sk-toggleable__label-arrow:before {content: \"▾\";}#sk-container-id-8 div.sk-estimator input.sk-toggleable__control:checked~label.sk-toggleable__label {background-color: #d4ebff;}#sk-container-id-8 div.sk-label input.sk-toggleable__control:checked~label.sk-toggleable__label {background-color: #d4ebff;}#sk-container-id-8 input.sk-hidden--visually {border: 0;clip: rect(1px 1px 1px 1px);clip: rect(1px, 1px, 1px, 1px);height: 1px;margin: -1px;overflow: hidden;padding: 0;position: absolute;width: 1px;}#sk-container-id-8 div.sk-estimator {font-family: monospace;background-color: #f0f8ff;border: 1px dotted black;border-radius: 0.25em;box-sizing: border-box;margin-bottom: 0.5em;}#sk-container-id-8 div.sk-estimator:hover {background-color: #d4ebff;}#sk-container-id-8 div.sk-parallel-item::after {content: \"\";width: 100%;border-bottom: 1px solid gray;flex-grow: 1;}#sk-container-id-8 div.sk-label:hover label.sk-toggleable__label {background-color: #d4ebff;}#sk-container-id-8 div.sk-serial::before {content: \"\";position: absolute;border-left: 1px solid gray;box-sizing: border-box;top: 0;bottom: 0;left: 50%;z-index: 0;}#sk-container-id-8 div.sk-serial {display: flex;flex-direction: column;align-items: center;background-color: white;padding-right: 0.2em;padding-left: 0.2em;position: relative;}#sk-container-id-8 div.sk-item {position: relative;z-index: 1;}#sk-container-id-8 div.sk-parallel {display: flex;align-items: stretch;justify-content: center;background-color: white;position: relative;}#sk-container-id-8 div.sk-item::before, #sk-container-id-8 div.sk-parallel-item::before {content: \"\";position: absolute;border-left: 1px solid gray;box-sizing: border-box;top: 0;bottom: 0;left: 50%;z-index: -1;}#sk-container-id-8 div.sk-parallel-item {display: flex;flex-direction: column;z-index: 1;position: relative;background-color: white;}#sk-container-id-8 div.sk-parallel-item:first-child::after {align-self: flex-end;width: 50%;}#sk-container-id-8 div.sk-parallel-item:last-child::after {align-self: flex-start;width: 50%;}#sk-container-id-8 div.sk-parallel-item:only-child::after {width: 0;}#sk-container-id-8 div.sk-dashed-wrapped {border: 1px dashed gray;margin: 0 0.4em 0.5em 0.4em;box-sizing: border-box;padding-bottom: 0.4em;background-color: white;}#sk-container-id-8 div.sk-label label {font-family: monospace;font-weight: bold;display: inline-block;line-height: 1.2em;}#sk-container-id-8 div.sk-label-container {text-align: center;}#sk-container-id-8 div.sk-container {/* jupyter's `normalize.less` sets `[hidden] { display: none; }` but bootstrap.min.css set `[hidden] { display: none !important; }` so we also need the `!important` here to be able to override the default hidden behavior on the sphinx rendered scikit-learn.org. See: https://github.com/scikit-learn/scikit-learn/issues/21755 */display: inline-block !important;position: relative;}#sk-container-id-8 div.sk-text-repr-fallback {display: none;}</style><div id=\"sk-container-id-8\" class=\"sk-top-container\"><div class=\"sk-text-repr-fallback\"><pre>XGBRegressor(base_score=0.5, booster=&#x27;gbtree&#x27;, callbacks=None,\n",
       "             colsample_bylevel=1, colsample_bynode=1, colsample_bytree=1,\n",
       "             early_stopping_rounds=None, enable_categorical=False,\n",
       "             eval_metric=None, gamma=0, gpu_id=-1, grow_policy=&#x27;depthwise&#x27;,\n",
       "             importance_type=None, interaction_constraints=&#x27;&#x27;,\n",
       "             learning_rate=0.300000012, max_bin=256, max_cat_to_onehot=4,\n",
       "             max_delta_step=0, max_depth=6, max_leaves=0, min_child_weight=1,\n",
       "             min_samples_leaf=143, min_samples_split=62, missing=nan,\n",
       "             monotone_constraints=&#x27;()&#x27;, n_estimators=37, n_jobs=0,\n",
       "             num_parallel_tree=1, predictor=&#x27;auto&#x27;, random_state=10, ...)</pre><b>In a Jupyter environment, please rerun this cell to show the HTML representation or trust the notebook. <br />On GitHub, the HTML representation is unable to render, please try loading this page with nbviewer.org.</b></div><div class=\"sk-container\" hidden><div class=\"sk-item\"><div class=\"sk-estimator sk-toggleable\"><input class=\"sk-toggleable__control sk-hidden--visually\" id=\"sk-estimator-id-14\" type=\"checkbox\" checked><label for=\"sk-estimator-id-14\" class=\"sk-toggleable__label sk-toggleable__label-arrow\">XGBRegressor</label><div class=\"sk-toggleable__content\"><pre>XGBRegressor(base_score=0.5, booster=&#x27;gbtree&#x27;, callbacks=None,\n",
       "             colsample_bylevel=1, colsample_bynode=1, colsample_bytree=1,\n",
       "             early_stopping_rounds=None, enable_categorical=False,\n",
       "             eval_metric=None, gamma=0, gpu_id=-1, grow_policy=&#x27;depthwise&#x27;,\n",
       "             importance_type=None, interaction_constraints=&#x27;&#x27;,\n",
       "             learning_rate=0.300000012, max_bin=256, max_cat_to_onehot=4,\n",
       "             max_delta_step=0, max_depth=6, max_leaves=0, min_child_weight=1,\n",
       "             min_samples_leaf=143, min_samples_split=62, missing=nan,\n",
       "             monotone_constraints=&#x27;()&#x27;, n_estimators=37, n_jobs=0,\n",
       "             num_parallel_tree=1, predictor=&#x27;auto&#x27;, random_state=10, ...)</pre></div></div></div></div></div>"
      ],
      "text/plain": [
       "XGBRegressor(base_score=0.5, booster='gbtree', callbacks=None,\n",
       "             colsample_bylevel=1, colsample_bynode=1, colsample_bytree=1,\n",
       "             early_stopping_rounds=None, enable_categorical=False,\n",
       "             eval_metric=None, gamma=0, gpu_id=-1, grow_policy='depthwise',\n",
       "             importance_type=None, interaction_constraints='',\n",
       "             learning_rate=0.300000012, max_bin=256, max_cat_to_onehot=4,\n",
       "             max_delta_step=0, max_depth=6, max_leaves=0, min_child_weight=1,\n",
       "             min_samples_leaf=143, min_samples_split=62, missing=nan,\n",
       "             monotone_constraints='()', n_estimators=37, n_jobs=0,\n",
       "             num_parallel_tree=1, predictor='auto', random_state=10, ...)"
      ]
     },
     "execution_count": 105,
     "metadata": {},
     "output_type": "execute_result"
    }
   ],
   "source": [
    "lr_bayes.best_estimator_"
   ]
  },
  {
   "cell_type": "code",
   "execution_count": 106,
   "metadata": {},
   "outputs": [
    {
     "name": "stdout",
     "output_type": "stream",
     "text": [
      "Train R2 square :  0.804191608257466\n",
      "Test R2 score :  0.7572779244163612\n"
     ]
    }
   ],
   "source": [
    "#r2 of test and train\n",
    "print('Train R2 square : ', lr_bayes.best_estimator_.score(X_train,y_train))\n",
    "print('Test R2 score : ', lr_bayes.best_estimator_.score(X_test,y_test))"
   ]
  },
  {
   "cell_type": "markdown",
   "metadata": {},
   "source": [
    "LGBM regression"
   ]
  },
  {
   "cell_type": "code",
   "execution_count": 107,
   "metadata": {},
   "outputs": [
    {
     "name": "stdout",
     "output_type": "stream",
     "text": [
      "Fitting 5 folds for each of 1 candidates, totalling 5 fits\n",
      "[CV] END max_depth=33, min_split_gain=2, n_estimators=54, n_jobs=2, num_leaves=9; total time=   3.7s\n",
      "[CV] END max_depth=33, min_split_gain=2, n_estimators=54, n_jobs=2, num_leaves=9; total time=   2.5s\n",
      "[CV] END max_depth=33, min_split_gain=2, n_estimators=54, n_jobs=2, num_leaves=9; total time=   1.2s\n",
      "[CV] END max_depth=33, min_split_gain=2, n_estimators=54, n_jobs=2, num_leaves=9; total time=   1.2s\n",
      "[CV] END max_depth=33, min_split_gain=2, n_estimators=54, n_jobs=2, num_leaves=9; total time=   1.2s\n",
      "Fitting 5 folds for each of 1 candidates, totalling 5 fits\n",
      "[CV] END max_depth=27, min_split_gain=9, n_estimators=65, n_jobs=8, num_leaves=148; total time=   2.3s\n",
      "[CV] END max_depth=27, min_split_gain=9, n_estimators=65, n_jobs=8, num_leaves=148; total time=   2.1s\n",
      "[CV] END max_depth=27, min_split_gain=9, n_estimators=65, n_jobs=8, num_leaves=148; total time=   1.6s\n",
      "[CV] END max_depth=27, min_split_gain=9, n_estimators=65, n_jobs=8, num_leaves=148; total time=   1.7s\n",
      "[CV] END max_depth=27, min_split_gain=9, n_estimators=65, n_jobs=8, num_leaves=148; total time=   1.9s\n",
      "Fitting 5 folds for each of 1 candidates, totalling 5 fits\n",
      "[CV] END max_depth=17, min_split_gain=5, n_estimators=76, n_jobs=4, num_leaves=177; total time=  21.8s\n",
      "[CV] END max_depth=17, min_split_gain=5, n_estimators=76, n_jobs=4, num_leaves=177; total time=  21.1s\n",
      "[CV] END max_depth=17, min_split_gain=5, n_estimators=76, n_jobs=4, num_leaves=177; total time=  19.0s\n",
      "[CV] END max_depth=17, min_split_gain=5, n_estimators=76, n_jobs=4, num_leaves=177; total time=  19.7s\n",
      "[CV] END max_depth=17, min_split_gain=5, n_estimators=76, n_jobs=4, num_leaves=177; total time=  18.1s\n",
      "Fitting 5 folds for each of 1 candidates, totalling 5 fits\n",
      "[CV] END max_depth=39, min_split_gain=5, n_estimators=156, n_jobs=7, num_leaves=8; total time=   1.6s\n",
      "[CV] END max_depth=39, min_split_gain=5, n_estimators=156, n_jobs=7, num_leaves=8; total time=   1.5s\n",
      "[CV] END max_depth=39, min_split_gain=5, n_estimators=156, n_jobs=7, num_leaves=8; total time=   1.5s\n",
      "[CV] END max_depth=39, min_split_gain=5, n_estimators=156, n_jobs=7, num_leaves=8; total time=   2.6s\n",
      "[CV] END max_depth=39, min_split_gain=5, n_estimators=156, n_jobs=7, num_leaves=8; total time=   2.1s\n",
      "Fitting 5 folds for each of 1 candidates, totalling 5 fits\n",
      "[CV] END max_depth=12, min_split_gain=5, n_estimators=131, n_jobs=22, num_leaves=129; total time=   3.2s\n",
      "[CV] END max_depth=12, min_split_gain=5, n_estimators=131, n_jobs=22, num_leaves=129; total time=   3.6s\n",
      "[CV] END max_depth=12, min_split_gain=5, n_estimators=131, n_jobs=22, num_leaves=129; total time=   4.9s\n",
      "[CV] END max_depth=12, min_split_gain=5, n_estimators=131, n_jobs=22, num_leaves=129; total time=   3.5s\n",
      "[CV] END max_depth=12, min_split_gain=5, n_estimators=131, n_jobs=22, num_leaves=129; total time=   3.4s\n",
      "Fitting 5 folds for each of 1 candidates, totalling 5 fits\n",
      "[CV] END max_depth=23, min_split_gain=9, n_estimators=74, n_jobs=18, num_leaves=181; total time=   2.3s\n",
      "[CV] END max_depth=23, min_split_gain=9, n_estimators=74, n_jobs=18, num_leaves=181; total time=   2.1s\n",
      "[CV] END max_depth=23, min_split_gain=9, n_estimators=74, n_jobs=18, num_leaves=181; total time=   2.2s\n",
      "[CV] END max_depth=23, min_split_gain=9, n_estimators=74, n_jobs=18, num_leaves=181; total time=   2.5s\n",
      "[CV] END max_depth=23, min_split_gain=9, n_estimators=74, n_jobs=18, num_leaves=181; total time=   1.9s\n",
      "Fitting 5 folds for each of 1 candidates, totalling 5 fits\n",
      "[CV] END max_depth=9, min_split_gain=8, n_estimators=100, n_jobs=6, num_leaves=9; total time=   1.3s\n",
      "[CV] END max_depth=9, min_split_gain=8, n_estimators=100, n_jobs=6, num_leaves=9; total time=   0.9s\n",
      "[CV] END max_depth=9, min_split_gain=8, n_estimators=100, n_jobs=6, num_leaves=9; total time=   1.1s\n",
      "[CV] END max_depth=9, min_split_gain=8, n_estimators=100, n_jobs=6, num_leaves=9; total time=   1.0s\n",
      "[CV] END max_depth=9, min_split_gain=8, n_estimators=100, n_jobs=6, num_leaves=9; total time=   1.0s\n",
      "Fitting 5 folds for each of 1 candidates, totalling 5 fits\n",
      "[CV] END max_depth=38, min_split_gain=4, n_estimators=8, n_jobs=6, num_leaves=168; total time=   0.3s\n",
      "[CV] END max_depth=38, min_split_gain=4, n_estimators=8, n_jobs=6, num_leaves=168; total time=   0.3s\n",
      "[CV] END max_depth=38, min_split_gain=4, n_estimators=8, n_jobs=6, num_leaves=168; total time=   0.3s\n",
      "[CV] END max_depth=38, min_split_gain=4, n_estimators=8, n_jobs=6, num_leaves=168; total time=   0.3s\n",
      "[CV] END max_depth=38, min_split_gain=4, n_estimators=8, n_jobs=6, num_leaves=168; total time=   0.3s\n",
      "Fitting 5 folds for each of 1 candidates, totalling 5 fits\n",
      "[CV] END max_depth=31, min_split_gain=4, n_estimators=145, n_jobs=20, num_leaves=140; total time=   3.1s\n",
      "[CV] END max_depth=31, min_split_gain=4, n_estimators=145, n_jobs=20, num_leaves=140; total time=   3.0s\n",
      "[CV] END max_depth=31, min_split_gain=4, n_estimators=145, n_jobs=20, num_leaves=140; total time=   2.7s\n",
      "[CV] END max_depth=31, min_split_gain=4, n_estimators=145, n_jobs=20, num_leaves=140; total time=   3.6s\n",
      "[CV] END max_depth=31, min_split_gain=4, n_estimators=145, n_jobs=20, num_leaves=140; total time=   3.0s\n",
      "Fitting 5 folds for each of 1 candidates, totalling 5 fits\n",
      "[CV] END max_depth=17, min_split_gain=3, n_estimators=49, n_jobs=14, num_leaves=133; total time=   1.3s\n",
      "[CV] END max_depth=17, min_split_gain=3, n_estimators=49, n_jobs=14, num_leaves=133; total time=   1.4s\n",
      "[CV] END max_depth=17, min_split_gain=3, n_estimators=49, n_jobs=14, num_leaves=133; total time=   1.3s\n",
      "[CV] END max_depth=17, min_split_gain=3, n_estimators=49, n_jobs=14, num_leaves=133; total time=   1.3s\n",
      "[CV] END max_depth=17, min_split_gain=3, n_estimators=49, n_jobs=14, num_leaves=133; total time=   1.4s\n"
     ]
    },
    {
     "data": {
      "text/html": [
       "<style>#sk-container-id-9 {color: black;background-color: white;}#sk-container-id-9 pre{padding: 0;}#sk-container-id-9 div.sk-toggleable {background-color: white;}#sk-container-id-9 label.sk-toggleable__label {cursor: pointer;display: block;width: 100%;margin-bottom: 0;padding: 0.3em;box-sizing: border-box;text-align: center;}#sk-container-id-9 label.sk-toggleable__label-arrow:before {content: \"▸\";float: left;margin-right: 0.25em;color: #696969;}#sk-container-id-9 label.sk-toggleable__label-arrow:hover:before {color: black;}#sk-container-id-9 div.sk-estimator:hover label.sk-toggleable__label-arrow:before {color: black;}#sk-container-id-9 div.sk-toggleable__content {max-height: 0;max-width: 0;overflow: hidden;text-align: left;background-color: #f0f8ff;}#sk-container-id-9 div.sk-toggleable__content pre {margin: 0.2em;color: black;border-radius: 0.25em;background-color: #f0f8ff;}#sk-container-id-9 input.sk-toggleable__control:checked~div.sk-toggleable__content {max-height: 200px;max-width: 100%;overflow: auto;}#sk-container-id-9 input.sk-toggleable__control:checked~label.sk-toggleable__label-arrow:before {content: \"▾\";}#sk-container-id-9 div.sk-estimator input.sk-toggleable__control:checked~label.sk-toggleable__label {background-color: #d4ebff;}#sk-container-id-9 div.sk-label input.sk-toggleable__control:checked~label.sk-toggleable__label {background-color: #d4ebff;}#sk-container-id-9 input.sk-hidden--visually {border: 0;clip: rect(1px 1px 1px 1px);clip: rect(1px, 1px, 1px, 1px);height: 1px;margin: -1px;overflow: hidden;padding: 0;position: absolute;width: 1px;}#sk-container-id-9 div.sk-estimator {font-family: monospace;background-color: #f0f8ff;border: 1px dotted black;border-radius: 0.25em;box-sizing: border-box;margin-bottom: 0.5em;}#sk-container-id-9 div.sk-estimator:hover {background-color: #d4ebff;}#sk-container-id-9 div.sk-parallel-item::after {content: \"\";width: 100%;border-bottom: 1px solid gray;flex-grow: 1;}#sk-container-id-9 div.sk-label:hover label.sk-toggleable__label {background-color: #d4ebff;}#sk-container-id-9 div.sk-serial::before {content: \"\";position: absolute;border-left: 1px solid gray;box-sizing: border-box;top: 0;bottom: 0;left: 50%;z-index: 0;}#sk-container-id-9 div.sk-serial {display: flex;flex-direction: column;align-items: center;background-color: white;padding-right: 0.2em;padding-left: 0.2em;position: relative;}#sk-container-id-9 div.sk-item {position: relative;z-index: 1;}#sk-container-id-9 div.sk-parallel {display: flex;align-items: stretch;justify-content: center;background-color: white;position: relative;}#sk-container-id-9 div.sk-item::before, #sk-container-id-9 div.sk-parallel-item::before {content: \"\";position: absolute;border-left: 1px solid gray;box-sizing: border-box;top: 0;bottom: 0;left: 50%;z-index: -1;}#sk-container-id-9 div.sk-parallel-item {display: flex;flex-direction: column;z-index: 1;position: relative;background-color: white;}#sk-container-id-9 div.sk-parallel-item:first-child::after {align-self: flex-end;width: 50%;}#sk-container-id-9 div.sk-parallel-item:last-child::after {align-self: flex-start;width: 50%;}#sk-container-id-9 div.sk-parallel-item:only-child::after {width: 0;}#sk-container-id-9 div.sk-dashed-wrapped {border: 1px dashed gray;margin: 0 0.4em 0.5em 0.4em;box-sizing: border-box;padding-bottom: 0.4em;background-color: white;}#sk-container-id-9 div.sk-label label {font-family: monospace;font-weight: bold;display: inline-block;line-height: 1.2em;}#sk-container-id-9 div.sk-label-container {text-align: center;}#sk-container-id-9 div.sk-container {/* jupyter's `normalize.less` sets `[hidden] { display: none; }` but bootstrap.min.css set `[hidden] { display: none !important; }` so we also need the `!important` here to be able to override the default hidden behavior on the sphinx rendered scikit-learn.org. See: https://github.com/scikit-learn/scikit-learn/issues/21755 */display: inline-block !important;position: relative;}#sk-container-id-9 div.sk-text-repr-fallback {display: none;}</style><div id=\"sk-container-id-9\" class=\"sk-top-container\"><div class=\"sk-text-repr-fallback\"><pre>BayesSearchCV(cv=5, estimator=LGBMRegressor(random_state=10), n_iter=10,\n",
       "              scoring=&#x27;r2&#x27;,\n",
       "              search_spaces={&#x27;max_depth&#x27;: Integer(low=4, high=40, prior=&#x27;uniform&#x27;, transform=&#x27;normalize&#x27;),\n",
       "                             &#x27;min_split_gain&#x27;: Integer(low=1.0, high=10.0, prior=&#x27;uniform&#x27;, transform=&#x27;normalize&#x27;),\n",
       "                             &#x27;n_estimators&#x27;: Integer(low=3, high=200, prior=&#x27;uniform&#x27;, transform=&#x27;normalize&#x27;),\n",
       "                             &#x27;n_jobs&#x27;: Integer(low=1, high=30, prior=&#x27;uniform&#x27;, transform=&#x27;normalize&#x27;),\n",
       "                             &#x27;num_leaves&#x27;: Integer(low=3, high=200, prior=&#x27;uniform&#x27;, transform=&#x27;normalize&#x27;)},\n",
       "              verbose=2)</pre><b>In a Jupyter environment, please rerun this cell to show the HTML representation or trust the notebook. <br />On GitHub, the HTML representation is unable to render, please try loading this page with nbviewer.org.</b></div><div class=\"sk-container\" hidden><div class=\"sk-item sk-dashed-wrapped\"><div class=\"sk-label-container\"><div class=\"sk-label sk-toggleable\"><input class=\"sk-toggleable__control sk-hidden--visually\" id=\"sk-estimator-id-15\" type=\"checkbox\" ><label for=\"sk-estimator-id-15\" class=\"sk-toggleable__label sk-toggleable__label-arrow\">BayesSearchCV</label><div class=\"sk-toggleable__content\"><pre>BayesSearchCV(cv=5, estimator=LGBMRegressor(random_state=10), n_iter=10,\n",
       "              scoring=&#x27;r2&#x27;,\n",
       "              search_spaces={&#x27;max_depth&#x27;: Integer(low=4, high=40, prior=&#x27;uniform&#x27;, transform=&#x27;normalize&#x27;),\n",
       "                             &#x27;min_split_gain&#x27;: Integer(low=1.0, high=10.0, prior=&#x27;uniform&#x27;, transform=&#x27;normalize&#x27;),\n",
       "                             &#x27;n_estimators&#x27;: Integer(low=3, high=200, prior=&#x27;uniform&#x27;, transform=&#x27;normalize&#x27;),\n",
       "                             &#x27;n_jobs&#x27;: Integer(low=1, high=30, prior=&#x27;uniform&#x27;, transform=&#x27;normalize&#x27;),\n",
       "                             &#x27;num_leaves&#x27;: Integer(low=3, high=200, prior=&#x27;uniform&#x27;, transform=&#x27;normalize&#x27;)},\n",
       "              verbose=2)</pre></div></div></div><div class=\"sk-parallel\"><div class=\"sk-parallel-item\"><div class=\"sk-item\"><div class=\"sk-label-container\"><div class=\"sk-label sk-toggleable\"><input class=\"sk-toggleable__control sk-hidden--visually\" id=\"sk-estimator-id-16\" type=\"checkbox\" ><label for=\"sk-estimator-id-16\" class=\"sk-toggleable__label sk-toggleable__label-arrow\">estimator: LGBMRegressor</label><div class=\"sk-toggleable__content\"><pre>LGBMRegressor(random_state=10)</pre></div></div></div><div class=\"sk-serial\"><div class=\"sk-item\"><div class=\"sk-estimator sk-toggleable\"><input class=\"sk-toggleable__control sk-hidden--visually\" id=\"sk-estimator-id-17\" type=\"checkbox\" ><label for=\"sk-estimator-id-17\" class=\"sk-toggleable__label sk-toggleable__label-arrow\">LGBMRegressor</label><div class=\"sk-toggleable__content\"><pre>LGBMRegressor(random_state=10)</pre></div></div></div></div></div></div></div></div></div></div>"
      ],
      "text/plain": [
       "BayesSearchCV(cv=5, estimator=LGBMRegressor(random_state=10), n_iter=10,\n",
       "              scoring='r2',\n",
       "              search_spaces={'max_depth': Integer(low=4, high=40, prior='uniform', transform='normalize'),\n",
       "                             'min_split_gain': Integer(low=1.0, high=10.0, prior='uniform', transform='normalize'),\n",
       "                             'n_estimators': Integer(low=3, high=200, prior='uniform', transform='normalize'),\n",
       "                             'n_jobs': Integer(low=1, high=30, prior='uniform', transform='normalize'),\n",
       "                             'num_leaves': Integer(low=3, high=200, prior='uniform', transform='normalize')},\n",
       "              verbose=2)"
      ]
     },
     "execution_count": 107,
     "metadata": {},
     "output_type": "execute_result"
    }
   ],
   "source": [
    "#Cross validation and hyperparameter tuning\n",
    "lr_bayes = BayesSearchCV(estimator=lgbm ,\n",
    "                           search_spaces = {\n",
    "                            'max_depth': Integer(4,40),\n",
    "                          'num_leaves': Integer(3,200),\n",
    "                         'n_estimators': Integer(3,200),\n",
    "              \n",
    "                         'min_split_gain': Integer(1.0,10.0),\n",
    "                         'n_jobs':Integer(1,30),\n",
    "                        \n",
    "                        },\n",
    "                       cv = 5, verbose=2, scoring='r2', n_iter=10)\n",
    "\n",
    "lr_bayes.fit(X_train,y_train)"
   ]
  },
  {
   "cell_type": "code",
   "execution_count": 108,
   "metadata": {},
   "outputs": [
    {
     "data": {
      "text/html": [
       "<style>#sk-container-id-10 {color: black;background-color: white;}#sk-container-id-10 pre{padding: 0;}#sk-container-id-10 div.sk-toggleable {background-color: white;}#sk-container-id-10 label.sk-toggleable__label {cursor: pointer;display: block;width: 100%;margin-bottom: 0;padding: 0.3em;box-sizing: border-box;text-align: center;}#sk-container-id-10 label.sk-toggleable__label-arrow:before {content: \"▸\";float: left;margin-right: 0.25em;color: #696969;}#sk-container-id-10 label.sk-toggleable__label-arrow:hover:before {color: black;}#sk-container-id-10 div.sk-estimator:hover label.sk-toggleable__label-arrow:before {color: black;}#sk-container-id-10 div.sk-toggleable__content {max-height: 0;max-width: 0;overflow: hidden;text-align: left;background-color: #f0f8ff;}#sk-container-id-10 div.sk-toggleable__content pre {margin: 0.2em;color: black;border-radius: 0.25em;background-color: #f0f8ff;}#sk-container-id-10 input.sk-toggleable__control:checked~div.sk-toggleable__content {max-height: 200px;max-width: 100%;overflow: auto;}#sk-container-id-10 input.sk-toggleable__control:checked~label.sk-toggleable__label-arrow:before {content: \"▾\";}#sk-container-id-10 div.sk-estimator input.sk-toggleable__control:checked~label.sk-toggleable__label {background-color: #d4ebff;}#sk-container-id-10 div.sk-label input.sk-toggleable__control:checked~label.sk-toggleable__label {background-color: #d4ebff;}#sk-container-id-10 input.sk-hidden--visually {border: 0;clip: rect(1px 1px 1px 1px);clip: rect(1px, 1px, 1px, 1px);height: 1px;margin: -1px;overflow: hidden;padding: 0;position: absolute;width: 1px;}#sk-container-id-10 div.sk-estimator {font-family: monospace;background-color: #f0f8ff;border: 1px dotted black;border-radius: 0.25em;box-sizing: border-box;margin-bottom: 0.5em;}#sk-container-id-10 div.sk-estimator:hover {background-color: #d4ebff;}#sk-container-id-10 div.sk-parallel-item::after {content: \"\";width: 100%;border-bottom: 1px solid gray;flex-grow: 1;}#sk-container-id-10 div.sk-label:hover label.sk-toggleable__label {background-color: #d4ebff;}#sk-container-id-10 div.sk-serial::before {content: \"\";position: absolute;border-left: 1px solid gray;box-sizing: border-box;top: 0;bottom: 0;left: 50%;z-index: 0;}#sk-container-id-10 div.sk-serial {display: flex;flex-direction: column;align-items: center;background-color: white;padding-right: 0.2em;padding-left: 0.2em;position: relative;}#sk-container-id-10 div.sk-item {position: relative;z-index: 1;}#sk-container-id-10 div.sk-parallel {display: flex;align-items: stretch;justify-content: center;background-color: white;position: relative;}#sk-container-id-10 div.sk-item::before, #sk-container-id-10 div.sk-parallel-item::before {content: \"\";position: absolute;border-left: 1px solid gray;box-sizing: border-box;top: 0;bottom: 0;left: 50%;z-index: -1;}#sk-container-id-10 div.sk-parallel-item {display: flex;flex-direction: column;z-index: 1;position: relative;background-color: white;}#sk-container-id-10 div.sk-parallel-item:first-child::after {align-self: flex-end;width: 50%;}#sk-container-id-10 div.sk-parallel-item:last-child::after {align-self: flex-start;width: 50%;}#sk-container-id-10 div.sk-parallel-item:only-child::after {width: 0;}#sk-container-id-10 div.sk-dashed-wrapped {border: 1px dashed gray;margin: 0 0.4em 0.5em 0.4em;box-sizing: border-box;padding-bottom: 0.4em;background-color: white;}#sk-container-id-10 div.sk-label label {font-family: monospace;font-weight: bold;display: inline-block;line-height: 1.2em;}#sk-container-id-10 div.sk-label-container {text-align: center;}#sk-container-id-10 div.sk-container {/* jupyter's `normalize.less` sets `[hidden] { display: none; }` but bootstrap.min.css set `[hidden] { display: none !important; }` so we also need the `!important` here to be able to override the default hidden behavior on the sphinx rendered scikit-learn.org. See: https://github.com/scikit-learn/scikit-learn/issues/21755 */display: inline-block !important;position: relative;}#sk-container-id-10 div.sk-text-repr-fallback {display: none;}</style><div id=\"sk-container-id-10\" class=\"sk-top-container\"><div class=\"sk-text-repr-fallback\"><pre>LGBMRegressor(max_depth=39, min_split_gain=5, n_estimators=156, n_jobs=7,\n",
       "              num_leaves=8, random_state=10)</pre><b>In a Jupyter environment, please rerun this cell to show the HTML representation or trust the notebook. <br />On GitHub, the HTML representation is unable to render, please try loading this page with nbviewer.org.</b></div><div class=\"sk-container\" hidden><div class=\"sk-item\"><div class=\"sk-estimator sk-toggleable\"><input class=\"sk-toggleable__control sk-hidden--visually\" id=\"sk-estimator-id-18\" type=\"checkbox\" checked><label for=\"sk-estimator-id-18\" class=\"sk-toggleable__label sk-toggleable__label-arrow\">LGBMRegressor</label><div class=\"sk-toggleable__content\"><pre>LGBMRegressor(max_depth=39, min_split_gain=5, n_estimators=156, n_jobs=7,\n",
       "              num_leaves=8, random_state=10)</pre></div></div></div></div></div>"
      ],
      "text/plain": [
       "LGBMRegressor(max_depth=39, min_split_gain=5, n_estimators=156, n_jobs=7,\n",
       "              num_leaves=8, random_state=10)"
      ]
     },
     "execution_count": 108,
     "metadata": {},
     "output_type": "execute_result"
    }
   ],
   "source": [
    "lr_bayes.best_estimator_"
   ]
  },
  {
   "cell_type": "code",
   "execution_count": 109,
   "metadata": {},
   "outputs": [
    {
     "name": "stdout",
     "output_type": "stream",
     "text": [
      "Train R2 square :  0.736147059728897\n",
      "Test R2 score :  0.7204988971053659\n"
     ]
    }
   ],
   "source": [
    "#r2 of test and train\n",
    "print('Train R2 square : ', lr_bayes.best_estimator_.score(X_train,y_train))\n",
    "print('Test R2 score : ', lr_bayes.best_estimator_.score(X_test,y_test))"
   ]
  },
  {
   "cell_type": "code",
   "execution_count": 112,
   "metadata": {},
   "outputs": [],
   "source": [
    "import evalml"
   ]
  },
  {
   "cell_type": "code",
   "execution_count": 113,
   "metadata": {},
   "outputs": [
    {
     "name": "stderr",
     "output_type": "stream",
     "text": [
      "2022-10-14 22:19:21,686 - INFO     - AutoMLSearch will use mean CV score to rank pipelines.\n",
      "2022-10-14 22:19:21,697 - INFO     - Using default limit of max_batches=3.\n",
      "\n",
      "2022-10-14 22:19:21,865 - INFO     - \n",
      "*****************************\n",
      "2022-10-14 22:19:21,867 - INFO     - * Beginning pipeline search *\n",
      "2022-10-14 22:19:21,873 - INFO     - *****************************\n",
      "2022-10-14 22:19:21,877 - INFO     - \n",
      "2022-10-14 22:19:21,879 - INFO     - Optimizing for R2. \n",
      "2022-10-14 22:19:21,880 - INFO     - Greater score is better.\n",
      "\n",
      "2022-10-14 22:19:21,894 - INFO     - Using SequentialEngine to train and score pipelines.\n",
      "2022-10-14 22:19:21,897 - INFO     - Searching up to 3 batches for a total of None pipelines. \n",
      "2022-10-14 22:19:21,910 - INFO     - Allowed model families: \n",
      "\n",
      "2022-10-14 22:19:22,030 - INFO     - Evaluating Baseline Pipeline: Mean Baseline Regression Pipeline\n",
      "2022-10-14 22:19:22,572 - INFO     - Mean Baseline Regression Pipeline:\n",
      "2022-10-14 22:19:22,572 - INFO     - \tStarting cross validation\n",
      "2022-10-14 22:19:22,583 - INFO     - \tFinished cross validation - mean R2: -0.000\n",
      "2022-10-14 22:19:22,804 - INFO     - \n",
      "*****************************\n",
      "2022-10-14 22:19:22,819 - INFO     - * Evaluating Batch Number 1 *\n",
      "2022-10-14 22:19:22,824 - INFO     - *****************************\n",
      "2022-10-14 22:19:22,829 - INFO     - \n",
      "2022-10-14 22:19:24,549 - INFO     - Elastic Net Regressor w/ Replace Nullable Types Transformer + Imputer + Standard Scaler:\n",
      "2022-10-14 22:19:24,551 - INFO     - \tStarting cross validation\n",
      "2022-10-14 22:19:24,552 - INFO     - \tFinished cross validation - mean R2: 0.017\n",
      "2022-10-14 22:19:29,094 - INFO     - Random Forest Regressor w/ Replace Nullable Types Transformer + Imputer:\n",
      "2022-10-14 22:19:29,099 - INFO     - \tStarting cross validation\n",
      "2022-10-14 22:19:29,100 - INFO     - \tFinished cross validation - mean R2: 0.741\n",
      "2022-10-14 22:19:29,379 - INFO     - \n",
      "*****************************\n",
      "2022-10-14 22:19:29,380 - INFO     - * Evaluating Batch Number 2 *\n",
      "2022-10-14 22:19:29,382 - INFO     - *****************************\n",
      "2022-10-14 22:19:29,384 - INFO     - \n",
      "2022-10-14 22:19:32,828 - INFO     - Elastic Net Regressor w/ Replace Nullable Types Transformer + Imputer + Standard Scaler + RF Regressor Select From Model:\n",
      "2022-10-14 22:19:32,829 - INFO     - \tStarting cross validation\n",
      "2022-10-14 22:19:32,831 - INFO     - \tFinished cross validation - mean R2: 0.001\n"
     ]
    },
    {
     "name": "stdout",
     "output_type": "stream",
     "text": [
      "Requirement already satisfied: evalml in c:\\users\\1900120\\anaconda3\\lib\\site-packages (0.59.0)\n",
      "Requirement already satisfied: seaborn>=0.11.1 in c:\\users\\1900120\\anaconda3\\lib\\site-packages (from evalml) (0.11.2)\n",
      "Requirement already satisfied: pyzmq>=20.0.0 in c:\\users\\1900120\\anaconda3\\lib\\site-packages (from evalml) (22.3.0)\n",
      "Requirement already satisfied: pandas>=1.4.0 in c:\\users\\1900120\\anaconda3\\lib\\site-packages (from evalml) (1.4.4)\n",
      "Requirement already satisfied: dask>=2021.10.0 in c:\\users\\1900120\\anaconda3\\lib\\site-packages (from evalml) (2022.2.1)\n",
      "Requirement already satisfied: networkx<2.6,>=2.5 in c:\\users\\1900120\\anaconda3\\lib\\site-packages (from evalml) (2.5.1)\n",
      "Requirement already satisfied: catboost>=0.20 in c:\\users\\1900120\\anaconda3\\lib\\site-packages (from evalml) (1.0.6)\n",
      "Requirement already satisfied: matplotlib>=3.3.3 in c:\\users\\1900120\\anaconda3\\lib\\site-packages (from evalml) (3.5.1)\n",
      "Requirement already satisfied: shap>=0.40.0 in c:\\users\\1900120\\anaconda3\\lib\\site-packages (from evalml) (0.41.0)\n",
      "Requirement already satisfied: pmdarima<2.0.0,>=1.8.1 in c:\\users\\1900120\\anaconda3\\lib\\site-packages (from evalml) (1.8.5)\n",
      "Requirement already satisfied: xgboost>=1.5.1 in c:\\users\\1900120\\anaconda3\\lib\\site-packages (from evalml) (1.6.2)\n",
      "Requirement already satisfied: texttable>=1.6.2 in c:\\users\\1900120\\anaconda3\\lib\\site-packages (from evalml) (1.6.4)\n",
      "Requirement already satisfied: lightgbm>=2.3.1 in c:\\users\\1900120\\anaconda3\\lib\\site-packages (from evalml) (3.3.2)\n",
      "Requirement already satisfied: scipy>=1.5.0 in c:\\users\\1900120\\anaconda3\\lib\\site-packages (from evalml) (1.7.3)\n",
      "Requirement already satisfied: vowpalwabbit>=8.11.0 in c:\\users\\1900120\\anaconda3\\lib\\site-packages (from evalml) (9.5.0)\n",
      "Requirement already satisfied: featuretools>=1.7.0 in c:\\users\\1900120\\anaconda3\\lib\\site-packages (from evalml) (1.15.0)\n",
      "Requirement already satisfied: statsmodels>=0.12.2 in c:\\users\\1900120\\anaconda3\\lib\\site-packages (from evalml) (0.13.2)\n",
      "Requirement already satisfied: kaleido>=0.1.0 in c:\\users\\1900120\\anaconda3\\lib\\site-packages (from evalml) (0.2.1)\n",
      "Requirement already satisfied: imbalanced-learn>=0.9.1 in c:\\users\\1900120\\anaconda3\\lib\\site-packages (from evalml) (0.9.1)\n",
      "Requirement already satisfied: scikit-optimize>=0.9.0 in c:\\users\\1900120\\anaconda3\\lib\\site-packages (from evalml) (0.9.0)\n",
      "Requirement already satisfied: numpy>=1.21.0 in c:\\users\\1900120\\anaconda3\\lib\\site-packages (from evalml) (1.21.5)\n",
      "Requirement already satisfied: category-encoders>=2.2.2 in c:\\users\\1900120\\anaconda3\\lib\\site-packages (from evalml) (2.5.1.post0)\n",
      "Requirement already satisfied: click>=7.1.2 in c:\\users\\1900120\\anaconda3\\lib\\site-packages (from evalml) (8.0.4)\n",
      "Requirement already satisfied: woodwork>=0.18.0 in c:\\users\\1900120\\anaconda3\\lib\\site-packages (from evalml) (0.19.0)\n",
      "Requirement already satisfied: plotly>=5.0.0 in c:\\users\\1900120\\anaconda3\\lib\\site-packages (from evalml) (5.6.0)\n",
      "Requirement already satisfied: lime>=0.2.0.1 in c:\\users\\1900120\\anaconda3\\lib\\site-packages (from evalml) (0.2.0.1)\n",
      "Requirement already satisfied: nlp-primitives!=2.6.0,>=2.1.0 in c:\\users\\1900120\\anaconda3\\lib\\site-packages (from evalml) (2.8.0)\n",
      "Requirement already satisfied: requirements-parser>=0.2.0 in c:\\users\\1900120\\anaconda3\\lib\\site-packages (from evalml) (0.5.0)\n",
      "Requirement already satisfied: cloudpickle>=1.5.0 in c:\\users\\1900120\\anaconda3\\lib\\site-packages (from evalml) (2.0.0)\n",
      "Requirement already satisfied: ipywidgets>=7.5 in c:\\users\\1900120\\anaconda3\\lib\\site-packages (from evalml) (7.6.5)\n",
      "Requirement already satisfied: scikit-learn>=1.1.2 in c:\\users\\1900120\\anaconda3\\lib\\site-packages (from evalml) (1.1.2)\n",
      "Requirement already satisfied: colorama>=0.4.4 in c:\\users\\1900120\\anaconda3\\lib\\site-packages (from evalml) (0.4.4)\n",
      "Requirement already satisfied: sktime<0.13.1,>=0.12.0 in c:\\users\\1900120\\anaconda3\\lib\\site-packages (from evalml) (0.13.0)\n",
      "Requirement already satisfied: graphviz in c:\\users\\1900120\\anaconda3\\lib\\site-packages (from catboost>=0.20->evalml) (0.20.1)\n",
      "Requirement already satisfied: six in c:\\users\\1900120\\anaconda3\\lib\\site-packages (from catboost>=0.20->evalml) (1.16.0)\n",
      "Requirement already satisfied: patsy>=0.5.1 in c:\\users\\1900120\\anaconda3\\lib\\site-packages (from category-encoders>=2.2.2->evalml) (0.5.2)\n",
      "Requirement already satisfied: toolz>=0.8.2 in c:\\users\\1900120\\anaconda3\\lib\\site-packages (from dask>=2021.10.0->evalml) (0.11.2)\n",
      "Requirement already satisfied: partd>=0.3.10 in c:\\users\\1900120\\anaconda3\\lib\\site-packages (from dask>=2021.10.0->evalml) (1.2.0)\n",
      "Requirement already satisfied: fsspec>=0.6.0 in c:\\users\\1900120\\anaconda3\\lib\\site-packages (from dask>=2021.10.0->evalml) (2022.2.0)\n",
      "Requirement already satisfied: packaging>=20.0 in c:\\users\\1900120\\anaconda3\\lib\\site-packages (from dask>=2021.10.0->evalml) (21.3)\n",
      "Requirement already satisfied: pyyaml>=5.3.1 in c:\\users\\1900120\\anaconda3\\lib\\site-packages (from dask>=2021.10.0->evalml) (6.0)\n",
      "Requirement already satisfied: psutil>=5.6.6 in c:\\users\\1900120\\anaconda3\\lib\\site-packages (from featuretools>=1.7.0->evalml) (5.8.0)\n",
      "Requirement already satisfied: distributed>=2022.2.0 in c:\\users\\1900120\\anaconda3\\lib\\site-packages (from featuretools>=1.7.0->evalml) (2022.2.1)\n",
      "Requirement already satisfied: holidays>=0.13 in c:\\users\\1900120\\anaconda3\\lib\\site-packages (from featuretools>=1.7.0->evalml) (0.16)\n",
      "Requirement already satisfied: tqdm>=4.32.0 in c:\\users\\1900120\\anaconda3\\lib\\site-packages (from featuretools>=1.7.0->evalml) (4.64.0)\n",
      "Requirement already satisfied: jinja2 in c:\\users\\1900120\\anaconda3\\lib\\site-packages (from distributed>=2022.2.0->featuretools>=1.7.0->evalml) (2.11.3)\n",
      "Requirement already satisfied: tblib>=1.6.0 in c:\\users\\1900120\\anaconda3\\lib\\site-packages (from distributed>=2022.2.0->featuretools>=1.7.0->evalml) (1.7.0)\n",
      "Requirement already satisfied: zict>=0.1.3 in c:\\users\\1900120\\anaconda3\\lib\\site-packages (from distributed>=2022.2.0->featuretools>=1.7.0->evalml) (2.0.0)\n",
      "Requirement already satisfied: sortedcontainers!=2.0.0,!=2.0.1 in c:\\users\\1900120\\anaconda3\\lib\\site-packages (from distributed>=2022.2.0->featuretools>=1.7.0->evalml) (2.4.0)\n",
      "Requirement already satisfied: msgpack>=0.6.0 in c:\\users\\1900120\\anaconda3\\lib\\site-packages (from distributed>=2022.2.0->featuretools>=1.7.0->evalml) (1.0.2)\n",
      "Requirement already satisfied: tornado>=6.0.3 in c:\\users\\1900120\\anaconda3\\lib\\site-packages (from distributed>=2022.2.0->featuretools>=1.7.0->evalml) (6.1)\n",
      "Requirement already satisfied: setuptools in c:\\users\\1900120\\anaconda3\\lib\\site-packages (from distributed>=2022.2.0->featuretools>=1.7.0->evalml) (61.2.0)\n",
      "Requirement already satisfied: korean-lunar-calendar in c:\\users\\1900120\\anaconda3\\lib\\site-packages (from holidays>=0.13->featuretools>=1.7.0->evalml) (0.3.1)\n",
      "Requirement already satisfied: hijri-converter in c:\\users\\1900120\\anaconda3\\lib\\site-packages (from holidays>=0.13->featuretools>=1.7.0->evalml) (2.2.4)\n",
      "Requirement already satisfied: python-dateutil in c:\\users\\1900120\\anaconda3\\lib\\site-packages (from holidays>=0.13->featuretools>=1.7.0->evalml) (2.8.2)\n",
      "Requirement already satisfied: convertdate>=2.3.0 in c:\\users\\1900120\\anaconda3\\lib\\site-packages (from holidays>=0.13->featuretools>=1.7.0->evalml) (2.4.0)\n",
      "Requirement already satisfied: pymeeus<=1,>=0.3.13 in c:\\users\\1900120\\anaconda3\\lib\\site-packages (from convertdate>=2.3.0->holidays>=0.13->featuretools>=1.7.0->evalml) (0.5.11)\n",
      "Requirement already satisfied: joblib>=1.0.0 in c:\\users\\1900120\\anaconda3\\lib\\site-packages (from imbalanced-learn>=0.9.1->evalml) (1.1.0)\n",
      "Requirement already satisfied: threadpoolctl>=2.0.0 in c:\\users\\1900120\\anaconda3\\lib\\site-packages (from imbalanced-learn>=0.9.1->evalml) (2.2.0)\n",
      "Requirement already satisfied: ipython-genutils~=0.2.0 in c:\\users\\1900120\\anaconda3\\lib\\site-packages (from ipywidgets>=7.5->evalml) (0.2.0)\n",
      "Requirement already satisfied: jupyterlab-widgets>=1.0.0 in c:\\users\\1900120\\anaconda3\\lib\\site-packages (from ipywidgets>=7.5->evalml) (1.0.0)\n",
      "Requirement already satisfied: traitlets>=4.3.1 in c:\\users\\1900120\\anaconda3\\lib\\site-packages (from ipywidgets>=7.5->evalml) (5.1.1)\n",
      "Requirement already satisfied: ipython>=4.0.0 in c:\\users\\1900120\\anaconda3\\lib\\site-packages (from ipywidgets>=7.5->evalml) (8.2.0)\n",
      "Requirement already satisfied: ipykernel>=4.5.1 in c:\\users\\1900120\\anaconda3\\lib\\site-packages (from ipywidgets>=7.5->evalml) (6.9.1)\n",
      "Requirement already satisfied: nbformat>=4.2.0 in c:\\users\\1900120\\anaconda3\\lib\\site-packages (from ipywidgets>=7.5->evalml) (5.3.0)\n",
      "Requirement already satisfied: widgetsnbextension~=3.5.0 in c:\\users\\1900120\\anaconda3\\lib\\site-packages (from ipywidgets>=7.5->evalml) (3.5.2)\n",
      "Requirement already satisfied: jupyter-client<8.0 in c:\\users\\1900120\\anaconda3\\lib\\site-packages (from ipykernel>=4.5.1->ipywidgets>=7.5->evalml) (6.1.12)\n",
      "Requirement already satisfied: nest-asyncio in c:\\users\\1900120\\anaconda3\\lib\\site-packages (from ipykernel>=4.5.1->ipywidgets>=7.5->evalml) (1.5.5)\n",
      "Requirement already satisfied: debugpy<2.0,>=1.0.0 in c:\\users\\1900120\\anaconda3\\lib\\site-packages (from ipykernel>=4.5.1->ipywidgets>=7.5->evalml) (1.5.1)\n",
      "Requirement already satisfied: matplotlib-inline<0.2.0,>=0.1.0 in c:\\users\\1900120\\anaconda3\\lib\\site-packages (from ipykernel>=4.5.1->ipywidgets>=7.5->evalml) (0.1.2)\n",
      "Requirement already satisfied: pickleshare in c:\\users\\1900120\\anaconda3\\lib\\site-packages (from ipython>=4.0.0->ipywidgets>=7.5->evalml) (0.7.5)\n",
      "Requirement already satisfied: pygments>=2.4.0 in c:\\users\\1900120\\anaconda3\\lib\\site-packages (from ipython>=4.0.0->ipywidgets>=7.5->evalml) (2.11.2)\n",
      "Requirement already satisfied: stack-data in c:\\users\\1900120\\anaconda3\\lib\\site-packages (from ipython>=4.0.0->ipywidgets>=7.5->evalml) (0.2.0)\n",
      "Requirement already satisfied: decorator in c:\\users\\1900120\\anaconda3\\lib\\site-packages (from ipython>=4.0.0->ipywidgets>=7.5->evalml) (4.4.2)\n",
      "Requirement already satisfied: jedi>=0.16 in c:\\users\\1900120\\anaconda3\\lib\\site-packages (from ipython>=4.0.0->ipywidgets>=7.5->evalml) (0.18.1)\n",
      "Requirement already satisfied: prompt-toolkit!=3.0.0,!=3.0.1,<3.1.0,>=2.0.0 in c:\\users\\1900120\\anaconda3\\lib\\site-packages (from ipython>=4.0.0->ipywidgets>=7.5->evalml) (3.0.20)\n",
      "Requirement already satisfied: backcall in c:\\users\\1900120\\anaconda3\\lib\\site-packages (from ipython>=4.0.0->ipywidgets>=7.5->evalml) (0.2.0)\n",
      "Requirement already satisfied: parso<0.9.0,>=0.8.0 in c:\\users\\1900120\\anaconda3\\lib\\site-packages (from jedi>=0.16->ipython>=4.0.0->ipywidgets>=7.5->evalml) (0.8.3)\n",
      "Requirement already satisfied: jupyter-core>=4.6.0 in c:\\users\\1900120\\anaconda3\\lib\\site-packages (from jupyter-client<8.0->ipykernel>=4.5.1->ipywidgets>=7.5->evalml) (4.9.2)\n",
      "Requirement already satisfied: pywin32>=1.0 in c:\\users\\1900120\\anaconda3\\lib\\site-packages (from jupyter-core>=4.6.0->jupyter-client<8.0->ipykernel>=4.5.1->ipywidgets>=7.5->evalml) (227)\n",
      "Requirement already satisfied: wheel in c:\\users\\1900120\\anaconda3\\lib\\site-packages (from lightgbm>=2.3.1->evalml) (0.37.1)\n",
      "Requirement already satisfied: scikit-image>=0.12 in c:\\users\\1900120\\anaconda3\\lib\\site-packages (from lime>=0.2.0.1->evalml) (0.19.2)\n",
      "Requirement already satisfied: pillow>=6.2.0 in c:\\users\\1900120\\anaconda3\\lib\\site-packages (from matplotlib>=3.3.3->evalml) (9.0.1)\n",
      "Requirement already satisfied: pyparsing>=2.2.1 in c:\\users\\1900120\\anaconda3\\lib\\site-packages (from matplotlib>=3.3.3->evalml) (3.0.4)\n",
      "Requirement already satisfied: fonttools>=4.22.0 in c:\\users\\1900120\\anaconda3\\lib\\site-packages (from matplotlib>=3.3.3->evalml) (4.25.0)\n",
      "Requirement already satisfied: kiwisolver>=1.0.1 in c:\\users\\1900120\\anaconda3\\lib\\site-packages (from matplotlib>=3.3.3->evalml) (1.3.2)\n",
      "Requirement already satisfied: cycler>=0.10 in c:\\users\\1900120\\anaconda3\\lib\\site-packages (from matplotlib>=3.3.3->evalml) (0.11.0)\n",
      "Requirement already satisfied: fastjsonschema in c:\\users\\1900120\\anaconda3\\lib\\site-packages (from nbformat>=4.2.0->ipywidgets>=7.5->evalml) (2.15.1)\n",
      "Requirement already satisfied: jsonschema>=2.6 in c:\\users\\1900120\\anaconda3\\lib\\site-packages (from nbformat>=4.2.0->ipywidgets>=7.5->evalml) (4.4.0)\n",
      "Requirement already satisfied: attrs>=17.4.0 in c:\\users\\1900120\\anaconda3\\lib\\site-packages (from jsonschema>=2.6->nbformat>=4.2.0->ipywidgets>=7.5->evalml) (21.4.0)\n",
      "Requirement already satisfied: pyrsistent!=0.17.0,!=0.17.1,!=0.17.2,>=0.14.0 in c:\\users\\1900120\\anaconda3\\lib\\site-packages (from jsonschema>=2.6->nbformat>=4.2.0->ipywidgets>=7.5->evalml) (0.18.0)\n",
      "Requirement already satisfied: nltk>=3.4.5 in c:\\users\\1900120\\anaconda3\\lib\\site-packages (from nlp-primitives!=2.6.0,>=2.1.0->evalml) (3.7)\n",
      "Requirement already satisfied: regex>=2021.8.3 in c:\\users\\1900120\\anaconda3\\lib\\site-packages (from nltk>=3.4.5->nlp-primitives!=2.6.0,>=2.1.0->evalml) (2022.3.15)\n",
      "Requirement already satisfied: pytz>=2020.1 in c:\\users\\1900120\\anaconda3\\lib\\site-packages (from pandas>=1.4.0->evalml) (2021.3)\n",
      "Requirement already satisfied: locket in c:\\users\\1900120\\anaconda3\\lib\\site-packages (from partd>=0.3.10->dask>=2021.10.0->evalml) (0.2.1)\n",
      "Requirement already satisfied: tenacity>=6.2.0 in c:\\users\\1900120\\anaconda3\\lib\\site-packages (from plotly>=5.0.0->evalml) (8.0.1)\n",
      "Requirement already satisfied: Cython!=0.29.18,>=0.29 in c:\\users\\1900120\\anaconda3\\lib\\site-packages (from pmdarima<2.0.0,>=1.8.1->evalml) (0.29.28)\n",
      "Requirement already satisfied: urllib3 in c:\\users\\1900120\\anaconda3\\lib\\site-packages (from pmdarima<2.0.0,>=1.8.1->evalml) (1.26.9)\n",
      "Requirement already satisfied: wcwidth in c:\\users\\1900120\\anaconda3\\lib\\site-packages (from prompt-toolkit!=3.0.0,!=3.0.1,<3.1.0,>=2.0.0->ipython>=4.0.0->ipywidgets>=7.5->evalml) (0.2.5)\n",
      "Requirement already satisfied: types-setuptools>=57.0.0 in c:\\users\\1900120\\anaconda3\\lib\\site-packages (from requirements-parser>=0.2.0->evalml) (65.4.0.0)\n",
      "Requirement already satisfied: imageio>=2.4.1 in c:\\users\\1900120\\anaconda3\\lib\\site-packages (from scikit-image>=0.12->lime>=0.2.0.1->evalml) (2.9.0)\n",
      "Requirement already satisfied: PyWavelets>=1.1.1 in c:\\users\\1900120\\anaconda3\\lib\\site-packages (from scikit-image>=0.12->lime>=0.2.0.1->evalml) (1.3.0)\n",
      "Requirement already satisfied: tifffile>=2019.7.26 in c:\\users\\1900120\\anaconda3\\lib\\site-packages (from scikit-image>=0.12->lime>=0.2.0.1->evalml) (2021.7.2)\n",
      "Requirement already satisfied: pyaml>=16.9 in c:\\users\\1900120\\anaconda3\\lib\\site-packages (from scikit-optimize>=0.9.0->evalml) (21.10.1)\n",
      "Requirement already satisfied: numba in c:\\users\\1900120\\anaconda3\\lib\\site-packages (from shap>=0.40.0->evalml) (0.55.1)\n",
      "Requirement already satisfied: slicer==0.0.7 in c:\\users\\1900120\\anaconda3\\lib\\site-packages (from shap>=0.40.0->evalml) (0.0.7)\n",
      "Requirement already satisfied: deprecated>=1.2.13 in c:\\users\\1900120\\anaconda3\\lib\\site-packages (from sktime<0.13.1,>=0.12.0->evalml) (1.2.13)\n",
      "Requirement already satisfied: wrapt<2,>=1.10 in c:\\users\\1900120\\anaconda3\\lib\\site-packages (from deprecated>=1.2.13->sktime<0.13.1,>=0.12.0->evalml) (1.12.1)\n",
      "Requirement already satisfied: llvmlite<0.39,>=0.38.0rc1 in c:\\users\\1900120\\anaconda3\\lib\\site-packages (from numba->shap>=0.40.0->evalml) (0.38.0)\n",
      "Requirement already satisfied: notebook>=4.4.1 in c:\\users\\1900120\\anaconda3\\lib\\site-packages (from widgetsnbextension~=3.5.0->ipywidgets>=7.5->evalml) (6.4.8)\n",
      "Requirement already satisfied: nbconvert in c:\\users\\1900120\\anaconda3\\lib\\site-packages (from notebook>=4.4.1->widgetsnbextension~=3.5.0->ipywidgets>=7.5->evalml) (6.4.4)\n",
      "Requirement already satisfied: Send2Trash>=1.8.0 in c:\\users\\1900120\\anaconda3\\lib\\site-packages (from notebook>=4.4.1->widgetsnbextension~=3.5.0->ipywidgets>=7.5->evalml) (1.8.0)\n",
      "Requirement already satisfied: terminado>=0.8.3 in c:\\users\\1900120\\anaconda3\\lib\\site-packages (from notebook>=4.4.1->widgetsnbextension~=3.5.0->ipywidgets>=7.5->evalml) (0.13.1)\n",
      "Requirement already satisfied: argon2-cffi in c:\\users\\1900120\\anaconda3\\lib\\site-packages (from notebook>=4.4.1->widgetsnbextension~=3.5.0->ipywidgets>=7.5->evalml) (21.3.0)\n",
      "Requirement already satisfied: prometheus-client in c:\\users\\1900120\\anaconda3\\lib\\site-packages (from notebook>=4.4.1->widgetsnbextension~=3.5.0->ipywidgets>=7.5->evalml) (0.13.1)\n",
      "Requirement already satisfied: pywinpty>=1.1.0 in c:\\users\\1900120\\anaconda3\\lib\\site-packages (from terminado>=0.8.3->notebook>=4.4.1->widgetsnbextension~=3.5.0->ipywidgets>=7.5->evalml) (2.0.2)\n",
      "Requirement already satisfied: heapdict in c:\\users\\1900120\\anaconda3\\lib\\site-packages (from zict>=0.1.3->distributed>=2022.2.0->featuretools>=1.7.0->evalml) (1.0.1)\n",
      "Requirement already satisfied: argon2-cffi-bindings in c:\\users\\1900120\\anaconda3\\lib\\site-packages (from argon2-cffi->notebook>=4.4.1->widgetsnbextension~=3.5.0->ipywidgets>=7.5->evalml) (21.2.0)\n",
      "Requirement already satisfied: cffi>=1.0.1 in c:\\users\\1900120\\anaconda3\\lib\\site-packages (from argon2-cffi-bindings->argon2-cffi->notebook>=4.4.1->widgetsnbextension~=3.5.0->ipywidgets>=7.5->evalml) (1.15.0)\n",
      "Requirement already satisfied: pycparser in c:\\users\\1900120\\anaconda3\\lib\\site-packages (from cffi>=1.0.1->argon2-cffi-bindings->argon2-cffi->notebook>=4.4.1->widgetsnbextension~=3.5.0->ipywidgets>=7.5->evalml) (2.21)\n",
      "Requirement already satisfied: MarkupSafe>=0.23 in c:\\users\\1900120\\anaconda3\\lib\\site-packages (from jinja2->distributed>=2022.2.0->featuretools>=1.7.0->evalml) (2.0.1)\n",
      "Requirement already satisfied: pandocfilters>=1.4.1 in c:\\users\\1900120\\anaconda3\\lib\\site-packages (from nbconvert->notebook>=4.4.1->widgetsnbextension~=3.5.0->ipywidgets>=7.5->evalml) (1.5.0)\n",
      "Requirement already satisfied: defusedxml in c:\\users\\1900120\\anaconda3\\lib\\site-packages (from nbconvert->notebook>=4.4.1->widgetsnbextension~=3.5.0->ipywidgets>=7.5->evalml) (0.7.1)\n",
      "Requirement already satisfied: testpath in c:\\users\\1900120\\anaconda3\\lib\\site-packages (from nbconvert->notebook>=4.4.1->widgetsnbextension~=3.5.0->ipywidgets>=7.5->evalml) (0.5.0)\n",
      "Requirement already satisfied: beautifulsoup4 in c:\\users\\1900120\\anaconda3\\lib\\site-packages (from nbconvert->notebook>=4.4.1->widgetsnbextension~=3.5.0->ipywidgets>=7.5->evalml) (4.11.1)\n",
      "Requirement already satisfied: entrypoints>=0.2.2 in c:\\users\\1900120\\anaconda3\\lib\\site-packages (from nbconvert->notebook>=4.4.1->widgetsnbextension~=3.5.0->ipywidgets>=7.5->evalml) (0.4)\n",
      "Requirement already satisfied: jupyterlab-pygments in c:\\users\\1900120\\anaconda3\\lib\\site-packages (from nbconvert->notebook>=4.4.1->widgetsnbextension~=3.5.0->ipywidgets>=7.5->evalml) (0.1.2)\n",
      "Requirement already satisfied: mistune<2,>=0.8.1 in c:\\users\\1900120\\anaconda3\\lib\\site-packages (from nbconvert->notebook>=4.4.1->widgetsnbextension~=3.5.0->ipywidgets>=7.5->evalml) (0.8.4)\n",
      "Requirement already satisfied: bleach in c:\\users\\1900120\\anaconda3\\lib\\site-packages (from nbconvert->notebook>=4.4.1->widgetsnbextension~=3.5.0->ipywidgets>=7.5->evalml) (4.1.0)\n",
      "Requirement already satisfied: nbclient<0.6.0,>=0.5.0 in c:\\users\\1900120\\anaconda3\\lib\\site-packages (from nbconvert->notebook>=4.4.1->widgetsnbextension~=3.5.0->ipywidgets>=7.5->evalml) (0.5.13)\n",
      "Requirement already satisfied: soupsieve>1.2 in c:\\users\\1900120\\anaconda3\\lib\\site-packages (from beautifulsoup4->nbconvert->notebook>=4.4.1->widgetsnbextension~=3.5.0->ipywidgets>=7.5->evalml) (2.3.1)\n",
      "Requirement already satisfied: webencodings in c:\\users\\1900120\\anaconda3\\lib\\site-packages (from bleach->nbconvert->notebook>=4.4.1->widgetsnbextension~=3.5.0->ipywidgets>=7.5->evalml) (0.5.1)\n",
      "Requirement already satisfied: executing in c:\\users\\1900120\\anaconda3\\lib\\site-packages (from stack-data->ipython>=4.0.0->ipywidgets>=7.5->evalml) (0.8.3)\n",
      "Requirement already satisfied: asttokens in c:\\users\\1900120\\anaconda3\\lib\\site-packages (from stack-data->ipython>=4.0.0->ipywidgets>=7.5->evalml) (2.0.5)\n",
      "Requirement already satisfied: pure-eval in c:\\users\\1900120\\anaconda3\\lib\\site-packages (from stack-data->ipython>=4.0.0->ipywidgets>=7.5->evalml) (0.2.2)\n"
     ]
    },
    {
     "name": "stderr",
     "output_type": "stream",
     "text": [
      "2022-10-14 22:19:40,502 - INFO     - Random Forest Regressor w/ Replace Nullable Types Transformer + Imputer + RF Regressor Select From Model:\n",
      "2022-10-14 22:19:40,503 - INFO     - \tStarting cross validation\n",
      "2022-10-14 22:19:40,505 - INFO     - \tFinished cross validation - mean R2: 0.726\n",
      "2022-10-14 22:19:41,223 - INFO     - \n",
      "*****************************\n",
      "2022-10-14 22:19:41,224 - INFO     - * Evaluating Batch Number 3 *\n",
      "2022-10-14 22:19:41,228 - INFO     - *****************************\n",
      "2022-10-14 22:19:41,228 - INFO     - \n",
      "2022-10-14 22:19:42,186 - INFO     - Decision Tree Regressor w/ Replace Nullable Types Transformer + Imputer + Select Columns Transformer:\n",
      "2022-10-14 22:19:42,187 - INFO     - \tStarting cross validation\n",
      "2022-10-14 22:19:42,188 - INFO     - \tFinished cross validation - mean R2: 0.710\n",
      "2022-10-14 22:19:43,989 - INFO     - Extra Trees Regressor w/ Replace Nullable Types Transformer + Imputer + Select Columns Transformer:\n",
      "2022-10-14 22:19:43,990 - INFO     - \tStarting cross validation\n",
      "2022-10-14 22:19:43,994 - INFO     - \tFinished cross validation - mean R2: 0.293\n",
      "2022-10-14 22:19:53,999 - INFO     - XGBoost Regressor w/ Replace Nullable Types Transformer + Imputer + Select Columns Transformer:\n",
      "2022-10-14 22:19:54,001 - INFO     - \tStarting cross validation\n",
      "2022-10-14 22:19:54,001 - INFO     - \tFinished cross validation - mean R2: 0.711\n",
      "2022-10-14 22:19:55,414 - INFO     - CatBoost Regressor w/ Replace Nullable Types Transformer + Imputer + Select Columns Transformer:\n",
      "2022-10-14 22:19:55,416 - INFO     - \tStarting cross validation\n",
      "2022-10-14 22:19:55,417 - INFO     - \tFinished cross validation - mean R2: 0.291\n",
      "2022-10-14 22:19:56,682 - INFO     - LightGBM Regressor w/ Replace Nullable Types Transformer + Imputer + Select Columns Transformer:\n",
      "2022-10-14 22:19:56,684 - INFO     - \tStarting cross validation\n",
      "2022-10-14 22:19:56,685 - INFO     - \tFinished cross validation - mean R2: 0.683\n",
      "2022-10-14 22:19:56,823 - INFO     - \n",
      "Search finished after 00:34            \n",
      "2022-10-14 22:20:08,581 - INFO     - Best pipeline: Random Forest Regressor w/ Replace Nullable Types Transformer + Imputer\n",
      "2022-10-14 22:20:08,583 - INFO     - Best pipeline R2: 0.740919\n"
     ]
    },
    {
     "data": {
      "text/plain": [
       "{1: {'Elastic Net Regressor w/ Replace Nullable Types Transformer + Imputer + Standard Scaler': '00:01',\n",
       "  'Random Forest Regressor w/ Replace Nullable Types Transformer + Imputer': '00:04',\n",
       "  'Total time of batch': '00:06'},\n",
       " 2: {'Elastic Net Regressor w/ Replace Nullable Types Transformer + Imputer + Standard Scaler + RF Regressor Select From Model': '00:03',\n",
       "  'Random Forest Regressor w/ Replace Nullable Types Transformer + Imputer + RF Regressor Select From Model': '00:07',\n",
       "  'Total time of batch': '00:11'},\n",
       " 3: {'Decision Tree Regressor w/ Replace Nullable Types Transformer + Imputer + Select Columns Transformer': '00:00',\n",
       "  'Extra Trees Regressor w/ Replace Nullable Types Transformer + Imputer + Select Columns Transformer': '00:01',\n",
       "  'XGBoost Regressor w/ Replace Nullable Types Transformer + Imputer + Select Columns Transformer': '00:09',\n",
       "  'CatBoost Regressor w/ Replace Nullable Types Transformer + Imputer + Select Columns Transformer': '00:01',\n",
       "  'LightGBM Regressor w/ Replace Nullable Types Transformer + Imputer + Select Columns Transformer': '00:01',\n",
       "  'Total time of batch': '00:16'}}"
      ]
     },
     "execution_count": 113,
     "metadata": {},
     "output_type": "execute_result"
    }
   ],
   "source": [
    "from evalml.automl import AutoMLSearch\n",
    "automl=AutoMLSearch(X_train=X_train,y_train=y_train,problem_type='regression')\n",
    "automl.search()"
   ]
  },
  {
   "cell_type": "code",
   "execution_count": 114,
   "metadata": {},
   "outputs": [
    {
     "data": {
      "text/html": [
       "<div>\n",
       "<style scoped>\n",
       "    .dataframe tbody tr th:only-of-type {\n",
       "        vertical-align: middle;\n",
       "    }\n",
       "\n",
       "    .dataframe tbody tr th {\n",
       "        vertical-align: top;\n",
       "    }\n",
       "\n",
       "    .dataframe thead th {\n",
       "        text-align: right;\n",
       "    }\n",
       "</style>\n",
       "<table border=\"1\" class=\"dataframe\">\n",
       "  <thead>\n",
       "    <tr style=\"text-align: right;\">\n",
       "      <th></th>\n",
       "      <th>id</th>\n",
       "      <th>pipeline_name</th>\n",
       "      <th>search_order</th>\n",
       "      <th>validation_score</th>\n",
       "      <th>mean_cv_score</th>\n",
       "      <th>standard_deviation_cv_score</th>\n",
       "      <th>percent_better_than_baseline</th>\n",
       "      <th>high_variance_cv</th>\n",
       "      <th>parameters</th>\n",
       "    </tr>\n",
       "  </thead>\n",
       "  <tbody>\n",
       "    <tr>\n",
       "      <th>0</th>\n",
       "      <td>2</td>\n",
       "      <td>Random Forest Regressor w/ Replace Nullable Ty...</td>\n",
       "      <td>2</td>\n",
       "      <td>0.740919</td>\n",
       "      <td>NaN</td>\n",
       "      <td>NaN</td>\n",
       "      <td>3.121001e+06</td>\n",
       "      <td>False</td>\n",
       "      <td>{'Imputer': {'categorical_impute_strategy': 'm...</td>\n",
       "    </tr>\n",
       "    <tr>\n",
       "      <th>1</th>\n",
       "      <td>4</td>\n",
       "      <td>Random Forest Regressor w/ Replace Nullable Ty...</td>\n",
       "      <td>4</td>\n",
       "      <td>0.725842</td>\n",
       "      <td>NaN</td>\n",
       "      <td>NaN</td>\n",
       "      <td>3.057493e+06</td>\n",
       "      <td>False</td>\n",
       "      <td>{'Imputer': {'categorical_impute_strategy': 'm...</td>\n",
       "    </tr>\n",
       "    <tr>\n",
       "      <th>2</th>\n",
       "      <td>7</td>\n",
       "      <td>XGBoost Regressor w/ Replace Nullable Types Tr...</td>\n",
       "      <td>7</td>\n",
       "      <td>0.711141</td>\n",
       "      <td>NaN</td>\n",
       "      <td>NaN</td>\n",
       "      <td>2.995569e+06</td>\n",
       "      <td>False</td>\n",
       "      <td>{'Imputer': {'categorical_impute_strategy': 'm...</td>\n",
       "    </tr>\n",
       "    <tr>\n",
       "      <th>3</th>\n",
       "      <td>5</td>\n",
       "      <td>Decision Tree Regressor w/ Replace Nullable Ty...</td>\n",
       "      <td>5</td>\n",
       "      <td>0.710051</td>\n",
       "      <td>NaN</td>\n",
       "      <td>NaN</td>\n",
       "      <td>2.990976e+06</td>\n",
       "      <td>False</td>\n",
       "      <td>{'Imputer': {'categorical_impute_strategy': 'm...</td>\n",
       "    </tr>\n",
       "    <tr>\n",
       "      <th>4</th>\n",
       "      <td>9</td>\n",
       "      <td>LightGBM Regressor w/ Replace Nullable Types T...</td>\n",
       "      <td>9</td>\n",
       "      <td>0.682736</td>\n",
       "      <td>NaN</td>\n",
       "      <td>NaN</td>\n",
       "      <td>2.875924e+06</td>\n",
       "      <td>False</td>\n",
       "      <td>{'Imputer': {'categorical_impute_strategy': 'm...</td>\n",
       "    </tr>\n",
       "    <tr>\n",
       "      <th>5</th>\n",
       "      <td>6</td>\n",
       "      <td>Extra Trees Regressor w/ Replace Nullable Type...</td>\n",
       "      <td>6</td>\n",
       "      <td>0.293405</td>\n",
       "      <td>NaN</td>\n",
       "      <td>NaN</td>\n",
       "      <td>1.235983e+06</td>\n",
       "      <td>False</td>\n",
       "      <td>{'Imputer': {'categorical_impute_strategy': 'm...</td>\n",
       "    </tr>\n",
       "    <tr>\n",
       "      <th>6</th>\n",
       "      <td>8</td>\n",
       "      <td>CatBoost Regressor w/ Replace Nullable Types T...</td>\n",
       "      <td>8</td>\n",
       "      <td>0.290731</td>\n",
       "      <td>NaN</td>\n",
       "      <td>NaN</td>\n",
       "      <td>1.224720e+06</td>\n",
       "      <td>False</td>\n",
       "      <td>{'Imputer': {'categorical_impute_strategy': 'm...</td>\n",
       "    </tr>\n",
       "    <tr>\n",
       "      <th>7</th>\n",
       "      <td>1</td>\n",
       "      <td>Elastic Net Regressor w/ Replace Nullable Type...</td>\n",
       "      <td>1</td>\n",
       "      <td>0.016785</td>\n",
       "      <td>NaN</td>\n",
       "      <td>NaN</td>\n",
       "      <td>7.080310e+04</td>\n",
       "      <td>False</td>\n",
       "      <td>{'Imputer': {'categorical_impute_strategy': 'm...</td>\n",
       "    </tr>\n",
       "    <tr>\n",
       "      <th>8</th>\n",
       "      <td>3</td>\n",
       "      <td>Elastic Net Regressor w/ Replace Nullable Type...</td>\n",
       "      <td>3</td>\n",
       "      <td>0.001111</td>\n",
       "      <td>NaN</td>\n",
       "      <td>NaN</td>\n",
       "      <td>4.780627e+03</td>\n",
       "      <td>False</td>\n",
       "      <td>{'Imputer': {'categorical_impute_strategy': 'm...</td>\n",
       "    </tr>\n",
       "    <tr>\n",
       "      <th>9</th>\n",
       "      <td>0</td>\n",
       "      <td>Mean Baseline Regression Pipeline</td>\n",
       "      <td>0</td>\n",
       "      <td>-0.000024</td>\n",
       "      <td>NaN</td>\n",
       "      <td>NaN</td>\n",
       "      <td>0.000000e+00</td>\n",
       "      <td>False</td>\n",
       "      <td>{'Baseline Regressor': {'strategy': 'mean'}}</td>\n",
       "    </tr>\n",
       "  </tbody>\n",
       "</table>\n",
       "</div>"
      ],
      "text/plain": [
       "   id                                      pipeline_name  search_order  \\\n",
       "0   2  Random Forest Regressor w/ Replace Nullable Ty...             2   \n",
       "1   4  Random Forest Regressor w/ Replace Nullable Ty...             4   \n",
       "2   7  XGBoost Regressor w/ Replace Nullable Types Tr...             7   \n",
       "3   5  Decision Tree Regressor w/ Replace Nullable Ty...             5   \n",
       "4   9  LightGBM Regressor w/ Replace Nullable Types T...             9   \n",
       "5   6  Extra Trees Regressor w/ Replace Nullable Type...             6   \n",
       "6   8  CatBoost Regressor w/ Replace Nullable Types T...             8   \n",
       "7   1  Elastic Net Regressor w/ Replace Nullable Type...             1   \n",
       "8   3  Elastic Net Regressor w/ Replace Nullable Type...             3   \n",
       "9   0                  Mean Baseline Regression Pipeline             0   \n",
       "\n",
       "   validation_score  mean_cv_score  standard_deviation_cv_score  \\\n",
       "0          0.740919            NaN                          NaN   \n",
       "1          0.725842            NaN                          NaN   \n",
       "2          0.711141            NaN                          NaN   \n",
       "3          0.710051            NaN                          NaN   \n",
       "4          0.682736            NaN                          NaN   \n",
       "5          0.293405            NaN                          NaN   \n",
       "6          0.290731            NaN                          NaN   \n",
       "7          0.016785            NaN                          NaN   \n",
       "8          0.001111            NaN                          NaN   \n",
       "9         -0.000024            NaN                          NaN   \n",
       "\n",
       "   percent_better_than_baseline  high_variance_cv  \\\n",
       "0                  3.121001e+06             False   \n",
       "1                  3.057493e+06             False   \n",
       "2                  2.995569e+06             False   \n",
       "3                  2.990976e+06             False   \n",
       "4                  2.875924e+06             False   \n",
       "5                  1.235983e+06             False   \n",
       "6                  1.224720e+06             False   \n",
       "7                  7.080310e+04             False   \n",
       "8                  4.780627e+03             False   \n",
       "9                  0.000000e+00             False   \n",
       "\n",
       "                                          parameters  \n",
       "0  {'Imputer': {'categorical_impute_strategy': 'm...  \n",
       "1  {'Imputer': {'categorical_impute_strategy': 'm...  \n",
       "2  {'Imputer': {'categorical_impute_strategy': 'm...  \n",
       "3  {'Imputer': {'categorical_impute_strategy': 'm...  \n",
       "4  {'Imputer': {'categorical_impute_strategy': 'm...  \n",
       "5  {'Imputer': {'categorical_impute_strategy': 'm...  \n",
       "6  {'Imputer': {'categorical_impute_strategy': 'm...  \n",
       "7  {'Imputer': {'categorical_impute_strategy': 'm...  \n",
       "8  {'Imputer': {'categorical_impute_strategy': 'm...  \n",
       "9       {'Baseline Regressor': {'strategy': 'mean'}}  "
      ]
     },
     "execution_count": 114,
     "metadata": {},
     "output_type": "execute_result"
    }
   ],
   "source": [
    "automl.rankings"
   ]
  },
  {
   "cell_type": "code",
   "execution_count": 115,
   "metadata": {},
   "outputs": [
    {
     "data": {
      "text/plain": [
       "pipeline = RegressionPipeline(component_graph={'Replace Nullable Types Transformer': ['Replace Nullable Types Transformer', 'X', 'y'], 'Imputer': ['Imputer', 'Replace Nullable Types Transformer.x', 'Replace Nullable Types Transformer.y'], 'Random Forest Regressor': ['Random Forest Regressor', 'Imputer.x', 'Replace Nullable Types Transformer.y']}, parameters={'Imputer':{'categorical_impute_strategy': 'most_frequent', 'numeric_impute_strategy': 'mean', 'boolean_impute_strategy': 'most_frequent', 'categorical_fill_value': None, 'numeric_fill_value': None, 'boolean_fill_value': None}, 'Random Forest Regressor':{'n_estimators': 100, 'max_depth': 6, 'n_jobs': -1}}, random_seed=0)"
      ]
     },
     "execution_count": 115,
     "metadata": {},
     "output_type": "execute_result"
    }
   ],
   "source": [
    "automl.best_pipeline"
   ]
  },
  {
   "cell_type": "code",
   "execution_count": 116,
   "metadata": {},
   "outputs": [],
   "source": [
    "best_pipeline=automl.best_pipeline"
   ]
  },
  {
   "cell_type": "code",
   "execution_count": 117,
   "metadata": {},
   "outputs": [
    {
     "name": "stdout",
     "output_type": "stream",
     "text": [
      "\n",
      "***************************************************************************\n"
     ]
    },
    {
     "name": "stderr",
     "output_type": "stream",
     "text": [
      "2022-10-14 22:20:09,384 - INFO     - \n",
      "***************************************************************************\n"
     ]
    },
    {
     "name": "stdout",
     "output_type": "stream",
     "text": [
      "* Random Forest Regressor w/ Replace Nullable Types Transformer + Imputer *\n"
     ]
    },
    {
     "name": "stderr",
     "output_type": "stream",
     "text": [
      "2022-10-14 22:20:09,387 - INFO     - * Random Forest Regressor w/ Replace Nullable Types Transformer + Imputer *\n"
     ]
    },
    {
     "name": "stdout",
     "output_type": "stream",
     "text": [
      "***************************************************************************\n"
     ]
    },
    {
     "name": "stderr",
     "output_type": "stream",
     "text": [
      "2022-10-14 22:20:09,389 - INFO     - ***************************************************************************\n"
     ]
    },
    {
     "name": "stdout",
     "output_type": "stream",
     "text": [
      "\n"
     ]
    },
    {
     "name": "stderr",
     "output_type": "stream",
     "text": [
      "2022-10-14 22:20:09,392 - INFO     - \n"
     ]
    },
    {
     "name": "stdout",
     "output_type": "stream",
     "text": [
      "Problem Type: regression\n"
     ]
    },
    {
     "name": "stderr",
     "output_type": "stream",
     "text": [
      "2022-10-14 22:20:09,396 - INFO     - Problem Type: regression\n"
     ]
    },
    {
     "name": "stdout",
     "output_type": "stream",
     "text": [
      "Model Family: Random Forest\n"
     ]
    },
    {
     "name": "stderr",
     "output_type": "stream",
     "text": [
      "2022-10-14 22:20:09,399 - INFO     - Model Family: Random Forest\n"
     ]
    },
    {
     "name": "stdout",
     "output_type": "stream",
     "text": [
      "\n"
     ]
    },
    {
     "name": "stderr",
     "output_type": "stream",
     "text": [
      "2022-10-14 22:20:09,402 - INFO     - \n"
     ]
    },
    {
     "name": "stdout",
     "output_type": "stream",
     "text": [
      "Pipeline Steps\n"
     ]
    },
    {
     "name": "stderr",
     "output_type": "stream",
     "text": [
      "2022-10-14 22:20:09,404 - INFO     - Pipeline Steps\n"
     ]
    },
    {
     "name": "stdout",
     "output_type": "stream",
     "text": [
      "==============\n"
     ]
    },
    {
     "name": "stderr",
     "output_type": "stream",
     "text": [
      "2022-10-14 22:20:09,408 - INFO     - ==============\n"
     ]
    },
    {
     "name": "stdout",
     "output_type": "stream",
     "text": [
      "1. Replace Nullable Types Transformer\n"
     ]
    },
    {
     "name": "stderr",
     "output_type": "stream",
     "text": [
      "2022-10-14 22:20:09,411 - INFO     - 1. Replace Nullable Types Transformer\n"
     ]
    },
    {
     "name": "stdout",
     "output_type": "stream",
     "text": [
      "2. Imputer\n"
     ]
    },
    {
     "name": "stderr",
     "output_type": "stream",
     "text": [
      "2022-10-14 22:20:09,414 - INFO     - 2. Imputer\n"
     ]
    },
    {
     "name": "stdout",
     "output_type": "stream",
     "text": [
      "\t * categorical_impute_strategy : most_frequent\n"
     ]
    },
    {
     "name": "stderr",
     "output_type": "stream",
     "text": [
      "2022-10-14 22:20:09,415 - INFO     - \t * categorical_impute_strategy : most_frequent\n"
     ]
    },
    {
     "name": "stdout",
     "output_type": "stream",
     "text": [
      "\t * numeric_impute_strategy : mean\n"
     ]
    },
    {
     "name": "stderr",
     "output_type": "stream",
     "text": [
      "2022-10-14 22:20:09,418 - INFO     - \t * numeric_impute_strategy : mean\n"
     ]
    },
    {
     "name": "stdout",
     "output_type": "stream",
     "text": [
      "\t * boolean_impute_strategy : most_frequent\n"
     ]
    },
    {
     "name": "stderr",
     "output_type": "stream",
     "text": [
      "2022-10-14 22:20:09,420 - INFO     - \t * boolean_impute_strategy : most_frequent\n"
     ]
    },
    {
     "name": "stdout",
     "output_type": "stream",
     "text": [
      "\t * categorical_fill_value : None\n"
     ]
    },
    {
     "name": "stderr",
     "output_type": "stream",
     "text": [
      "2022-10-14 22:20:09,422 - INFO     - \t * categorical_fill_value : None\n"
     ]
    },
    {
     "name": "stdout",
     "output_type": "stream",
     "text": [
      "\t * numeric_fill_value : None\n"
     ]
    },
    {
     "name": "stderr",
     "output_type": "stream",
     "text": [
      "2022-10-14 22:20:09,425 - INFO     - \t * numeric_fill_value : None\n"
     ]
    },
    {
     "name": "stdout",
     "output_type": "stream",
     "text": [
      "\t * boolean_fill_value : None\n"
     ]
    },
    {
     "name": "stderr",
     "output_type": "stream",
     "text": [
      "2022-10-14 22:20:09,427 - INFO     - \t * boolean_fill_value : None\n"
     ]
    },
    {
     "name": "stdout",
     "output_type": "stream",
     "text": [
      "3. Random Forest Regressor\n"
     ]
    },
    {
     "name": "stderr",
     "output_type": "stream",
     "text": [
      "2022-10-14 22:20:09,431 - INFO     - 3. Random Forest Regressor\n"
     ]
    },
    {
     "name": "stdout",
     "output_type": "stream",
     "text": [
      "\t * n_estimators : 100\n"
     ]
    },
    {
     "name": "stderr",
     "output_type": "stream",
     "text": [
      "2022-10-14 22:20:09,433 - INFO     - \t * n_estimators : 100\n"
     ]
    },
    {
     "name": "stdout",
     "output_type": "stream",
     "text": [
      "\t * max_depth : 6\n"
     ]
    },
    {
     "name": "stderr",
     "output_type": "stream",
     "text": [
      "2022-10-14 22:20:09,433 - INFO     - \t * max_depth : 6\n"
     ]
    },
    {
     "name": "stdout",
     "output_type": "stream",
     "text": [
      "\t * n_jobs : -1\n"
     ]
    },
    {
     "name": "stderr",
     "output_type": "stream",
     "text": [
      "2022-10-14 22:20:09,446 - INFO     - \t * n_jobs : -1\n"
     ]
    },
    {
     "name": "stdout",
     "output_type": "stream",
     "text": [
      "\n"
     ]
    },
    {
     "name": "stderr",
     "output_type": "stream",
     "text": [
      "2022-10-14 22:20:09,451 - INFO     - \n"
     ]
    },
    {
     "name": "stdout",
     "output_type": "stream",
     "text": [
      "Training\n"
     ]
    },
    {
     "name": "stderr",
     "output_type": "stream",
     "text": [
      "2022-10-14 22:20:09,453 - INFO     - Training\n"
     ]
    },
    {
     "name": "stdout",
     "output_type": "stream",
     "text": [
      "========\n"
     ]
    },
    {
     "name": "stderr",
     "output_type": "stream",
     "text": [
      "2022-10-14 22:20:09,455 - INFO     - ========\n"
     ]
    },
    {
     "name": "stdout",
     "output_type": "stream",
     "text": [
      "Training for regression problems.\n"
     ]
    },
    {
     "name": "stderr",
     "output_type": "stream",
     "text": [
      "2022-10-14 22:20:09,457 - INFO     - Training for regression problems.\n"
     ]
    },
    {
     "name": "stdout",
     "output_type": "stream",
     "text": [
      "Total training time (including CV): 4.4 seconds\n"
     ]
    },
    {
     "name": "stderr",
     "output_type": "stream",
     "text": [
      "2022-10-14 22:20:09,465 - INFO     - Total training time (including CV): 4.4 seconds\n"
     ]
    },
    {
     "name": "stdout",
     "output_type": "stream",
     "text": [
      "\n"
     ]
    },
    {
     "name": "stderr",
     "output_type": "stream",
     "text": [
      "2022-10-14 22:20:09,466 - INFO     - \n"
     ]
    },
    {
     "name": "stdout",
     "output_type": "stream",
     "text": [
      "Cross Validation\n"
     ]
    },
    {
     "name": "stderr",
     "output_type": "stream",
     "text": [
      "2022-10-14 22:20:09,470 - INFO     - Cross Validation\n"
     ]
    },
    {
     "name": "stdout",
     "output_type": "stream",
     "text": [
      "----------------\n"
     ]
    },
    {
     "name": "stderr",
     "output_type": "stream",
     "text": [
      "2022-10-14 22:20:09,478 - INFO     - ----------------\n"
     ]
    },
    {
     "name": "stdout",
     "output_type": "stream",
     "text": [
      "               R2 ExpVariance MaxError MedianAE    MSE   MAE Root Mean Squared Error # Training # Validation\n",
      "0           0.741       0.741  483.152    1.372 25.106 2.301                   5.011     39,993      119,982\n",
      "mean        0.741       0.741  483.152    1.372 25.106 2.301                   5.011          -            -\n",
      "std             -           -        -        -      -     -                       -          -            -\n",
      "coef of var     -           -        -        -      -     -                       -          -            -\n"
     ]
    },
    {
     "name": "stderr",
     "output_type": "stream",
     "text": [
      "2022-10-14 22:20:09,498 - INFO     -                R2 ExpVariance MaxError MedianAE    MSE   MAE Root Mean Squared Error # Training # Validation\n",
      "0           0.741       0.741  483.152    1.372 25.106 2.301                   5.011     39,993      119,982\n",
      "mean        0.741       0.741  483.152    1.372 25.106 2.301                   5.011          -            -\n",
      "std             -           -        -        -      -     -                       -          -            -\n",
      "coef of var     -           -        -        -      -     -                       -          -            -\n"
     ]
    }
   ],
   "source": [
    "automl.describe_pipeline(automl.rankings.iloc[0]['id'])"
   ]
  },
  {
   "cell_type": "code",
   "execution_count": 118,
   "metadata": {},
   "outputs": [
    {
     "data": {
      "text/plain": [
       "OrderedDict([('R2', 0.747207495139617), ('MAE', 2.309859218041412)])"
      ]
     },
     "execution_count": 118,
     "metadata": {},
     "output_type": "execute_result"
    }
   ],
   "source": [
    "best_pipeline.score(X_test,y_test,objectives=['r2','mae'])"
   ]
  },
  {
   "cell_type": "code",
   "execution_count": 121,
   "metadata": {},
   "outputs": [],
   "source": [
    "#Defining all these models\n",
    "models = [\n",
    "           ['LinearRegression: ',LinearRegression()],\n",
    "           ['Lasso: ', Lasso(alpha=0.0002953248602060644, max_iter=3000, random_state=10)],\n",
    "           ['Ridge: ', Ridge()],\n",
    "           ['PolynomialRegression: ', Ridge(alpha=0.00037654260652948403, max_iter=3000)],\n",
    "           ['DecisionTreeRegressor: ',  DecisionTreeRegressor(max_depth=11, min_samples_leaf=25, min_samples_split=91,\n",
    "                      random_state=10)],\n",
    "           ['RandomForestRegressor: ',RandomForestRegressor(max_depth=14, max_features='auto', min_samples_leaf=12,\n",
    "                      min_samples_split=4, n_estimators=34, random_state=10)],\n",
    "           ['GradientBoostingRegressor: ', GradientBoostingRegressor(max_depth=5, min_samples_leaf=36,\n",
    "                          min_samples_split=124, n_estimators=120,random_state=10)] ,\n",
    "           ['XGBRegressor: ', XGBRegressor(base_score=0.5, booster='gbtree', callbacks=None,\n",
    "             colsample_bylevel=1, colsample_bynode=1, colsample_bytree=1,\n",
    "             early_stopping_rounds=None, enable_categorical=False,\n",
    "             eval_metric=None, gamma=0, gpu_id=-1, grow_policy='depthwise',\n",
    "             importance_type=None, interaction_constraints='',\n",
    "             learning_rate=0.300000012, max_bin=256, max_cat_to_onehot=4,\n",
    "             max_delta_step=0, max_depth=6, max_leaves=0, min_child_weight=1,\n",
    "             min_samples_leaf=143, min_samples_split=62,\n",
    "             monotone_constraints='()', n_estimators=37, n_jobs=0,\n",
    "             num_parallel_tree=1, predictor='auto', random_state=10)],\n",
    "           ['LGBMRegressor: ', LGBMRegressor(max_depth=39, min_split_gain=5, n_estimators=156, n_jobs=7,\n",
    "              num_leaves=8, random_state=10)]          \n",
    "        ]"
   ]
  },
  {
   "cell_type": "code",
   "execution_count": 122,
   "metadata": {},
   "outputs": [
    {
     "name": "stdout",
     "output_type": "stream",
     "text": [
      "[22:27:44] WARNING: C:/Users/administrator/workspace/xgboost-win64_release_1.6.0/src/learner.cc:627: \n",
      "Parameters: { \"min_samples_leaf\", \"min_samples_split\" } might not be used.\n",
      "\n",
      "  This could be a false alarm, with some parameters getting used by language bindings but\n",
      "  then being mistakenly passed down to XGBoost core, or some parameter actually being used\n",
      "  but getting flagged wrongly here. Please open an issue if you find any such cases.\n",
      "\n",
      "\n"
     ]
    }
   ],
   "source": [
    "#store all the metrics values in data frame\n",
    "model_data = []\n",
    "for name,curr_model in models :\n",
    "    curr_model_data = {}\n",
    "    curr_model.random_state = 10\n",
    "    curr_model_data[\"Name\"] = name\n",
    "    if(name!='PolynomialRegression: '):\n",
    "      curr_model.fit(X_train,y_train)\n",
    "      curr_model_data[\"MAE_train\"] =mean_absolute_error(y_train, curr_model.predict(X_train))\n",
    "      curr_model_data[\"MAE_test\"] =mean_absolute_error(y_test, curr_model.predict(X_test))\n",
    "      curr_model_data[\"R2_Score_train\"] = r2_score(y_train,curr_model.predict(X_train))\n",
    "      curr_model_data[\"R2_Score_test\"] = r2_score(y_test,curr_model.predict(X_test))\n",
    "      curr_model_data[\"RMSE_Score_train\"] = np.sqrt(mean_squared_error(y_train,curr_model.predict(X_train)))\n",
    "      curr_model_data[\"RMSE_Score_test\"] = np.sqrt(mean_squared_error(y_test,curr_model.predict(X_test)))\n",
    "      model_data.append(curr_model_data)\n",
    "    else:\n",
    "      curr_model.fit(X_poly,y_train)\n",
    "      curr_model_data[\"MAE_train\"] =mean_absolute_error(y_train, curr_model.predict(X_poly))\n",
    "      curr_model_data[\"MAE_test\"] =mean_absolute_error(y_test, curr_model.predict(X_poly_test))\n",
    "      curr_model_data[\"R2_Score_train\"] = r2_score(y_train,curr_model.predict(X_poly))\n",
    "      curr_model_data[\"R2_Score_test\"] = r2_score(y_test,curr_model.predict(X_poly_test))\n",
    "      curr_model_data[\"RMSE_Score_train\"] = np.sqrt(mean_squared_error(y_train,curr_model.predict(X_poly)))\n",
    "      curr_model_data[\"RMSE_Score_test\"] = np.sqrt(mean_squared_error(y_test,curr_model.predict(X_poly_test)))\n",
    "      model_data.append(curr_model_data)"
   ]
  },
  {
   "cell_type": "code",
   "execution_count": 123,
   "metadata": {},
   "outputs": [
    {
     "data": {
      "text/html": [
       "<div>\n",
       "<style scoped>\n",
       "    .dataframe tbody tr th:only-of-type {\n",
       "        vertical-align: middle;\n",
       "    }\n",
       "\n",
       "    .dataframe tbody tr th {\n",
       "        vertical-align: top;\n",
       "    }\n",
       "\n",
       "    .dataframe thead th {\n",
       "        text-align: right;\n",
       "    }\n",
       "</style>\n",
       "<table border=\"1\" class=\"dataframe\">\n",
       "  <thead>\n",
       "    <tr style=\"text-align: right;\">\n",
       "      <th></th>\n",
       "      <th>Name</th>\n",
       "      <th>MAE_train</th>\n",
       "      <th>MAE_test</th>\n",
       "      <th>R2_Score_train</th>\n",
       "      <th>R2_Score_test</th>\n",
       "      <th>RMSE_Score_train</th>\n",
       "      <th>RMSE_Score_test</th>\n",
       "    </tr>\n",
       "  </thead>\n",
       "  <tbody>\n",
       "    <tr>\n",
       "      <th>0</th>\n",
       "      <td>LinearRegression:</td>\n",
       "      <td>5.950611</td>\n",
       "      <td>6.032493</td>\n",
       "      <td>0.017066</td>\n",
       "      <td>0.014606</td>\n",
       "      <td>9.778459</td>\n",
       "      <td>9.959301</td>\n",
       "    </tr>\n",
       "    <tr>\n",
       "      <th>1</th>\n",
       "      <td>Lasso:</td>\n",
       "      <td>5.950612</td>\n",
       "      <td>6.032488</td>\n",
       "      <td>0.017066</td>\n",
       "      <td>0.014607</td>\n",
       "      <td>9.778459</td>\n",
       "      <td>9.959298</td>\n",
       "    </tr>\n",
       "    <tr>\n",
       "      <th>2</th>\n",
       "      <td>Ridge:</td>\n",
       "      <td>5.950611</td>\n",
       "      <td>6.032493</td>\n",
       "      <td>0.017066</td>\n",
       "      <td>0.014606</td>\n",
       "      <td>9.778459</td>\n",
       "      <td>9.959300</td>\n",
       "    </tr>\n",
       "    <tr>\n",
       "      <th>3</th>\n",
       "      <td>PolynomialRegression:</td>\n",
       "      <td>4.713465</td>\n",
       "      <td>4.781486</td>\n",
       "      <td>0.219935</td>\n",
       "      <td>0.242824</td>\n",
       "      <td>8.711116</td>\n",
       "      <td>8.730163</td>\n",
       "    </tr>\n",
       "    <tr>\n",
       "      <th>4</th>\n",
       "      <td>DecisionTreeRegressor:</td>\n",
       "      <td>2.176207</td>\n",
       "      <td>2.252705</td>\n",
       "      <td>0.766891</td>\n",
       "      <td>0.748673</td>\n",
       "      <td>4.761984</td>\n",
       "      <td>5.029714</td>\n",
       "    </tr>\n",
       "    <tr>\n",
       "      <th>5</th>\n",
       "      <td>RandomForestRegressor:</td>\n",
       "      <td>2.019536</td>\n",
       "      <td>2.216403</td>\n",
       "      <td>0.795708</td>\n",
       "      <td>0.754805</td>\n",
       "      <td>4.457939</td>\n",
       "      <td>4.967984</td>\n",
       "    </tr>\n",
       "    <tr>\n",
       "      <th>6</th>\n",
       "      <td>GradientBoostingRegressor:</td>\n",
       "      <td>2.161151</td>\n",
       "      <td>2.193522</td>\n",
       "      <td>0.769703</td>\n",
       "      <td>0.760487</td>\n",
       "      <td>4.733173</td>\n",
       "      <td>4.910076</td>\n",
       "    </tr>\n",
       "    <tr>\n",
       "      <th>7</th>\n",
       "      <td>XGBRegressor:</td>\n",
       "      <td>2.108159</td>\n",
       "      <td>2.195845</td>\n",
       "      <td>0.804192</td>\n",
       "      <td>0.757278</td>\n",
       "      <td>4.364395</td>\n",
       "      <td>4.942863</td>\n",
       "    </tr>\n",
       "    <tr>\n",
       "      <th>8</th>\n",
       "      <td>LGBMRegressor:</td>\n",
       "      <td>2.239616</td>\n",
       "      <td>2.285219</td>\n",
       "      <td>0.736147</td>\n",
       "      <td>0.720499</td>\n",
       "      <td>5.066282</td>\n",
       "      <td>5.304149</td>\n",
       "    </tr>\n",
       "  </tbody>\n",
       "</table>\n",
       "</div>"
      ],
      "text/plain": [
       "                          Name  MAE_train  MAE_test  R2_Score_train  \\\n",
       "0           LinearRegression:    5.950611  6.032493        0.017066   \n",
       "1                      Lasso:    5.950612  6.032488        0.017066   \n",
       "2                      Ridge:    5.950611  6.032493        0.017066   \n",
       "3       PolynomialRegression:    4.713465  4.781486        0.219935   \n",
       "4      DecisionTreeRegressor:    2.176207  2.252705        0.766891   \n",
       "5      RandomForestRegressor:    2.019536  2.216403        0.795708   \n",
       "6  GradientBoostingRegressor:    2.161151  2.193522        0.769703   \n",
       "7               XGBRegressor:    2.108159  2.195845        0.804192   \n",
       "8              LGBMRegressor:    2.239616  2.285219        0.736147   \n",
       "\n",
       "   R2_Score_test  RMSE_Score_train  RMSE_Score_test  \n",
       "0       0.014606          9.778459         9.959301  \n",
       "1       0.014607          9.778459         9.959298  \n",
       "2       0.014606          9.778459         9.959300  \n",
       "3       0.242824          8.711116         8.730163  \n",
       "4       0.748673          4.761984         5.029714  \n",
       "5       0.754805          4.457939         4.967984  \n",
       "6       0.760487          4.733173         4.910076  \n",
       "7       0.757278          4.364395         4.942863  \n",
       "8       0.720499          5.066282         5.304149  "
      ]
     },
     "execution_count": 123,
     "metadata": {},
     "output_type": "execute_result"
    }
   ],
   "source": [
    "metrics_df = pd.DataFrame(model_data)\n",
    "metrics_df"
   ]
  },
  {
   "cell_type": "code",
   "execution_count": 124,
   "metadata": {},
   "outputs": [
    {
     "data": {
      "text/plain": [
       "<AxesSubplot:title={'center':'R2 Score Results'}, xlabel='Name'>"
      ]
     },
     "execution_count": 124,
     "metadata": {},
     "output_type": "execute_result"
    },
    {
     "data": {
      "image/png": "[encoded data removed]",
      "text/plain": [
       "<Figure size 720x576 with 1 Axes>"
      ]
     },
     "metadata": {
      "needs_background": "light"
     },
     "output_type": "display_data"
    },
    {
     "ename": "",
     "evalue": "",
     "output_type": "error",
     "traceback": [
      "\u001b[1;31mThe Kernel crashed while executing code in the the current cell or a previous cell. Please review the code in the cell(s) to identify a possible cause of the failure. Click <a href='https://aka.ms/vscodeJupyterKernelCrash'>here</a> for more info. View Jupyter <a href='command:jupyter.viewOutput'>log</a> for further details."
     ]
    }
   ],
   "source": [
    "#representing r2 score through bar plot\n",
    "metrics_df.plot(x=\"Name\", y=['R2_Score_train' , 'R2_Score_test'], kind=\"bar\" , title = 'R2 Score Results' , figsize= (10,8)) "
   ]
  },
  {
   "cell_type": "markdown",
   "metadata": {},
   "source": [
    "conclusion\n",
    "*XGBRegressor is performing better having 0.8 r2 value for train dataset 0.76 r2 value for test dataset\n",
    "*We can observe from dataset that single passengers are the most frequent travelers, and the highest fare \n",
    "also seems to come from cabs which carry just 1 passenger\n",
    "*The fares throughout the month mostly seem uniform\n",
    "*During hours 6 PM to 11PM the frequency of cab boarding is very due to peak hours\n",
    "*Fare prices during 2PM to 8PM is bit high compared to all other time might be due to high \n",
    "demands.\n",
    "*Cab fare is high on Friday, Saturday and Monday, may be during weekend and first day of the \n",
    "working day they charge high fares because of high demands of cabs.\n"
   ]
  },
  {
   "cell_type": "code",
   "execution_count": null,
   "metadata": {},
   "outputs": [],
   "source": []
  }
 ],
 "metadata": {
  "kernelspec": {
   "display_name": "Python 3 (ipykernel)",
   "language": "python",
   "name": "python3"
  },
  "language_info": {
   "codemirror_mode": {
    "name": "ipython",
    "version": 3
   },
   "file_extension": ".py",
   "mimetype": "text/x-python",
   "name": "python",
   "nbconvert_exporter": "python",
   "pygments_lexer": "ipython3",
   "version": "3.9.12"
  },
  "vscode": {
   "interpreter": {
    "hash": "909d468064cdd5010b34bc31b76c97f5ffd49d889ffe9f6013be939318f1e616"
   }
  }
 },
 "nbformat": 4,
 "nbformat_minor": 2
}
